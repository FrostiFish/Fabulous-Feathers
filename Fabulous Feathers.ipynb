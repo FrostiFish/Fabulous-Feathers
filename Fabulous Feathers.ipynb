{
 "cells": [
  {
   "cell_type": "code",
   "execution_count": 1,
   "id": "99d0d88a",
   "metadata": {},
   "outputs": [],
   "source": [
    "# Written with help from the Full Control documentation Jupyter notebooks\n",
    "# Created by Hannah Eikens for Final Bachelor Project @ TU/e, department of Industrial Design"
   ]
  },
  {
   "cell_type": "code",
   "execution_count": 2,
   "id": "db5d152b",
   "metadata": {},
   "outputs": [],
   "source": [
    "import fullcontrol as fc\n",
    "from fabulousfeathers import FabulousFeather\n",
    "from math import pi, tau, tan, floor, sqrt"
   ]
  },
  {
   "cell_type": "code",
   "execution_count": 3,
   "id": "6870c874",
   "metadata": {},
   "outputs": [],
   "source": [
    "# printer/gcode parameters\n",
    "\n",
    "design_name = 'fabulous_feathers'\n",
    "nozzle_diameter = 0.4\n",
    "nozzle_temp = 210 # PET 220\n",
    "bed_temp = 50 # PET 65\n",
    "print_speed = 500\n",
    "fan_percent = 0\n",
    "fan_percent_overhang = 50 # fan speed on overhangs\n",
    "retraction = 3.0 # set to 0.0 to disable\n",
    "z_lift = 0.6\n",
    "z_offset = -0.200 # NOT IMPLEMENTED, MANUALLY ADJUST Z OFFSET adjust z-offset to get good first layer\n",
    "material_flow_percent = 99\n",
    "printer_name='ender_3' # generic / ultimaker2plus / prusa_i3 / ender_3 / cr_10 / bambulab_x1 / toolchanger_T0"
   ]
  },
  {
   "cell_type": "code",
   "execution_count": 4,
   "id": "0b0b70fa",
   "metadata": {},
   "outputs": [],
   "source": [
    "# design parameters\n",
    "\n",
    "EW = 1.0*nozzle_diameter # extrusion width\n",
    "EH = 0.2 # extrusion height (and layer height)\n",
    "\n",
    "x_offset = 30 # offset feather from XYZ home\n",
    "y_offset = 40\n",
    "\n",
    "barb_spacing = 0.2 # mm, spacing in between barbs aka the \"hairs\" of the feather\n",
    "barb_quill_connection = 2*EW # distance of barb into the quill body\n",
    "vane_width = 30 # mm, width of the hairy part of the feather\n",
    "vane_rachis_extent = 5 # distance which the vane extends past the tip of the rachis\n",
    "rachis_length = 50 # mm, rachis aka shaft length to which the vane is attached\n",
    "quill_length = 15 # mm, length of the end of the shaft\n",
    "quill_width = 2.0 # mm, width of the quill\n",
    "quill_EH = 0.2 # mm\n",
    "quill_height = 3*quill_EH # mm height of the quill\n",
    "afterfeather_angle = pi/4\n",
    "afterfeather_length = 20\n",
    "afterfeather_extent = 2.75*afterfeather_length # extend past the end of the rachis over the quill\n",
    "wipe_distance = quill_length/2\n",
    "\n",
    "fabulousfeather = FabulousFeather(start_point=fc.Point(x=x_offset, y=y_offset, z=0),\n",
    "                                  EW=EW,\n",
    "                                  EH=EH,\n",
    "                                  barb_spacing=barb_spacing,\n",
    "                                  barb_quill_connection=barb_quill_connection,\n",
    "                                  vane_width=vane_width,\n",
    "                                  vane_rachis_extent=vane_rachis_extent,\n",
    "                                  rachis_length=rachis_length,\n",
    "                                  quill_length=quill_length,\n",
    "                                  quill_width=quill_width,\n",
    "                                  quill_EH=quill_EH,\n",
    "                                  quill_height=quill_height,\n",
    "                                  afterfeather_angle=afterfeather_angle,\n",
    "                                  afterfeather_length=afterfeather_length,\n",
    "                                  afterfeather_extent=afterfeather_extent,\n",
    "                                  z_lift=z_lift,\n",
    "                                  wipe_distance=wipe_distance\n",
    "                                 )"
   ]
  },
  {
   "cell_type": "code",
   "execution_count": 5,
   "id": "a8b11fc3",
   "metadata": {},
   "outputs": [],
   "source": [
    "# generate the design (make sure you've run the above cells before running this cell)\n",
    "\n",
    "steps = fabulousfeather.steps()"
   ]
  },
  {
   "cell_type": "code",
   "execution_count": 6,
   "id": "baf64b0f",
   "metadata": {
    "scrolled": false
   },
   "outputs": [
    {
     "data": {
      "application/vnd.plotly.v1+json": {
       "config": {
        "plotlyServerURL": "https://plot.ly"
       },
       "data": [
        {
         "line": {
          "color": [
           "rgb(191.25, 127.50, 127.50)",
           "rgb(0.00, 0.00, 255.00)"
          ],
          "width": 4
         },
         "mode": "lines",
         "showlegend": false,
         "type": "scatter3d",
         "x": [
          45.2,
          42.5
         ],
         "y": [
          40.2,
          54.309
         ],
         "z": [
          0.2,
          0.2
         ]
        },
        {
         "line": {
          "color": [
           "rgb(191.25, 127.50, 127.50)",
           "rgb(191.25, 127.50, 127.50)"
          ],
          "width": 1
         },
         "mode": "lines",
         "showlegend": false,
         "type": "scatter3d",
         "x": [
          42.5,
          45.8
         ],
         "y": [
          54.309,
          40.2
         ],
         "z": [
          0.2,
          0.2
         ]
        },
        {
         "line": {
          "color": [
           "rgb(0.00, 0.00, 255.00)",
           "rgb(0.00, 0.00, 255.00)"
          ],
          "width": 4
         },
         "mode": "lines",
         "showlegend": false,
         "type": "scatter3d",
         "x": [
          45.8,
          43.182
         ],
         "y": [
          40.2,
          54.351
         ],
         "z": [
          0.2,
          0.2
         ]
        },
        {
         "line": {
          "color": [
           "rgb(191.25, 127.50, 127.50)",
           "rgb(191.25, 127.50, 127.50)"
          ],
          "width": 1
         },
         "mode": "lines",
         "showlegend": false,
         "type": "scatter3d",
         "x": [
          43.182,
          46.4
         ],
         "y": [
          54.351,
          40.2
         ],
         "z": [
          0.2,
          0.2
         ]
        },
        {
         "line": {
          "color": [
           "rgb(0.00, 0.00, 255.00)",
           "rgb(0.00, 0.00, 255.00)"
          ],
          "width": 4
         },
         "mode": "lines",
         "showlegend": false,
         "type": "scatter3d",
         "x": [
          46.4,
          43.864
         ],
         "y": [
          40.2,
          54.392
         ],
         "z": [
          0.2,
          0.2
         ]
        },
        {
         "line": {
          "color": [
           "rgb(191.25, 127.50, 127.50)",
           "rgb(191.25, 127.50, 127.50)"
          ],
          "width": 1
         },
         "mode": "lines",
         "showlegend": false,
         "type": "scatter3d",
         "x": [
          43.864,
          47
         ],
         "y": [
          54.392,
          40.2
         ],
         "z": [
          0.2,
          0.2
         ]
        },
        {
         "line": {
          "color": [
           "rgb(0.00, 0.00, 255.00)",
           "rgb(0.00, 0.00, 255.00)"
          ],
          "width": 4
         },
         "mode": "lines",
         "showlegend": false,
         "type": "scatter3d",
         "x": [
          47,
          44.545
         ],
         "y": [
          40.2,
          54.431
         ],
         "z": [
          0.2,
          0.2
         ]
        },
        {
         "line": {
          "color": [
           "rgb(191.25, 127.50, 127.50)",
           "rgb(191.25, 127.50, 127.50)"
          ],
          "width": 1
         },
         "mode": "lines",
         "showlegend": false,
         "type": "scatter3d",
         "x": [
          44.545,
          47.6
         ],
         "y": [
          54.431,
          40.2
         ],
         "z": [
          0.2,
          0.2
         ]
        },
        {
         "line": {
          "color": [
           "rgb(0.00, 0.00, 255.00)",
           "rgb(0.00, 0.00, 255.00)"
          ],
          "width": 4
         },
         "mode": "lines",
         "showlegend": false,
         "type": "scatter3d",
         "x": [
          47.6,
          45.227
         ],
         "y": [
          40.2,
          54.469
         ],
         "z": [
          0.2,
          0.2
         ]
        },
        {
         "line": {
          "color": [
           "rgb(191.25, 127.50, 127.50)",
           "rgb(191.25, 127.50, 127.50)"
          ],
          "width": 1
         },
         "mode": "lines",
         "showlegend": false,
         "type": "scatter3d",
         "x": [
          45.227,
          48.2
         ],
         "y": [
          54.469,
          40.2
         ],
         "z": [
          0.2,
          0.2
         ]
        },
        {
         "line": {
          "color": [
           "rgb(0.00, 0.00, 255.00)",
           "rgb(0.00, 0.00, 255.00)"
          ],
          "width": 4
         },
         "mode": "lines",
         "showlegend": false,
         "type": "scatter3d",
         "x": [
          48.2,
          45.909
         ],
         "y": [
          40.2,
          54.506
         ],
         "z": [
          0.2,
          0.2
         ]
        },
        {
         "line": {
          "color": [
           "rgb(191.25, 127.50, 127.50)",
           "rgb(191.25, 127.50, 127.50)"
          ],
          "width": 1
         },
         "mode": "lines",
         "showlegend": false,
         "type": "scatter3d",
         "x": [
          45.909,
          48.8
         ],
         "y": [
          54.506,
          40.2
         ],
         "z": [
          0.2,
          0.2
         ]
        },
        {
         "line": {
          "color": [
           "rgb(0.00, 0.00, 255.00)",
           "rgb(0.00, 0.00, 255.00)"
          ],
          "width": 4
         },
         "mode": "lines",
         "showlegend": false,
         "type": "scatter3d",
         "x": [
          48.8,
          46.591
         ],
         "y": [
          40.2,
          54.541
         ],
         "z": [
          0.2,
          0.2
         ]
        },
        {
         "line": {
          "color": [
           "rgb(191.25, 127.50, 127.50)",
           "rgb(191.25, 127.50, 127.50)"
          ],
          "width": 1
         },
         "mode": "lines",
         "showlegend": false,
         "type": "scatter3d",
         "x": [
          46.591,
          49.4
         ],
         "y": [
          54.541,
          40.2
         ],
         "z": [
          0.2,
          0.2
         ]
        },
        {
         "line": {
          "color": [
           "rgb(0.00, 0.00, 255.00)",
           "rgb(0.00, 0.00, 255.00)"
          ],
          "width": 4
         },
         "mode": "lines",
         "showlegend": false,
         "type": "scatter3d",
         "x": [
          49.4,
          47.273
         ],
         "y": [
          40.2,
          54.575
         ],
         "z": [
          0.2,
          0.2
         ]
        },
        {
         "line": {
          "color": [
           "rgb(191.25, 127.50, 127.50)",
           "rgb(191.25, 127.50, 127.50)"
          ],
          "width": 1
         },
         "mode": "lines",
         "showlegend": false,
         "type": "scatter3d",
         "x": [
          47.273,
          50
         ],
         "y": [
          54.575,
          40.2
         ],
         "z": [
          0.2,
          0.2
         ]
        },
        {
         "line": {
          "color": [
           "rgb(0.00, 0.00, 255.00)",
           "rgb(0.00, 0.00, 255.00)"
          ],
          "width": 4
         },
         "mode": "lines",
         "showlegend": false,
         "type": "scatter3d",
         "x": [
          50,
          47.955
         ],
         "y": [
          40.2,
          54.607
         ],
         "z": [
          0.2,
          0.2
         ]
        },
        {
         "line": {
          "color": [
           "rgb(191.25, 127.50, 127.50)",
           "rgb(191.25, 127.50, 127.50)"
          ],
          "width": 1
         },
         "mode": "lines",
         "showlegend": false,
         "type": "scatter3d",
         "x": [
          47.955,
          50.6
         ],
         "y": [
          54.607,
          40.2
         ],
         "z": [
          0.2,
          0.2
         ]
        },
        {
         "line": {
          "color": [
           "rgb(0.00, 0.00, 255.00)",
           "rgb(0.00, 0.00, 255.00)"
          ],
          "width": 4
         },
         "mode": "lines",
         "showlegend": false,
         "type": "scatter3d",
         "x": [
          50.6,
          48.636
         ],
         "y": [
          40.2,
          54.639
         ],
         "z": [
          0.2,
          0.2
         ]
        },
        {
         "line": {
          "color": [
           "rgb(191.25, 127.50, 127.50)",
           "rgb(191.25, 127.50, 127.50)"
          ],
          "width": 1
         },
         "mode": "lines",
         "showlegend": false,
         "type": "scatter3d",
         "x": [
          48.636,
          51.2
         ],
         "y": [
          54.639,
          40.2
         ],
         "z": [
          0.2,
          0.2
         ]
        },
        {
         "line": {
          "color": [
           "rgb(0.00, 0.00, 255.00)",
           "rgb(0.00, 0.00, 255.00)"
          ],
          "width": 4
         },
         "mode": "lines",
         "showlegend": false,
         "type": "scatter3d",
         "x": [
          51.2,
          49.318
         ],
         "y": [
          40.2,
          54.668
         ],
         "z": [
          0.2,
          0.2
         ]
        },
        {
         "line": {
          "color": [
           "rgb(191.25, 127.50, 127.50)",
           "rgb(191.25, 127.50, 127.50)"
          ],
          "width": 1
         },
         "mode": "lines",
         "showlegend": false,
         "type": "scatter3d",
         "x": [
          49.318,
          51.8
         ],
         "y": [
          54.668,
          40.2
         ],
         "z": [
          0.2,
          0.2
         ]
        },
        {
         "line": {
          "color": [
           "rgb(0.00, 0.00, 255.00)",
           "rgb(0.00, 0.00, 255.00)"
          ],
          "width": 4
         },
         "mode": "lines",
         "showlegend": false,
         "type": "scatter3d",
         "x": [
          51.8,
          50
         ],
         "y": [
          40.2,
          54.697
         ],
         "z": [
          0.2,
          0.2
         ]
        },
        {
         "line": {
          "color": [
           "rgb(191.25, 127.50, 127.50)",
           "rgb(191.25, 127.50, 127.50)"
          ],
          "width": 1
         },
         "mode": "lines",
         "showlegend": false,
         "type": "scatter3d",
         "x": [
          50,
          52.4
         ],
         "y": [
          54.697,
          40.2
         ],
         "z": [
          0.2,
          0.2
         ]
        },
        {
         "line": {
          "color": [
           "rgb(0.00, 0.00, 255.00)",
           "rgb(0.00, 0.00, 255.00)"
          ],
          "width": 4
         },
         "mode": "lines",
         "showlegend": false,
         "type": "scatter3d",
         "x": [
          52.4,
          50.682
         ],
         "y": [
          40.2,
          54.724
         ],
         "z": [
          0.2,
          0.2
         ]
        },
        {
         "line": {
          "color": [
           "rgb(191.25, 127.50, 127.50)",
           "rgb(191.25, 127.50, 127.50)"
          ],
          "width": 1
         },
         "mode": "lines",
         "showlegend": false,
         "type": "scatter3d",
         "x": [
          50.682,
          53
         ],
         "y": [
          54.724,
          40.2
         ],
         "z": [
          0.2,
          0.2
         ]
        },
        {
         "line": {
          "color": [
           "rgb(0.00, 0.00, 255.00)",
           "rgb(0.00, 0.00, 255.00)"
          ],
          "width": 4
         },
         "mode": "lines",
         "showlegend": false,
         "type": "scatter3d",
         "x": [
          53,
          51.364
         ],
         "y": [
          40.2,
          54.75
         ],
         "z": [
          0.2,
          0.2
         ]
        },
        {
         "line": {
          "color": [
           "rgb(191.25, 127.50, 127.50)",
           "rgb(191.25, 127.50, 127.50)"
          ],
          "width": 1
         },
         "mode": "lines",
         "showlegend": false,
         "type": "scatter3d",
         "x": [
          51.364,
          53.6
         ],
         "y": [
          54.75,
          40.2
         ],
         "z": [
          0.2,
          0.2
         ]
        },
        {
         "line": {
          "color": [
           "rgb(0.00, 0.00, 255.00)",
           "rgb(0.00, 0.00, 255.00)"
          ],
          "width": 4
         },
         "mode": "lines",
         "showlegend": false,
         "type": "scatter3d",
         "x": [
          53.6,
          52.045
         ],
         "y": [
          40.2,
          54.775
         ],
         "z": [
          0.2,
          0.2
         ]
        },
        {
         "line": {
          "color": [
           "rgb(191.25, 127.50, 127.50)",
           "rgb(191.25, 127.50, 127.50)"
          ],
          "width": 1
         },
         "mode": "lines",
         "showlegend": false,
         "type": "scatter3d",
         "x": [
          52.045,
          54.2
         ],
         "y": [
          54.775,
          40.2
         ],
         "z": [
          0.2,
          0.2
         ]
        },
        {
         "line": {
          "color": [
           "rgb(0.00, 0.00, 255.00)",
           "rgb(0.00, 0.00, 255.00)"
          ],
          "width": 4
         },
         "mode": "lines",
         "showlegend": false,
         "type": "scatter3d",
         "x": [
          54.2,
          52.727
         ],
         "y": [
          40.2,
          54.798
         ],
         "z": [
          0.2,
          0.2
         ]
        },
        {
         "line": {
          "color": [
           "rgb(191.25, 127.50, 127.50)",
           "rgb(191.25, 127.50, 127.50)"
          ],
          "width": 1
         },
         "mode": "lines",
         "showlegend": false,
         "type": "scatter3d",
         "x": [
          52.727,
          54.8
         ],
         "y": [
          54.798,
          40.2
         ],
         "z": [
          0.2,
          0.2
         ]
        },
        {
         "line": {
          "color": [
           "rgb(0.00, 0.00, 255.00)",
           "rgb(0.00, 0.00, 255.00)"
          ],
          "width": 4
         },
         "mode": "lines",
         "showlegend": false,
         "type": "scatter3d",
         "x": [
          54.8,
          53.409
         ],
         "y": [
          40.2,
          54.82
         ],
         "z": [
          0.2,
          0.2
         ]
        },
        {
         "line": {
          "color": [
           "rgb(191.25, 127.50, 127.50)",
           "rgb(191.25, 127.50, 127.50)"
          ],
          "width": 1
         },
         "mode": "lines",
         "showlegend": false,
         "type": "scatter3d",
         "x": [
          53.409,
          55.4
         ],
         "y": [
          54.82,
          40.2
         ],
         "z": [
          0.2,
          0.2
         ]
        },
        {
         "line": {
          "color": [
           "rgb(0.00, 0.00, 255.00)",
           "rgb(0.00, 0.00, 255.00)"
          ],
          "width": 4
         },
         "mode": "lines",
         "showlegend": false,
         "type": "scatter3d",
         "x": [
          55.4,
          54.091
         ],
         "y": [
          40.2,
          54.84
         ],
         "z": [
          0.2,
          0.2
         ]
        },
        {
         "line": {
          "color": [
           "rgb(191.25, 127.50, 127.50)",
           "rgb(191.25, 127.50, 127.50)"
          ],
          "width": 1
         },
         "mode": "lines",
         "showlegend": false,
         "type": "scatter3d",
         "x": [
          54.091,
          56
         ],
         "y": [
          54.84,
          40.2
         ],
         "z": [
          0.2,
          0.2
         ]
        },
        {
         "line": {
          "color": [
           "rgb(0.00, 0.00, 255.00)",
           "rgb(0.00, 0.00, 255.00)"
          ],
          "width": 4
         },
         "mode": "lines",
         "showlegend": false,
         "type": "scatter3d",
         "x": [
          56,
          54.773
         ],
         "y": [
          40.2,
          54.86
         ],
         "z": [
          0.2,
          0.2
         ]
        },
        {
         "line": {
          "color": [
           "rgb(191.25, 127.50, 127.50)",
           "rgb(191.25, 127.50, 127.50)"
          ],
          "width": 1
         },
         "mode": "lines",
         "showlegend": false,
         "type": "scatter3d",
         "x": [
          54.773,
          56.6
         ],
         "y": [
          54.86,
          40.2
         ],
         "z": [
          0.2,
          0.2
         ]
        },
        {
         "line": {
          "color": [
           "rgb(0.00, 0.00, 255.00)",
           "rgb(0.00, 0.00, 255.00)"
          ],
          "width": 4
         },
         "mode": "lines",
         "showlegend": false,
         "type": "scatter3d",
         "x": [
          56.6,
          55.455
         ],
         "y": [
          40.2,
          54.878
         ],
         "z": [
          0.2,
          0.2
         ]
        },
        {
         "line": {
          "color": [
           "rgb(191.25, 127.50, 127.50)",
           "rgb(191.25, 127.50, 127.50)"
          ],
          "width": 1
         },
         "mode": "lines",
         "showlegend": false,
         "type": "scatter3d",
         "x": [
          55.455,
          57.2
         ],
         "y": [
          54.878,
          40.2
         ],
         "z": [
          0.2,
          0.2
         ]
        },
        {
         "line": {
          "color": [
           "rgb(0.00, 0.00, 255.00)",
           "rgb(0.00, 0.00, 255.00)"
          ],
          "width": 4
         },
         "mode": "lines",
         "showlegend": false,
         "type": "scatter3d",
         "x": [
          57.2,
          56.136
         ],
         "y": [
          40.2,
          54.895
         ],
         "z": [
          0.2,
          0.2
         ]
        },
        {
         "line": {
          "color": [
           "rgb(191.25, 127.50, 127.50)",
           "rgb(191.25, 127.50, 127.50)"
          ],
          "width": 1
         },
         "mode": "lines",
         "showlegend": false,
         "type": "scatter3d",
         "x": [
          56.136,
          57.8
         ],
         "y": [
          54.895,
          40.2
         ],
         "z": [
          0.2,
          0.2
         ]
        },
        {
         "line": {
          "color": [
           "rgb(0.00, 0.00, 255.00)",
           "rgb(0.00, 0.00, 255.00)"
          ],
          "width": 4
         },
         "mode": "lines",
         "showlegend": false,
         "type": "scatter3d",
         "x": [
          57.8,
          56.818
         ],
         "y": [
          40.2,
          54.91
         ],
         "z": [
          0.2,
          0.2
         ]
        },
        {
         "line": {
          "color": [
           "rgb(191.25, 127.50, 127.50)",
           "rgb(191.25, 127.50, 127.50)"
          ],
          "width": 1
         },
         "mode": "lines",
         "showlegend": false,
         "type": "scatter3d",
         "x": [
          56.818,
          58.4
         ],
         "y": [
          54.91,
          40.2
         ],
         "z": [
          0.2,
          0.2
         ]
        },
        {
         "line": {
          "color": [
           "rgb(0.00, 0.00, 255.00)",
           "rgb(0.00, 0.00, 255.00)"
          ],
          "width": 4
         },
         "mode": "lines",
         "showlegend": false,
         "type": "scatter3d",
         "x": [
          58.4,
          57.5
         ],
         "y": [
          40.2,
          54.925
         ],
         "z": [
          0.2,
          0.2
         ]
        },
        {
         "line": {
          "color": [
           "rgb(191.25, 127.50, 127.50)",
           "rgb(191.25, 127.50, 127.50)"
          ],
          "width": 1
         },
         "mode": "lines",
         "showlegend": false,
         "type": "scatter3d",
         "x": [
          57.5,
          59
         ],
         "y": [
          54.925,
          40.2
         ],
         "z": [
          0.2,
          0.2
         ]
        },
        {
         "line": {
          "color": [
           "rgb(0.00, 0.00, 255.00)",
           "rgb(0.00, 0.00, 255.00)"
          ],
          "width": 4
         },
         "mode": "lines",
         "showlegend": false,
         "type": "scatter3d",
         "x": [
          59,
          58.182
         ],
         "y": [
          40.2,
          54.938
         ],
         "z": [
          0.2,
          0.2
         ]
        },
        {
         "line": {
          "color": [
           "rgb(191.25, 127.50, 127.50)",
           "rgb(191.25, 127.50, 127.50)"
          ],
          "width": 1
         },
         "mode": "lines",
         "showlegend": false,
         "type": "scatter3d",
         "x": [
          58.182,
          59.6
         ],
         "y": [
          54.938,
          40.2
         ],
         "z": [
          0.2,
          0.2
         ]
        },
        {
         "line": {
          "color": [
           "rgb(0.00, 0.00, 255.00)",
           "rgb(0.00, 0.00, 255.00)"
          ],
          "width": 4
         },
         "mode": "lines",
         "showlegend": false,
         "type": "scatter3d",
         "x": [
          59.6,
          58.864
         ],
         "y": [
          40.2,
          54.95
         ],
         "z": [
          0.2,
          0.2
         ]
        },
        {
         "line": {
          "color": [
           "rgb(191.25, 127.50, 127.50)",
           "rgb(191.25, 127.50, 127.50)"
          ],
          "width": 1
         },
         "mode": "lines",
         "showlegend": false,
         "type": "scatter3d",
         "x": [
          58.864,
          60.2
         ],
         "y": [
          54.95,
          40.2
         ],
         "z": [
          0.2,
          0.2
         ]
        },
        {
         "line": {
          "color": [
           "rgb(0.00, 0.00, 255.00)",
           "rgb(0.00, 0.00, 255.00)"
          ],
          "width": 4
         },
         "mode": "lines",
         "showlegend": false,
         "type": "scatter3d",
         "x": [
          60.2,
          59.545
         ],
         "y": [
          40.2,
          54.96
         ],
         "z": [
          0.2,
          0.2
         ]
        },
        {
         "line": {
          "color": [
           "rgb(191.25, 127.50, 127.50)",
           "rgb(191.25, 127.50, 127.50)"
          ],
          "width": 1
         },
         "mode": "lines",
         "showlegend": false,
         "type": "scatter3d",
         "x": [
          59.545,
          60.8
         ],
         "y": [
          54.96,
          40.2
         ],
         "z": [
          0.2,
          0.2
         ]
        },
        {
         "line": {
          "color": [
           "rgb(0.00, 0.00, 255.00)",
           "rgb(0.00, 0.00, 255.00)"
          ],
          "width": 4
         },
         "mode": "lines",
         "showlegend": false,
         "type": "scatter3d",
         "x": [
          60.8,
          60.227
         ],
         "y": [
          40.2,
          54.97
         ],
         "z": [
          0.2,
          0.2
         ]
        },
        {
         "line": {
          "color": [
           "rgb(191.25, 127.50, 127.50)",
           "rgb(191.25, 127.50, 127.50)"
          ],
          "width": 1
         },
         "mode": "lines",
         "showlegend": false,
         "type": "scatter3d",
         "x": [
          60.227,
          61.4
         ],
         "y": [
          54.97,
          40.2
         ],
         "z": [
          0.2,
          0.2
         ]
        },
        {
         "line": {
          "color": [
           "rgb(0.00, 0.00, 255.00)",
           "rgb(0.00, 0.00, 255.00)"
          ],
          "width": 4
         },
         "mode": "lines",
         "showlegend": false,
         "type": "scatter3d",
         "x": [
          61.4,
          60.909
         ],
         "y": [
          40.2,
          54.978
         ],
         "z": [
          0.2,
          0.2
         ]
        },
        {
         "line": {
          "color": [
           "rgb(191.25, 127.50, 127.50)",
           "rgb(191.25, 127.50, 127.50)"
          ],
          "width": 1
         },
         "mode": "lines",
         "showlegend": false,
         "type": "scatter3d",
         "x": [
          60.909,
          62
         ],
         "y": [
          54.978,
          40.2
         ],
         "z": [
          0.2,
          0.2
         ]
        },
        {
         "line": {
          "color": [
           "rgb(0.00, 0.00, 255.00)",
           "rgb(0.00, 0.00, 255.00)"
          ],
          "width": 4
         },
         "mode": "lines",
         "showlegend": false,
         "type": "scatter3d",
         "x": [
          62,
          61.591
         ],
         "y": [
          40.2,
          54.984
         ],
         "z": [
          0.2,
          0.2
         ]
        },
        {
         "line": {
          "color": [
           "rgb(191.25, 127.50, 127.50)",
           "rgb(191.25, 127.50, 127.50)"
          ],
          "width": 1
         },
         "mode": "lines",
         "showlegend": false,
         "type": "scatter3d",
         "x": [
          61.591,
          62.6
         ],
         "y": [
          54.984,
          40.2
         ],
         "z": [
          0.2,
          0.2
         ]
        },
        {
         "line": {
          "color": [
           "rgb(0.00, 0.00, 255.00)",
           "rgb(0.00, 0.00, 255.00)"
          ],
          "width": 4
         },
         "mode": "lines",
         "showlegend": false,
         "type": "scatter3d",
         "x": [
          62.6,
          62.273
         ],
         "y": [
          40.2,
          54.99
         ],
         "z": [
          0.2,
          0.2
         ]
        },
        {
         "line": {
          "color": [
           "rgb(191.25, 127.50, 127.50)",
           "rgb(191.25, 127.50, 127.50)"
          ],
          "width": 1
         },
         "mode": "lines",
         "showlegend": false,
         "type": "scatter3d",
         "x": [
          62.273,
          63.2
         ],
         "y": [
          54.99,
          40.2
         ],
         "z": [
          0.2,
          0.2
         ]
        },
        {
         "line": {
          "color": [
           "rgb(0.00, 0.00, 255.00)",
           "rgb(0.00, 0.00, 255.00)"
          ],
          "width": 4
         },
         "mode": "lines",
         "showlegend": false,
         "type": "scatter3d",
         "x": [
          63.2,
          62.955
         ],
         "y": [
          40.2,
          54.994
         ],
         "z": [
          0.2,
          0.2
         ]
        },
        {
         "line": {
          "color": [
           "rgb(191.25, 127.50, 127.50)",
           "rgb(191.25, 127.50, 127.50)"
          ],
          "width": 1
         },
         "mode": "lines",
         "showlegend": false,
         "type": "scatter3d",
         "x": [
          62.955,
          63.8
         ],
         "y": [
          54.994,
          40.2
         ],
         "z": [
          0.2,
          0.2
         ]
        },
        {
         "line": {
          "color": [
           "rgb(0.00, 0.00, 255.00)",
           "rgb(0.00, 0.00, 255.00)"
          ],
          "width": 4
         },
         "mode": "lines",
         "showlegend": false,
         "type": "scatter3d",
         "x": [
          63.8,
          63.636
         ],
         "y": [
          40.2,
          54.998
         ],
         "z": [
          0.2,
          0.2
         ]
        },
        {
         "line": {
          "color": [
           "rgb(191.25, 127.50, 127.50)",
           "rgb(191.25, 127.50, 127.50)"
          ],
          "width": 1
         },
         "mode": "lines",
         "showlegend": false,
         "type": "scatter3d",
         "x": [
          63.636,
          64.4
         ],
         "y": [
          54.998,
          40.2
         ],
         "z": [
          0.2,
          0.2
         ]
        },
        {
         "line": {
          "color": [
           "rgb(0.00, 0.00, 255.00)",
           "rgb(0.00, 0.00, 255.00)"
          ],
          "width": 4
         },
         "mode": "lines",
         "showlegend": false,
         "type": "scatter3d",
         "x": [
          64.4,
          64.318
         ],
         "y": [
          40.2,
          54.999
         ],
         "z": [
          0.2,
          0.2
         ]
        },
        {
         "line": {
          "color": [
           "rgb(191.25, 127.50, 127.50)",
           "rgb(191.25, 127.50, 127.50)"
          ],
          "width": 1
         },
         "mode": "lines",
         "showlegend": false,
         "type": "scatter3d",
         "x": [
          64.318,
          65
         ],
         "y": [
          54.999,
          40.2
         ],
         "z": [
          0.2,
          0.2
         ]
        },
        {
         "line": {
          "color": [
           "rgb(0.00, 0.00, 255.00)",
           "rgb(0.00, 0.00, 255.00)"
          ],
          "width": 4
         },
         "mode": "lines",
         "showlegend": false,
         "type": "scatter3d",
         "x": [
          65,
          65
         ],
         "y": [
          40.2,
          55
         ],
         "z": [
          0.2,
          0.2
         ]
        },
        {
         "line": {
          "color": [
           "rgb(191.25, 127.50, 127.50)",
           "rgb(191.25, 127.50, 127.50)"
          ],
          "width": 1
         },
         "mode": "lines",
         "showlegend": false,
         "type": "scatter3d",
         "x": [
          65,
          65.602
         ],
         "y": [
          55,
          40.2
         ],
         "z": [
          0.2,
          0.2
         ]
        },
        {
         "line": {
          "color": [
           "rgb(0.00, 0.00, 255.00)",
           "rgb(0.00, 0.00, 255.00)"
          ],
          "width": 4
         },
         "mode": "lines",
         "showlegend": false,
         "type": "scatter3d",
         "x": [
          65.602,
          65.636
         ],
         "y": [
          40.2,
          54.999
         ],
         "z": [
          0.2,
          0.2
         ]
        },
        {
         "line": {
          "color": [
           "rgb(191.25, 127.50, 127.50)",
           "rgb(191.25, 127.50, 127.50)"
          ],
          "width": 1
         },
         "mode": "lines",
         "showlegend": false,
         "type": "scatter3d",
         "x": [
          65.636,
          66.205
         ],
         "y": [
          54.999,
          40.2
         ],
         "z": [
          0.2,
          0.2
         ]
        },
        {
         "line": {
          "color": [
           "rgb(0.00, 0.00, 255.00)",
           "rgb(0.00, 0.00, 255.00)"
          ],
          "width": 4
         },
         "mode": "lines",
         "showlegend": false,
         "type": "scatter3d",
         "x": [
          66.205,
          66.272
         ],
         "y": [
          40.2,
          54.996
         ],
         "z": [
          0.2,
          0.2
         ]
        },
        {
         "line": {
          "color": [
           "rgb(191.25, 127.50, 127.50)",
           "rgb(191.25, 127.50, 127.50)"
          ],
          "width": 1
         },
         "mode": "lines",
         "showlegend": false,
         "type": "scatter3d",
         "x": [
          66.272,
          66.807
         ],
         "y": [
          54.996,
          40.2
         ],
         "z": [
          0.2,
          0.2
         ]
        },
        {
         "line": {
          "color": [
           "rgb(0.00, 0.00, 255.00)",
           "rgb(0.00, 0.00, 255.00)"
          ],
          "width": 4
         },
         "mode": "lines",
         "showlegend": false,
         "type": "scatter3d",
         "x": [
          66.807,
          66.908
         ],
         "y": [
          40.2,
          54.991
         ],
         "z": [
          0.2,
          0.2
         ]
        },
        {
         "line": {
          "color": [
           "rgb(191.25, 127.50, 127.50)",
           "rgb(191.25, 127.50, 127.50)"
          ],
          "width": 1
         },
         "mode": "lines",
         "showlegend": false,
         "type": "scatter3d",
         "x": [
          66.908,
          67.41
         ],
         "y": [
          54.991,
          40.2
         ],
         "z": [
          0.2,
          0.2
         ]
        },
        {
         "line": {
          "color": [
           "rgb(0.00, 0.00, 255.00)",
           "rgb(0.00, 0.00, 255.00)"
          ],
          "width": 4
         },
         "mode": "lines",
         "showlegend": false,
         "type": "scatter3d",
         "x": [
          67.41,
          67.545
         ],
         "y": [
          40.2,
          54.984
         ],
         "z": [
          0.2,
          0.2
         ]
        },
        {
         "line": {
          "color": [
           "rgb(191.25, 127.50, 127.50)",
           "rgb(191.25, 127.50, 127.50)"
          ],
          "width": 1
         },
         "mode": "lines",
         "showlegend": false,
         "type": "scatter3d",
         "x": [
          67.545,
          68.012
         ],
         "y": [
          54.984,
          40.2
         ],
         "z": [
          0.2,
          0.2
         ]
        },
        {
         "line": {
          "color": [
           "rgb(0.00, 0.00, 255.00)",
           "rgb(0.00, 0.00, 255.00)"
          ],
          "width": 4
         },
         "mode": "lines",
         "showlegend": false,
         "type": "scatter3d",
         "x": [
          68.012,
          68.181
         ],
         "y": [
          40.2,
          54.975
         ],
         "z": [
          0.2,
          0.2
         ]
        },
        {
         "line": {
          "color": [
           "rgb(191.25, 127.50, 127.50)",
           "rgb(191.25, 127.50, 127.50)"
          ],
          "width": 1
         },
         "mode": "lines",
         "showlegend": false,
         "type": "scatter3d",
         "x": [
          68.181,
          68.614
         ],
         "y": [
          54.975,
          40.199
         ],
         "z": [
          0.2,
          0.2
         ]
        },
        {
         "line": {
          "color": [
           "rgb(0.00, 0.00, 255.00)",
           "rgb(0.00, 0.00, 255.00)"
          ],
          "width": 4
         },
         "mode": "lines",
         "showlegend": false,
         "type": "scatter3d",
         "x": [
          68.614,
          68.817
         ],
         "y": [
          40.199,
          54.964
         ],
         "z": [
          0.2,
          0.2
         ]
        },
        {
         "line": {
          "color": [
           "rgb(191.25, 127.50, 127.50)",
           "rgb(191.25, 127.50, 127.50)"
          ],
          "width": 1
         },
         "mode": "lines",
         "showlegend": false,
         "type": "scatter3d",
         "x": [
          68.817,
          69.217
         ],
         "y": [
          54.964,
          40.199
         ],
         "z": [
          0.2,
          0.2
         ]
        },
        {
         "line": {
          "color": [
           "rgb(0.00, 0.00, 255.00)",
           "rgb(0.00, 0.00, 255.00)"
          ],
          "width": 4
         },
         "mode": "lines",
         "showlegend": false,
         "type": "scatter3d",
         "x": [
          69.217,
          69.453
         ],
         "y": [
          40.199,
          54.951
         ],
         "z": [
          0.2,
          0.2
         ]
        },
        {
         "line": {
          "color": [
           "rgb(191.25, 127.50, 127.50)",
           "rgb(191.25, 127.50, 127.50)"
          ],
          "width": 1
         },
         "mode": "lines",
         "showlegend": false,
         "type": "scatter3d",
         "x": [
          69.453,
          69.819
         ],
         "y": [
          54.951,
          40.199
         ],
         "z": [
          0.2,
          0.2
         ]
        },
        {
         "line": {
          "color": [
           "rgb(0.00, 0.00, 255.00)",
           "rgb(0.00, 0.00, 255.00)"
          ],
          "width": 4
         },
         "mode": "lines",
         "showlegend": false,
         "type": "scatter3d",
         "x": [
          69.819,
          70.089
         ],
         "y": [
          40.199,
          54.936
         ],
         "z": [
          0.2,
          0.2
         ]
        },
        {
         "line": {
          "color": [
           "rgb(191.25, 127.50, 127.50)",
           "rgb(191.25, 127.50, 127.50)"
          ],
          "width": 1
         },
         "mode": "lines",
         "showlegend": false,
         "type": "scatter3d",
         "x": [
          70.089,
          70.422
         ],
         "y": [
          54.936,
          40.199
         ],
         "z": [
          0.2,
          0.2
         ]
        },
        {
         "line": {
          "color": [
           "rgb(0.00, 0.00, 255.00)",
           "rgb(0.00, 0.00, 255.00)"
          ],
          "width": 4
         },
         "mode": "lines",
         "showlegend": false,
         "type": "scatter3d",
         "x": [
          70.422,
          70.725
         ],
         "y": [
          40.199,
          54.919
         ],
         "z": [
          0.2,
          0.2
         ]
        },
        {
         "line": {
          "color": [
           "rgb(191.25, 127.50, 127.50)",
           "rgb(191.25, 127.50, 127.50)"
          ],
          "width": 1
         },
         "mode": "lines",
         "showlegend": false,
         "type": "scatter3d",
         "x": [
          70.725,
          71.024
         ],
         "y": [
          54.919,
          40.199
         ],
         "z": [
          0.2,
          0.2
         ]
        },
        {
         "line": {
          "color": [
           "rgb(0.00, 0.00, 255.00)",
           "rgb(0.00, 0.00, 255.00)"
          ],
          "width": 4
         },
         "mode": "lines",
         "showlegend": false,
         "type": "scatter3d",
         "x": [
          71.024,
          71.361
         ],
         "y": [
          40.199,
          54.899
         ],
         "z": [
          0.2,
          0.2
         ]
        },
        {
         "line": {
          "color": [
           "rgb(191.25, 127.50, 127.50)",
           "rgb(191.25, 127.50, 127.50)"
          ],
          "width": 1
         },
         "mode": "lines",
         "showlegend": false,
         "type": "scatter3d",
         "x": [
          71.361,
          71.627
         ],
         "y": [
          54.899,
          40.198
         ],
         "z": [
          0.2,
          0.2
         ]
        },
        {
         "line": {
          "color": [
           "rgb(0.00, 0.00, 255.00)",
           "rgb(0.00, 0.00, 255.00)"
          ],
          "width": 4
         },
         "mode": "lines",
         "showlegend": false,
         "type": "scatter3d",
         "x": [
          71.627,
          71.998
         ],
         "y": [
          40.198,
          54.878
         ],
         "z": [
          0.2,
          0.2
         ]
        },
        {
         "line": {
          "color": [
           "rgb(191.25, 127.50, 127.50)",
           "rgb(191.25, 127.50, 127.50)"
          ],
          "width": 1
         },
         "mode": "lines",
         "showlegend": false,
         "type": "scatter3d",
         "x": [
          71.998,
          72.229
         ],
         "y": [
          54.878,
          40.198
         ],
         "z": [
          0.2,
          0.2
         ]
        },
        {
         "line": {
          "color": [
           "rgb(0.00, 0.00, 255.00)",
           "rgb(0.00, 0.00, 255.00)"
          ],
          "width": 4
         },
         "mode": "lines",
         "showlegend": false,
         "type": "scatter3d",
         "x": [
          72.229,
          72.634
         ],
         "y": [
          40.198,
          54.855
         ],
         "z": [
          0.2,
          0.2
         ]
        },
        {
         "line": {
          "color": [
           "rgb(191.25, 127.50, 127.50)",
           "rgb(191.25, 127.50, 127.50)"
          ],
          "width": 1
         },
         "mode": "lines",
         "showlegend": false,
         "type": "scatter3d",
         "x": [
          72.634,
          72.831
         ],
         "y": [
          54.855,
          40.198
         ],
         "z": [
          0.2,
          0.2
         ]
        },
        {
         "line": {
          "color": [
           "rgb(0.00, 0.00, 255.00)",
           "rgb(0.00, 0.00, 255.00)"
          ],
          "width": 4
         },
         "mode": "lines",
         "showlegend": false,
         "type": "scatter3d",
         "x": [
          72.831,
          73.27
         ],
         "y": [
          40.198,
          54.829
         ],
         "z": [
          0.2,
          0.2
         ]
        },
        {
         "line": {
          "color": [
           "rgb(191.25, 127.50, 127.50)",
           "rgb(191.25, 127.50, 127.50)"
          ],
          "width": 1
         },
         "mode": "lines",
         "showlegend": false,
         "type": "scatter3d",
         "x": [
          73.27,
          73.434
         ],
         "y": [
          54.829,
          40.197
         ],
         "z": [
          0.2,
          0.2
         ]
        },
        {
         "line": {
          "color": [
           "rgb(0.00, 0.00, 255.00)",
           "rgb(0.00, 0.00, 255.00)"
          ],
          "width": 4
         },
         "mode": "lines",
         "showlegend": false,
         "type": "scatter3d",
         "x": [
          73.434,
          73.906
         ],
         "y": [
          40.197,
          54.802
         ],
         "z": [
          0.2,
          0.2
         ]
        },
        {
         "line": {
          "color": [
           "rgb(191.25, 127.50, 127.50)",
           "rgb(191.25, 127.50, 127.50)"
          ],
          "width": 1
         },
         "mode": "lines",
         "showlegend": false,
         "type": "scatter3d",
         "x": [
          73.906,
          74.036
         ],
         "y": [
          54.802,
          40.197
         ],
         "z": [
          0.2,
          0.2
         ]
        },
        {
         "line": {
          "color": [
           "rgb(0.00, 0.00, 255.00)",
           "rgb(0.00, 0.00, 255.00)"
          ],
          "width": 4
         },
         "mode": "lines",
         "showlegend": false,
         "type": "scatter3d",
         "x": [
          74.036,
          74.542
         ],
         "y": [
          40.197,
          54.773
         ],
         "z": [
          0.2,
          0.2
         ]
        },
        {
         "line": {
          "color": [
           "rgb(191.25, 127.50, 127.50)",
           "rgb(191.25, 127.50, 127.50)"
          ],
          "width": 1
         },
         "mode": "lines",
         "showlegend": false,
         "type": "scatter3d",
         "x": [
          74.542,
          74.639
         ],
         "y": [
          54.773,
          40.196
         ],
         "z": [
          0.2,
          0.2
         ]
        },
        {
         "line": {
          "color": [
           "rgb(0.00, 0.00, 255.00)",
           "rgb(0.00, 0.00, 255.00)"
          ],
          "width": 4
         },
         "mode": "lines",
         "showlegend": false,
         "type": "scatter3d",
         "x": [
          74.639,
          75.178
         ],
         "y": [
          40.196,
          54.741
         ],
         "z": [
          0.2,
          0.2
         ]
        },
        {
         "line": {
          "color": [
           "rgb(191.25, 127.50, 127.50)",
           "rgb(191.25, 127.50, 127.50)"
          ],
          "width": 1
         },
         "mode": "lines",
         "showlegend": false,
         "type": "scatter3d",
         "x": [
          75.178,
          75.241
         ],
         "y": [
          54.741,
          40.196
         ],
         "z": [
          0.2,
          0.2
         ]
        },
        {
         "line": {
          "color": [
           "rgb(0.00, 0.00, 255.00)",
           "rgb(0.00, 0.00, 255.00)"
          ],
          "width": 4
         },
         "mode": "lines",
         "showlegend": false,
         "type": "scatter3d",
         "x": [
          75.241,
          75.814
         ],
         "y": [
          40.196,
          54.707
         ],
         "z": [
          0.2,
          0.2
         ]
        },
        {
         "line": {
          "color": [
           "rgb(191.25, 127.50, 127.50)",
           "rgb(191.25, 127.50, 127.50)"
          ],
          "width": 1
         },
         "mode": "lines",
         "showlegend": false,
         "type": "scatter3d",
         "x": [
          75.814,
          75.843
         ],
         "y": [
          54.707,
          40.195
         ],
         "z": [
          0.2,
          0.2
         ]
        },
        {
         "line": {
          "color": [
           "rgb(0.00, 0.00, 255.00)",
           "rgb(0.00, 0.00, 255.00)"
          ],
          "width": 4
         },
         "mode": "lines",
         "showlegend": false,
         "type": "scatter3d",
         "x": [
          75.843,
          76.451
         ],
         "y": [
          40.195,
          54.671
         ],
         "z": [
          0.2,
          0.2
         ]
        },
        {
         "line": {
          "color": [
           "rgb(191.25, 127.50, 127.50)",
           "rgb(191.25, 127.50, 127.50)"
          ],
          "width": 1
         },
         "mode": "lines",
         "showlegend": false,
         "type": "scatter3d",
         "x": [
          76.451,
          76.446
         ],
         "y": [
          54.671,
          40.195
         ],
         "z": [
          0.2,
          0.2
         ]
        },
        {
         "line": {
          "color": [
           "rgb(0.00, 0.00, 255.00)",
           "rgb(0.00, 0.00, 255.00)"
          ],
          "width": 4
         },
         "mode": "lines",
         "showlegend": false,
         "type": "scatter3d",
         "x": [
          76.446,
          77.087
         ],
         "y": [
          40.195,
          54.633
         ],
         "z": [
          0.2,
          0.2
         ]
        },
        {
         "line": {
          "color": [
           "rgb(191.25, 127.50, 127.50)",
           "rgb(191.25, 127.50, 127.50)"
          ],
          "width": 1
         },
         "mode": "lines",
         "showlegend": false,
         "type": "scatter3d",
         "x": [
          77.087,
          77.048
         ],
         "y": [
          54.633,
          40.194
         ],
         "z": [
          0.2,
          0.2
         ]
        },
        {
         "line": {
          "color": [
           "rgb(0.00, 0.00, 255.00)",
           "rgb(0.00, 0.00, 255.00)"
          ],
          "width": 4
         },
         "mode": "lines",
         "showlegend": false,
         "type": "scatter3d",
         "x": [
          77.048,
          77.723
         ],
         "y": [
          40.194,
          54.593
         ],
         "z": [
          0.2,
          0.2
         ]
        },
        {
         "line": {
          "color": [
           "rgb(191.25, 127.50, 127.50)",
           "rgb(191.25, 127.50, 127.50)"
          ],
          "width": 1
         },
         "mode": "lines",
         "showlegend": false,
         "type": "scatter3d",
         "x": [
          77.723,
          77.651
         ],
         "y": [
          54.593,
          40.193
         ],
         "z": [
          0.2,
          0.2
         ]
        },
        {
         "line": {
          "color": [
           "rgb(0.00, 0.00, 255.00)",
           "rgb(0.00, 0.00, 255.00)"
          ],
          "width": 4
         },
         "mode": "lines",
         "showlegend": false,
         "type": "scatter3d",
         "x": [
          77.651,
          78.359
         ],
         "y": [
          40.193,
          54.551
         ],
         "z": [
          0.2,
          0.2
         ]
        },
        {
         "line": {
          "color": [
           "rgb(191.25, 127.50, 127.50)",
           "rgb(191.25, 127.50, 127.50)"
          ],
          "width": 1
         },
         "mode": "lines",
         "showlegend": false,
         "type": "scatter3d",
         "x": [
          78.359,
          78.253
         ],
         "y": [
          54.551,
          40.193
         ],
         "z": [
          0.2,
          0.2
         ]
        },
        {
         "line": {
          "color": [
           "rgb(0.00, 0.00, 255.00)",
           "rgb(0.00, 0.00, 255.00)"
          ],
          "width": 4
         },
         "mode": "lines",
         "showlegend": false,
         "type": "scatter3d",
         "x": [
          78.253,
          78.995
         ],
         "y": [
          40.193,
          54.506
         ],
         "z": [
          0.2,
          0.2
         ]
        },
        {
         "line": {
          "color": [
           "rgb(191.25, 127.50, 127.50)",
           "rgb(191.25, 127.50, 127.50)"
          ],
          "width": 1
         },
         "mode": "lines",
         "showlegend": false,
         "type": "scatter3d",
         "x": [
          78.995,
          78.855
         ],
         "y": [
          54.506,
          40.192
         ],
         "z": [
          0.2,
          0.2
         ]
        },
        {
         "line": {
          "color": [
           "rgb(0.00, 0.00, 255.00)",
           "rgb(0.00, 0.00, 255.00)"
          ],
          "width": 4
         },
         "mode": "lines",
         "showlegend": false,
         "type": "scatter3d",
         "x": [
          78.855,
          79.631
         ],
         "y": [
          40.192,
          54.459
         ],
         "z": [
          0.2,
          0.2
         ]
        },
        {
         "line": {
          "color": [
           "rgb(191.25, 127.50, 127.50)",
           "rgb(191.25, 127.50, 127.50)"
          ],
          "width": 1
         },
         "mode": "lines",
         "showlegend": false,
         "type": "scatter3d",
         "x": [
          79.631,
          79.458
         ],
         "y": [
          54.459,
          40.191
         ],
         "z": [
          0.2,
          0.2
         ]
        },
        {
         "line": {
          "color": [
           "rgb(0.00, 0.00, 255.00)",
           "rgb(0.00, 0.00, 255.00)"
          ],
          "width": 4
         },
         "mode": "lines",
         "showlegend": false,
         "type": "scatter3d",
         "x": [
          79.458,
          80.267
         ],
         "y": [
          40.191,
          54.41
         ],
         "z": [
          0.2,
          0.2
         ]
        },
        {
         "line": {
          "color": [
           "rgb(191.25, 127.50, 127.50)",
           "rgb(191.25, 127.50, 127.50)"
          ],
          "width": 1
         },
         "mode": "lines",
         "showlegend": false,
         "type": "scatter3d",
         "x": [
          80.267,
          80.06
         ],
         "y": [
          54.41,
          40.191
         ],
         "z": [
          0.2,
          0.2
         ]
        },
        {
         "line": {
          "color": [
           "rgb(0.00, 0.00, 255.00)",
           "rgb(0.00, 0.00, 255.00)"
          ],
          "width": 4
         },
         "mode": "lines",
         "showlegend": false,
         "type": "scatter3d",
         "x": [
          80.06,
          80.904
         ],
         "y": [
          40.191,
          54.359
         ],
         "z": [
          0.2,
          0.2
         ]
        },
        {
         "line": {
          "color": [
           "rgb(191.25, 127.50, 127.50)",
           "rgb(191.25, 127.50, 127.50)"
          ],
          "width": 1
         },
         "mode": "lines",
         "showlegend": false,
         "type": "scatter3d",
         "x": [
          80.904,
          80.663
         ],
         "y": [
          54.359,
          40.19
         ],
         "z": [
          0.2,
          0.2
         ]
        },
        {
         "line": {
          "color": [
           "rgb(0.00, 0.00, 255.00)",
           "rgb(0.00, 0.00, 255.00)"
          ],
          "width": 4
         },
         "mode": "lines",
         "showlegend": false,
         "type": "scatter3d",
         "x": [
          80.663,
          81.54
         ],
         "y": [
          40.19,
          54.306
         ],
         "z": [
          0.2,
          0.2
         ]
        },
        {
         "line": {
          "color": [
           "rgb(191.25, 127.50, 127.50)",
           "rgb(191.25, 127.50, 127.50)"
          ],
          "width": 1
         },
         "mode": "lines",
         "showlegend": false,
         "type": "scatter3d",
         "x": [
          81.54,
          81.265
         ],
         "y": [
          54.306,
          40.189
         ],
         "z": [
          0.2,
          0.2
         ]
        },
        {
         "line": {
          "color": [
           "rgb(0.00, 0.00, 255.00)",
           "rgb(0.00, 0.00, 255.00)"
          ],
          "width": 4
         },
         "mode": "lines",
         "showlegend": false,
         "type": "scatter3d",
         "x": [
          81.265,
          82.176
         ],
         "y": [
          40.189,
          54.25
         ],
         "z": [
          0.2,
          0.2
         ]
        },
        {
         "line": {
          "color": [
           "rgb(191.25, 127.50, 127.50)",
           "rgb(191.25, 127.50, 127.50)"
          ],
          "width": 1
         },
         "mode": "lines",
         "showlegend": false,
         "type": "scatter3d",
         "x": [
          82.176,
          81.867
         ],
         "y": [
          54.25,
          40.188
         ],
         "z": [
          0.2,
          0.2
         ]
        },
        {
         "line": {
          "color": [
           "rgb(0.00, 0.00, 255.00)",
           "rgb(0.00, 0.00, 255.00)"
          ],
          "width": 4
         },
         "mode": "lines",
         "showlegend": false,
         "type": "scatter3d",
         "x": [
          81.867,
          82.812
         ],
         "y": [
          40.188,
          54.192
         ],
         "z": [
          0.2,
          0.2
         ]
        },
        {
         "line": {
          "color": [
           "rgb(191.25, 127.50, 127.50)",
           "rgb(191.25, 127.50, 127.50)"
          ],
          "width": 1
         },
         "mode": "lines",
         "showlegend": false,
         "type": "scatter3d",
         "x": [
          82.812,
          82.47
         ],
         "y": [
          54.192,
          40.187
         ],
         "z": [
          0.2,
          0.2
         ]
        },
        {
         "line": {
          "color": [
           "rgb(0.00, 0.00, 255.00)",
           "rgb(0.00, 0.00, 255.00)"
          ],
          "width": 4
         },
         "mode": "lines",
         "showlegend": false,
         "type": "scatter3d",
         "x": [
          82.47,
          83.448
         ],
         "y": [
          40.187,
          54.131
         ],
         "z": [
          0.2,
          0.2
         ]
        },
        {
         "line": {
          "color": [
           "rgb(191.25, 127.50, 127.50)",
           "rgb(191.25, 127.50, 127.50)"
          ],
          "width": 1
         },
         "mode": "lines",
         "showlegend": false,
         "type": "scatter3d",
         "x": [
          83.448,
          83.072
         ],
         "y": [
          54.131,
          40.186
         ],
         "z": [
          0.2,
          0.2
         ]
        },
        {
         "line": {
          "color": [
           "rgb(0.00, 0.00, 255.00)",
           "rgb(0.00, 0.00, 255.00)"
          ],
          "width": 4
         },
         "mode": "lines",
         "showlegend": false,
         "type": "scatter3d",
         "x": [
          83.072,
          84.084
         ],
         "y": [
          40.186,
          54.068
         ],
         "z": [
          0.2,
          0.2
         ]
        },
        {
         "line": {
          "color": [
           "rgb(191.25, 127.50, 127.50)",
           "rgb(191.25, 127.50, 127.50)"
          ],
          "width": 1
         },
         "mode": "lines",
         "showlegend": false,
         "type": "scatter3d",
         "x": [
          84.084,
          83.675
         ],
         "y": [
          54.068,
          40.186
         ],
         "z": [
          0.2,
          0.2
         ]
        },
        {
         "line": {
          "color": [
           "rgb(0.00, 0.00, 255.00)",
           "rgb(0.00, 0.00, 255.00)"
          ],
          "width": 4
         },
         "mode": "lines",
         "showlegend": false,
         "type": "scatter3d",
         "x": [
          83.675,
          84.72
         ],
         "y": [
          40.186,
          54.003
         ],
         "z": [
          0.2,
          0.2
         ]
        },
        {
         "line": {
          "color": [
           "rgb(191.25, 127.50, 127.50)",
           "rgb(191.25, 127.50, 127.50)"
          ],
          "width": 1
         },
         "mode": "lines",
         "showlegend": false,
         "type": "scatter3d",
         "x": [
          84.72,
          84.277
         ],
         "y": [
          54.003,
          40.185
         ],
         "z": [
          0.2,
          0.2
         ]
        },
        {
         "line": {
          "color": [
           "rgb(0.00, 0.00, 255.00)",
           "rgb(0.00, 0.00, 255.00)"
          ],
          "width": 4
         },
         "mode": "lines",
         "showlegend": false,
         "type": "scatter3d",
         "x": [
          84.277,
          85.357
         ],
         "y": [
          40.185,
          53.935
         ],
         "z": [
          0.2,
          0.2
         ]
        },
        {
         "line": {
          "color": [
           "rgb(191.25, 127.50, 127.50)",
           "rgb(191.25, 127.50, 127.50)"
          ],
          "width": 1
         },
         "mode": "lines",
         "showlegend": false,
         "type": "scatter3d",
         "x": [
          85.357,
          84.88
         ],
         "y": [
          53.935,
          40.184
         ],
         "z": [
          0.2,
          0.2
         ]
        },
        {
         "line": {
          "color": [
           "rgb(0.00, 0.00, 255.00)",
           "rgb(0.00, 0.00, 255.00)"
          ],
          "width": 4
         },
         "mode": "lines",
         "showlegend": false,
         "type": "scatter3d",
         "x": [
          84.88,
          85.993
         ],
         "y": [
          40.184,
          53.864
         ],
         "z": [
          0.2,
          0.2
         ]
        },
        {
         "line": {
          "color": [
           "rgb(191.25, 127.50, 127.50)",
           "rgb(191.25, 127.50, 127.50)"
          ],
          "width": 1
         },
         "mode": "lines",
         "showlegend": false,
         "type": "scatter3d",
         "x": [
          85.993,
          85.482
         ],
         "y": [
          53.864,
          40.182
         ],
         "z": [
          0.2,
          0.2
         ]
        },
        {
         "line": {
          "color": [
           "rgb(0.00, 0.00, 255.00)",
           "rgb(0.00, 0.00, 255.00)"
          ],
          "width": 4
         },
         "mode": "lines",
         "showlegend": false,
         "type": "scatter3d",
         "x": [
          85.482,
          86.629
         ],
         "y": [
          40.182,
          53.791
         ],
         "z": [
          0.2,
          0.2
         ]
        },
        {
         "line": {
          "color": [
           "rgb(191.25, 127.50, 127.50)",
           "rgb(191.25, 127.50, 127.50)"
          ],
          "width": 1
         },
         "mode": "lines",
         "showlegend": false,
         "type": "scatter3d",
         "x": [
          86.629,
          86.084
         ],
         "y": [
          53.791,
          40.181
         ],
         "z": [
          0.2,
          0.2
         ]
        },
        {
         "line": {
          "color": [
           "rgb(0.00, 0.00, 255.00)",
           "rgb(0.00, 0.00, 255.00)"
          ],
          "width": 4
         },
         "mode": "lines",
         "showlegend": false,
         "type": "scatter3d",
         "x": [
          86.084,
          87.265
         ],
         "y": [
          40.181,
          53.716
         ],
         "z": [
          0.2,
          0.2
         ]
        },
        {
         "line": {
          "color": [
           "rgb(191.25, 127.50, 127.50)",
           "rgb(191.25, 127.50, 127.50)"
          ],
          "width": 1
         },
         "mode": "lines",
         "showlegend": false,
         "type": "scatter3d",
         "x": [
          87.265,
          86.687
         ],
         "y": [
          53.716,
          40.18
         ],
         "z": [
          0.2,
          0.2
         ]
        },
        {
         "line": {
          "color": [
           "rgb(0.00, 0.00, 255.00)",
           "rgb(0.00, 0.00, 255.00)"
          ],
          "width": 4
         },
         "mode": "lines",
         "showlegend": false,
         "type": "scatter3d",
         "x": [
          86.687,
          87.901
         ],
         "y": [
          40.18,
          53.638
         ],
         "z": [
          0.2,
          0.2
         ]
        },
        {
         "line": {
          "color": [
           "rgb(191.25, 127.50, 127.50)",
           "rgb(191.25, 127.50, 127.50)"
          ],
          "width": 1
         },
         "mode": "lines",
         "showlegend": false,
         "type": "scatter3d",
         "x": [
          87.901,
          87.289
         ],
         "y": [
          53.638,
          40.179
         ],
         "z": [
          0.2,
          0.2
         ]
        },
        {
         "line": {
          "color": [
           "rgb(0.00, 0.00, 255.00)",
           "rgb(0.00, 0.00, 255.00)"
          ],
          "width": 4
         },
         "mode": "lines",
         "showlegend": false,
         "type": "scatter3d",
         "x": [
          87.289,
          88.537
         ],
         "y": [
          40.179,
          53.557
         ],
         "z": [
          0.2,
          0.2
         ]
        },
        {
         "line": {
          "color": [
           "rgb(191.25, 127.50, 127.50)",
           "rgb(191.25, 127.50, 127.50)"
          ],
          "width": 1
         },
         "mode": "lines",
         "showlegend": false,
         "type": "scatter3d",
         "x": [
          88.537,
          87.892
         ],
         "y": [
          53.557,
          40.178
         ],
         "z": [
          0.2,
          0.2
         ]
        },
        {
         "line": {
          "color": [
           "rgb(0.00, 0.00, 255.00)",
           "rgb(0.00, 0.00, 255.00)"
          ],
          "width": 4
         },
         "mode": "lines",
         "showlegend": false,
         "type": "scatter3d",
         "x": [
          87.892,
          89.173
         ],
         "y": [
          40.178,
          53.474
         ],
         "z": [
          0.2,
          0.2
         ]
        },
        {
         "line": {
          "color": [
           "rgb(191.25, 127.50, 127.50)",
           "rgb(191.25, 127.50, 127.50)"
          ],
          "width": 1
         },
         "mode": "lines",
         "showlegend": false,
         "type": "scatter3d",
         "x": [
          89.173,
          88.494
         ],
         "y": [
          53.474,
          40.177
         ],
         "z": [
          0.2,
          0.2
         ]
        },
        {
         "line": {
          "color": [
           "rgb(0.00, 0.00, 255.00)",
           "rgb(0.00, 0.00, 255.00)"
          ],
          "width": 4
         },
         "mode": "lines",
         "showlegend": false,
         "type": "scatter3d",
         "x": [
          88.494,
          89.81
         ],
         "y": [
          40.177,
          53.387
         ],
         "z": [
          0.2,
          0.2
         ]
        },
        {
         "line": {
          "color": [
           "rgb(191.25, 127.50, 127.50)",
           "rgb(191.25, 127.50, 127.50)"
          ],
          "width": 1
         },
         "mode": "lines",
         "showlegend": false,
         "type": "scatter3d",
         "x": [
          89.81,
          89.096
         ],
         "y": [
          53.387,
          40.175
         ],
         "z": [
          0.2,
          0.2
         ]
        },
        {
         "line": {
          "color": [
           "rgb(0.00, 0.00, 255.00)",
           "rgb(0.00, 0.00, 255.00)"
          ],
          "width": 4
         },
         "mode": "lines",
         "showlegend": false,
         "type": "scatter3d",
         "x": [
          89.096,
          90.446
         ],
         "y": [
          40.175,
          53.298
         ],
         "z": [
          0.2,
          0.2
         ]
        },
        {
         "line": {
          "color": [
           "rgb(191.25, 127.50, 127.50)",
           "rgb(191.25, 127.50, 127.50)"
          ],
          "width": 1
         },
         "mode": "lines",
         "showlegend": false,
         "type": "scatter3d",
         "x": [
          90.446,
          89.699
         ],
         "y": [
          53.298,
          40.174
         ],
         "z": [
          0.2,
          0.2
         ]
        },
        {
         "line": {
          "color": [
           "rgb(0.00, 0.00, 255.00)",
           "rgb(0.00, 0.00, 255.00)"
          ],
          "width": 4
         },
         "mode": "lines",
         "showlegend": false,
         "type": "scatter3d",
         "x": [
          89.699,
          91.082
         ],
         "y": [
          40.174,
          53.206
         ],
         "z": [
          0.2,
          0.2
         ]
        },
        {
         "line": {
          "color": [
           "rgb(191.25, 127.50, 127.50)",
           "rgb(191.25, 127.50, 127.50)"
          ],
          "width": 1
         },
         "mode": "lines",
         "showlegend": false,
         "type": "scatter3d",
         "x": [
          91.082,
          90.301
         ],
         "y": [
          53.206,
          40.173
         ],
         "z": [
          0.2,
          0.2
         ]
        },
        {
         "line": {
          "color": [
           "rgb(0.00, 0.00, 255.00)",
           "rgb(0.00, 0.00, 255.00)"
          ],
          "width": 4
         },
         "mode": "lines",
         "showlegend": false,
         "type": "scatter3d",
         "x": [
          90.301,
          91.718
         ],
         "y": [
          40.173,
          53.111
         ],
         "z": [
          0.2,
          0.2
         ]
        },
        {
         "line": {
          "color": [
           "rgb(191.25, 127.50, 127.50)",
           "rgb(191.25, 127.50, 127.50)"
          ],
          "width": 1
         },
         "mode": "lines",
         "showlegend": false,
         "type": "scatter3d",
         "x": [
          91.718,
          90.904
         ],
         "y": [
          53.111,
          40.171
         ],
         "z": [
          0.2,
          0.2
         ]
        },
        {
         "line": {
          "color": [
           "rgb(0.00, 0.00, 255.00)",
           "rgb(0.00, 0.00, 255.00)"
          ],
          "width": 4
         },
         "mode": "lines",
         "showlegend": false,
         "type": "scatter3d",
         "x": [
          90.904,
          92.354
         ],
         "y": [
          40.171,
          53.013
         ],
         "z": [
          0.2,
          0.2
         ]
        },
        {
         "line": {
          "color": [
           "rgb(191.25, 127.50, 127.50)",
           "rgb(191.25, 127.50, 127.50)"
          ],
          "width": 1
         },
         "mode": "lines",
         "showlegend": false,
         "type": "scatter3d",
         "x": [
          92.354,
          91.506
         ],
         "y": [
          53.013,
          40.17
         ],
         "z": [
          0.2,
          0.2
         ]
        },
        {
         "line": {
          "color": [
           "rgb(0.00, 0.00, 255.00)",
           "rgb(0.00, 0.00, 255.00)"
          ],
          "width": 4
         },
         "mode": "lines",
         "showlegend": false,
         "type": "scatter3d",
         "x": [
          91.506,
          92.99
         ],
         "y": [
          40.17,
          52.912
         ],
         "z": [
          0.2,
          0.2
         ]
        },
        {
         "line": {
          "color": [
           "rgb(191.25, 127.50, 127.50)",
           "rgb(191.25, 127.50, 127.50)"
          ],
          "width": 1
         },
         "mode": "lines",
         "showlegend": false,
         "type": "scatter3d",
         "x": [
          92.99,
          92.108
         ],
         "y": [
          52.912,
          40.168
         ],
         "z": [
          0.2,
          0.2
         ]
        },
        {
         "line": {
          "color": [
           "rgb(0.00, 0.00, 255.00)",
           "rgb(0.00, 0.00, 255.00)"
          ],
          "width": 4
         },
         "mode": "lines",
         "showlegend": false,
         "type": "scatter3d",
         "x": [
          92.108,
          93.627
         ],
         "y": [
          40.168,
          52.808
         ],
         "z": [
          0.2,
          0.2
         ]
        },
        {
         "line": {
          "color": [
           "rgb(191.25, 127.50, 127.50)",
           "rgb(191.25, 127.50, 127.50)"
          ],
          "width": 1
         },
         "mode": "lines",
         "showlegend": false,
         "type": "scatter3d",
         "x": [
          93.627,
          92.711
         ],
         "y": [
          52.808,
          40.166
         ],
         "z": [
          0.2,
          0.2
         ]
        },
        {
         "line": {
          "color": [
           "rgb(0.00, 0.00, 255.00)",
           "rgb(0.00, 0.00, 255.00)"
          ],
          "width": 4
         },
         "mode": "lines",
         "showlegend": false,
         "type": "scatter3d",
         "x": [
          92.711,
          94.263
         ],
         "y": [
          40.166,
          52.701
         ],
         "z": [
          0.2,
          0.2
         ]
        },
        {
         "line": {
          "color": [
           "rgb(191.25, 127.50, 127.50)",
           "rgb(191.25, 127.50, 127.50)"
          ],
          "width": 1
         },
         "mode": "lines",
         "showlegend": false,
         "type": "scatter3d",
         "x": [
          94.263,
          93.313
         ],
         "y": [
          52.701,
          40.165
         ],
         "z": [
          0.2,
          0.2
         ]
        },
        {
         "line": {
          "color": [
           "rgb(0.00, 0.00, 255.00)",
           "rgb(0.00, 0.00, 255.00)"
          ],
          "width": 4
         },
         "mode": "lines",
         "showlegend": false,
         "type": "scatter3d",
         "x": [
          93.313,
          94.899
         ],
         "y": [
          40.165,
          52.59
         ],
         "z": [
          0.2,
          0.2
         ]
        },
        {
         "line": {
          "color": [
           "rgb(191.25, 127.50, 127.50)",
           "rgb(191.25, 127.50, 127.50)"
          ],
          "width": 1
         },
         "mode": "lines",
         "showlegend": false,
         "type": "scatter3d",
         "x": [
          94.899,
          93.916
         ],
         "y": [
          52.59,
          40.163
         ],
         "z": [
          0.2,
          0.2
         ]
        },
        {
         "line": {
          "color": [
           "rgb(0.00, 0.00, 255.00)",
           "rgb(0.00, 0.00, 255.00)"
          ],
          "width": 4
         },
         "mode": "lines",
         "showlegend": false,
         "type": "scatter3d",
         "x": [
          93.916,
          95.535
         ],
         "y": [
          40.163,
          52.476
         ],
         "z": [
          0.2,
          0.2
         ]
        },
        {
         "line": {
          "color": [
           "rgb(191.25, 127.50, 127.50)",
           "rgb(191.25, 127.50, 127.50)"
          ],
          "width": 1
         },
         "mode": "lines",
         "showlegend": false,
         "type": "scatter3d",
         "x": [
          95.535,
          94.518
         ],
         "y": [
          52.476,
          40.161
         ],
         "z": [
          0.2,
          0.2
         ]
        },
        {
         "line": {
          "color": [
           "rgb(0.00, 0.00, 255.00)",
           "rgb(0.00, 0.00, 255.00)"
          ],
          "width": 4
         },
         "mode": "lines",
         "showlegend": false,
         "type": "scatter3d",
         "x": [
          94.518,
          96.171
         ],
         "y": [
          40.161,
          52.358
         ],
         "z": [
          0.2,
          0.2
         ]
        },
        {
         "line": {
          "color": [
           "rgb(191.25, 127.50, 127.50)",
           "rgb(191.25, 127.50, 127.50)"
          ],
          "width": 1
         },
         "mode": "lines",
         "showlegend": false,
         "type": "scatter3d",
         "x": [
          96.171,
          95.12
         ],
         "y": [
          52.358,
          40.16
         ],
         "z": [
          0.2,
          0.2
         ]
        },
        {
         "line": {
          "color": [
           "rgb(0.00, 0.00, 255.00)",
           "rgb(0.00, 0.00, 255.00)"
          ],
          "width": 4
         },
         "mode": "lines",
         "showlegend": false,
         "type": "scatter3d",
         "x": [
          95.12,
          96.807
         ],
         "y": [
          40.16,
          52.237
         ],
         "z": [
          0.2,
          0.2
         ]
        },
        {
         "line": {
          "color": [
           "rgb(191.25, 127.50, 127.50)",
           "rgb(191.25, 127.50, 127.50)"
          ],
          "width": 1
         },
         "mode": "lines",
         "showlegend": false,
         "type": "scatter3d",
         "x": [
          96.807,
          95.723
         ],
         "y": [
          52.237,
          40.158
         ],
         "z": [
          0.2,
          0.2
         ]
        },
        {
         "line": {
          "color": [
           "rgb(0.00, 0.00, 255.00)",
           "rgb(0.00, 0.00, 255.00)"
          ],
          "width": 4
         },
         "mode": "lines",
         "showlegend": false,
         "type": "scatter3d",
         "x": [
          95.723,
          97.443
         ],
         "y": [
          40.158,
          52.112
         ],
         "z": [
          0.2,
          0.2
         ]
        },
        {
         "line": {
          "color": [
           "rgb(191.25, 127.50, 127.50)",
           "rgb(191.25, 127.50, 127.50)"
          ],
          "width": 1
         },
         "mode": "lines",
         "showlegend": false,
         "type": "scatter3d",
         "x": [
          97.443,
          96.325
         ],
         "y": [
          52.112,
          40.156
         ],
         "z": [
          0.2,
          0.2
         ]
        },
        {
         "line": {
          "color": [
           "rgb(0.00, 0.00, 255.00)",
           "rgb(0.00, 0.00, 255.00)"
          ],
          "width": 4
         },
         "mode": "lines",
         "showlegend": false,
         "type": "scatter3d",
         "x": [
          96.325,
          98.08
         ],
         "y": [
          40.156,
          51.984
         ],
         "z": [
          0.2,
          0.2
         ]
        },
        {
         "line": {
          "color": [
           "rgb(191.25, 127.50, 127.50)",
           "rgb(191.25, 127.50, 127.50)"
          ],
          "width": 1
         },
         "mode": "lines",
         "showlegend": false,
         "type": "scatter3d",
         "x": [
          98.08,
          96.928
         ],
         "y": [
          51.984,
          40.154
         ],
         "z": [
          0.2,
          0.2
         ]
        },
        {
         "line": {
          "color": [
           "rgb(0.00, 0.00, 255.00)",
           "rgb(0.00, 0.00, 255.00)"
          ],
          "width": 4
         },
         "mode": "lines",
         "showlegend": false,
         "type": "scatter3d",
         "x": [
          96.928,
          98.716
         ],
         "y": [
          40.154,
          51.851
         ],
         "z": [
          0.2,
          0.2
         ]
        },
        {
         "line": {
          "color": [
           "rgb(191.25, 127.50, 127.50)",
           "rgb(191.25, 127.50, 127.50)"
          ],
          "width": 1
         },
         "mode": "lines",
         "showlegend": false,
         "type": "scatter3d",
         "x": [
          98.716,
          97.53
         ],
         "y": [
          51.851,
          40.152
         ],
         "z": [
          0.2,
          0.2
         ]
        },
        {
         "line": {
          "color": [
           "rgb(0.00, 0.00, 255.00)",
           "rgb(0.00, 0.00, 255.00)"
          ],
          "width": 4
         },
         "mode": "lines",
         "showlegend": false,
         "type": "scatter3d",
         "x": [
          97.53,
          99.352
         ],
         "y": [
          40.152,
          51.714
         ],
         "z": [
          0.2,
          0.2
         ]
        },
        {
         "line": {
          "color": [
           "rgb(191.25, 127.50, 127.50)",
           "rgb(191.25, 127.50, 127.50)"
          ],
          "width": 1
         },
         "mode": "lines",
         "showlegend": false,
         "type": "scatter3d",
         "x": [
          99.352,
          98.133
         ],
         "y": [
          51.714,
          40.15
         ],
         "z": [
          0.2,
          0.2
         ]
        },
        {
         "line": {
          "color": [
           "rgb(0.00, 0.00, 255.00)",
           "rgb(0.00, 0.00, 255.00)"
          ],
          "width": 4
         },
         "mode": "lines",
         "showlegend": false,
         "type": "scatter3d",
         "x": [
          98.133,
          99.988
         ],
         "y": [
          40.15,
          51.574
         ],
         "z": [
          0.2,
          0.2
         ]
        },
        {
         "line": {
          "color": [
           "rgb(191.25, 127.50, 127.50)",
           "rgb(191.25, 127.50, 127.50)"
          ],
          "width": 1
         },
         "mode": "lines",
         "showlegend": false,
         "type": "scatter3d",
         "x": [
          99.988,
          98.735
         ],
         "y": [
          51.574,
          40.148
         ],
         "z": [
          0.2,
          0.2
         ]
        },
        {
         "line": {
          "color": [
           "rgb(0.00, 0.00, 255.00)",
           "rgb(0.00, 0.00, 255.00)"
          ],
          "width": 4
         },
         "mode": "lines",
         "showlegend": false,
         "type": "scatter3d",
         "x": [
          98.735,
          100.624
         ],
         "y": [
          40.148,
          51.428
         ],
         "z": [
          0.2,
          0.2
         ]
        },
        {
         "line": {
          "color": [
           "rgb(191.25, 127.50, 127.50)",
           "rgb(191.25, 127.50, 127.50)"
          ],
          "width": 1
         },
         "mode": "lines",
         "showlegend": false,
         "type": "scatter3d",
         "x": [
          100.624,
          99.337
         ],
         "y": [
          51.428,
          40.145
         ],
         "z": [
          0.2,
          0.2
         ]
        },
        {
         "line": {
          "color": [
           "rgb(0.00, 0.00, 255.00)",
           "rgb(0.00, 0.00, 255.00)"
          ],
          "width": 4
         },
         "mode": "lines",
         "showlegend": false,
         "type": "scatter3d",
         "x": [
          99.337,
          101.26
         ],
         "y": [
          40.145,
          51.279
         ],
         "z": [
          0.2,
          0.2
         ]
        },
        {
         "line": {
          "color": [
           "rgb(191.25, 127.50, 127.50)",
           "rgb(191.25, 127.50, 127.50)"
          ],
          "width": 1
         },
         "mode": "lines",
         "showlegend": false,
         "type": "scatter3d",
         "x": [
          101.26,
          99.94
         ],
         "y": [
          51.279,
          40.143
         ],
         "z": [
          0.2,
          0.2
         ]
        },
        {
         "line": {
          "color": [
           "rgb(0.00, 0.00, 255.00)",
           "rgb(0.00, 0.00, 255.00)"
          ],
          "width": 4
         },
         "mode": "lines",
         "showlegend": false,
         "type": "scatter3d",
         "x": [
          99.94,
          101.896
         ],
         "y": [
          40.143,
          51.124
         ],
         "z": [
          0.2,
          0.2
         ]
        },
        {
         "line": {
          "color": [
           "rgb(191.25, 127.50, 127.50)",
           "rgb(191.25, 127.50, 127.50)"
          ],
          "width": 1
         },
         "mode": "lines",
         "showlegend": false,
         "type": "scatter3d",
         "x": [
          101.896,
          100.542
         ],
         "y": [
          51.124,
          40.141
         ],
         "z": [
          0.2,
          0.2
         ]
        },
        {
         "line": {
          "color": [
           "rgb(0.00, 0.00, 255.00)",
           "rgb(0.00, 0.00, 255.00)"
          ],
          "width": 4
         },
         "mode": "lines",
         "showlegend": false,
         "type": "scatter3d",
         "x": [
          100.542,
          102.533
         ],
         "y": [
          40.141,
          50.965
         ],
         "z": [
          0.2,
          0.2
         ]
        },
        {
         "line": {
          "color": [
           "rgb(191.25, 127.50, 127.50)",
           "rgb(191.25, 127.50, 127.50)"
          ],
          "width": 1
         },
         "mode": "lines",
         "showlegend": false,
         "type": "scatter3d",
         "x": [
          102.533,
          101.145
         ],
         "y": [
          50.965,
          40.138
         ],
         "z": [
          0.2,
          0.2
         ]
        },
        {
         "line": {
          "color": [
           "rgb(0.00, 0.00, 255.00)",
           "rgb(0.00, 0.00, 255.00)"
          ],
          "width": 4
         },
         "mode": "lines",
         "showlegend": false,
         "type": "scatter3d",
         "x": [
          101.145,
          103.169
         ],
         "y": [
          40.138,
          50.8
         ],
         "z": [
          0.2,
          0.2
         ]
        },
        {
         "line": {
          "color": [
           "rgb(191.25, 127.50, 127.50)",
           "rgb(191.25, 127.50, 127.50)"
          ],
          "width": 1
         },
         "mode": "lines",
         "showlegend": false,
         "type": "scatter3d",
         "x": [
          103.169,
          101.747
         ],
         "y": [
          50.8,
          40.136
         ],
         "z": [
          0.2,
          0.2
         ]
        },
        {
         "line": {
          "color": [
           "rgb(0.00, 0.00, 255.00)",
           "rgb(0.00, 0.00, 255.00)"
          ],
          "width": 4
         },
         "mode": "lines",
         "showlegend": false,
         "type": "scatter3d",
         "x": [
          101.747,
          103.805
         ],
         "y": [
          40.136,
          50.63
         ],
         "z": [
          0.2,
          0.2
         ]
        },
        {
         "line": {
          "color": [
           "rgb(191.25, 127.50, 127.50)",
           "rgb(191.25, 127.50, 127.50)"
          ],
          "width": 1
         },
         "mode": "lines",
         "showlegend": false,
         "type": "scatter3d",
         "x": [
          103.805,
          102.349
         ],
         "y": [
          50.63,
          40.133
         ],
         "z": [
          0.2,
          0.2
         ]
        },
        {
         "line": {
          "color": [
           "rgb(0.00, 0.00, 255.00)",
           "rgb(0.00, 0.00, 255.00)"
          ],
          "width": 4
         },
         "mode": "lines",
         "showlegend": false,
         "type": "scatter3d",
         "x": [
          102.349,
          104.441
         ],
         "y": [
          40.133,
          50.454
         ],
         "z": [
          0.2,
          0.2
         ]
        },
        {
         "line": {
          "color": [
           "rgb(191.25, 127.50, 127.50)",
           "rgb(191.25, 127.50, 127.50)"
          ],
          "width": 1
         },
         "mode": "lines",
         "showlegend": false,
         "type": "scatter3d",
         "x": [
          104.441,
          102.952
         ],
         "y": [
          50.454,
          40.13
         ],
         "z": [
          0.2,
          0.2
         ]
        },
        {
         "line": {
          "color": [
           "rgb(0.00, 0.00, 255.00)",
           "rgb(0.00, 0.00, 255.00)"
          ],
          "width": 4
         },
         "mode": "lines",
         "showlegend": false,
         "type": "scatter3d",
         "x": [
          102.952,
          105.077
         ],
         "y": [
          40.13,
          50.273
         ],
         "z": [
          0.2,
          0.2
         ]
        },
        {
         "line": {
          "color": [
           "rgb(191.25, 127.50, 127.50)",
           "rgb(191.25, 127.50, 127.50)"
          ],
          "width": 1
         },
         "mode": "lines",
         "showlegend": false,
         "type": "scatter3d",
         "x": [
          105.077,
          103.554
         ],
         "y": [
          50.273,
          40.127
         ],
         "z": [
          0.2,
          0.2
         ]
        },
        {
         "line": {
          "color": [
           "rgb(0.00, 0.00, 255.00)",
           "rgb(0.00, 0.00, 255.00)"
          ],
          "width": 4
         },
         "mode": "lines",
         "showlegend": false,
         "type": "scatter3d",
         "x": [
          103.554,
          105.713
         ],
         "y": [
          40.127,
          50.085
         ],
         "z": [
          0.2,
          0.2
         ]
        },
        {
         "line": {
          "color": [
           "rgb(191.25, 127.50, 127.50)",
           "rgb(191.25, 127.50, 127.50)"
          ],
          "width": 1
         },
         "mode": "lines",
         "showlegend": false,
         "type": "scatter3d",
         "x": [
          105.713,
          104.157
         ],
         "y": [
          50.085,
          40.124
         ],
         "z": [
          0.2,
          0.2
         ]
        },
        {
         "line": {
          "color": [
           "rgb(0.00, 0.00, 255.00)",
           "rgb(0.00, 0.00, 255.00)"
          ],
          "width": 4
         },
         "mode": "lines",
         "showlegend": false,
         "type": "scatter3d",
         "x": [
          104.157,
          106.349
         ],
         "y": [
          40.124,
          49.891
         ],
         "z": [
          0.2,
          0.2
         ]
        },
        {
         "line": {
          "color": [
           "rgb(191.25, 127.50, 127.50)",
           "rgb(191.25, 127.50, 127.50)"
          ],
          "width": 1
         },
         "mode": "lines",
         "showlegend": false,
         "type": "scatter3d",
         "x": [
          106.349,
          104.759
         ],
         "y": [
          49.891,
          40.121
         ],
         "z": [
          0.2,
          0.2
         ]
        },
        {
         "line": {
          "color": [
           "rgb(0.00, 0.00, 255.00)",
           "rgb(0.00, 0.00, 255.00)"
          ],
          "width": 4
         },
         "mode": "lines",
         "showlegend": false,
         "type": "scatter3d",
         "x": [
          104.759,
          106.986
         ],
         "y": [
          40.121,
          49.689
         ],
         "z": [
          0.2,
          0.2
         ]
        },
        {
         "line": {
          "color": [
           "rgb(191.25, 127.50, 127.50)",
           "rgb(191.25, 127.50, 127.50)"
          ],
          "width": 1
         },
         "mode": "lines",
         "showlegend": false,
         "type": "scatter3d",
         "x": [
          106.986,
          105.361
         ],
         "y": [
          49.689,
          40.118
         ],
         "z": [
          0.2,
          0.2
         ]
        },
        {
         "line": {
          "color": [
           "rgb(0.00, 0.00, 255.00)",
           "rgb(0.00, 0.00, 255.00)"
          ],
          "width": 4
         },
         "mode": "lines",
         "showlegend": false,
         "type": "scatter3d",
         "x": [
          105.361,
          107.622
         ],
         "y": [
          40.118,
          49.481
         ],
         "z": [
          0.2,
          0.2
         ]
        },
        {
         "line": {
          "color": [
           "rgb(191.25, 127.50, 127.50)",
           "rgb(191.25, 127.50, 127.50)"
          ],
          "width": 1
         },
         "mode": "lines",
         "showlegend": false,
         "type": "scatter3d",
         "x": [
          107.622,
          105.964
         ],
         "y": [
          49.481,
          40.115
         ],
         "z": [
          0.2,
          0.2
         ]
        },
        {
         "line": {
          "color": [
           "rgb(0.00, 0.00, 255.00)",
           "rgb(0.00, 0.00, 255.00)"
          ],
          "width": 4
         },
         "mode": "lines",
         "showlegend": false,
         "type": "scatter3d",
         "x": [
          105.964,
          108.258
         ],
         "y": [
          40.115,
          49.264
         ],
         "z": [
          0.2,
          0.2
         ]
        },
        {
         "line": {
          "color": [
           "rgb(191.25, 127.50, 127.50)",
           "rgb(191.25, 127.50, 127.50)"
          ],
          "width": 1
         },
         "mode": "lines",
         "showlegend": false,
         "type": "scatter3d",
         "x": [
          108.258,
          106.566
         ],
         "y": [
          49.264,
          40.111
         ],
         "z": [
          0.2,
          0.2
         ]
        },
        {
         "line": {
          "color": [
           "rgb(0.00, 0.00, 255.00)",
           "rgb(0.00, 0.00, 255.00)"
          ],
          "width": 4
         },
         "mode": "lines",
         "showlegend": false,
         "type": "scatter3d",
         "x": [
          106.566,
          108.894
         ],
         "y": [
          40.111,
          49.038
         ],
         "z": [
          0.2,
          0.2
         ]
        },
        {
         "line": {
          "color": [
           "rgb(191.25, 127.50, 127.50)",
           "rgb(191.25, 127.50, 127.50)"
          ],
          "width": 1
         },
         "mode": "lines",
         "showlegend": false,
         "type": "scatter3d",
         "x": [
          108.894,
          107.169
         ],
         "y": [
          49.038,
          40.107
         ],
         "z": [
          0.2,
          0.2
         ]
        },
        {
         "line": {
          "color": [
           "rgb(0.00, 0.00, 255.00)",
           "rgb(0.00, 0.00, 255.00)"
          ],
          "width": 4
         },
         "mode": "lines",
         "showlegend": false,
         "type": "scatter3d",
         "x": [
          107.169,
          109.53
         ],
         "y": [
          40.107,
          48.804
         ],
         "z": [
          0.2,
          0.2
         ]
        },
        {
         "line": {
          "color": [
           "rgb(191.25, 127.50, 127.50)",
           "rgb(191.25, 127.50, 127.50)"
          ],
          "width": 1
         },
         "mode": "lines",
         "showlegend": false,
         "type": "scatter3d",
         "x": [
          109.53,
          107.771
         ],
         "y": [
          48.804,
          40.104
         ],
         "z": [
          0.2,
          0.2
         ]
        },
        {
         "line": {
          "color": [
           "rgb(0.00, 0.00, 255.00)",
           "rgb(0.00, 0.00, 255.00)"
          ],
          "width": 4
         },
         "mode": "lines",
         "showlegend": false,
         "type": "scatter3d",
         "x": [
          107.771,
          110.166
         ],
         "y": [
          40.104,
          48.56
         ],
         "z": [
          0.2,
          0.2
         ]
        },
        {
         "line": {
          "color": [
           "rgb(191.25, 127.50, 127.50)",
           "rgb(191.25, 127.50, 127.50)"
          ],
          "width": 1
         },
         "mode": "lines",
         "showlegend": false,
         "type": "scatter3d",
         "x": [
          110.166,
          108.373
         ],
         "y": [
          48.56,
          40.099
         ],
         "z": [
          0.2,
          0.2
         ]
        },
        {
         "line": {
          "color": [
           "rgb(0.00, 0.00, 255.00)",
           "rgb(0.00, 0.00, 255.00)"
          ],
          "width": 4
         },
         "mode": "lines",
         "showlegend": false,
         "type": "scatter3d",
         "x": [
          108.373,
          110.802
         ],
         "y": [
          40.099,
          48.304
         ],
         "z": [
          0.2,
          0.2
         ]
        },
        {
         "line": {
          "color": [
           "rgb(191.25, 127.50, 127.50)",
           "rgb(191.25, 127.50, 127.50)"
          ],
          "width": 1
         },
         "mode": "lines",
         "showlegend": false,
         "type": "scatter3d",
         "x": [
          110.802,
          108.976
         ],
         "y": [
          48.304,
          40.095
         ],
         "z": [
          0.2,
          0.2
         ]
        },
        {
         "line": {
          "color": [
           "rgb(0.00, 0.00, 255.00)",
           "rgb(0.00, 0.00, 255.00)"
          ],
          "width": 4
         },
         "mode": "lines",
         "showlegend": false,
         "type": "scatter3d",
         "x": [
          108.976,
          111.439
         ],
         "y": [
          40.095,
          48.037
         ],
         "z": [
          0.2,
          0.2
         ]
        },
        {
         "line": {
          "color": [
           "rgb(191.25, 127.50, 127.50)",
           "rgb(191.25, 127.50, 127.50)"
          ],
          "width": 1
         },
         "mode": "lines",
         "showlegend": false,
         "type": "scatter3d",
         "x": [
          111.439,
          109.578
         ],
         "y": [
          48.037,
          40.091
         ],
         "z": [
          0.2,
          0.2
         ]
        },
        {
         "line": {
          "color": [
           "rgb(0.00, 0.00, 255.00)",
           "rgb(0.00, 0.00, 255.00)"
          ],
          "width": 4
         },
         "mode": "lines",
         "showlegend": false,
         "type": "scatter3d",
         "x": [
          109.578,
          112.075
         ],
         "y": [
          40.091,
          47.757
         ],
         "z": [
          0.2,
          0.2
         ]
        },
        {
         "line": {
          "color": [
           "rgb(191.25, 127.50, 127.50)",
           "rgb(191.25, 127.50, 127.50)"
          ],
          "width": 1
         },
         "mode": "lines",
         "showlegend": false,
         "type": "scatter3d",
         "x": [
          112.075,
          110.181
         ],
         "y": [
          47.757,
          40.086
         ],
         "z": [
          0.2,
          0.2
         ]
        },
        {
         "line": {
          "color": [
           "rgb(0.00, 0.00, 255.00)",
           "rgb(0.00, 0.00, 255.00)"
          ],
          "width": 4
         },
         "mode": "lines",
         "showlegend": false,
         "type": "scatter3d",
         "x": [
          110.181,
          112.711
         ],
         "y": [
          40.086,
          47.462
         ],
         "z": [
          0.2,
          0.2
         ]
        },
        {
         "line": {
          "color": [
           "rgb(191.25, 127.50, 127.50)",
           "rgb(191.25, 127.50, 127.50)"
          ],
          "width": 1
         },
         "mode": "lines",
         "showlegend": false,
         "type": "scatter3d",
         "x": [
          112.711,
          110.783
         ],
         "y": [
          47.462,
          40.08
         ],
         "z": [
          0.2,
          0.2
         ]
        },
        {
         "line": {
          "color": [
           "rgb(0.00, 0.00, 255.00)",
           "rgb(0.00, 0.00, 255.00)"
          ],
          "width": 4
         },
         "mode": "lines",
         "showlegend": false,
         "type": "scatter3d",
         "x": [
          110.783,
          113.347
         ],
         "y": [
          40.08,
          47.151
         ],
         "z": [
          0.2,
          0.2
         ]
        },
        {
         "line": {
          "color": [
           "rgb(191.25, 127.50, 127.50)",
           "rgb(191.25, 127.50, 127.50)"
          ],
          "width": 1
         },
         "mode": "lines",
         "showlegend": false,
         "type": "scatter3d",
         "x": [
          113.347,
          111.386
         ],
         "y": [
          47.151,
          40.075
         ],
         "z": [
          0.2,
          0.2
         ]
        },
        {
         "line": {
          "color": [
           "rgb(0.00, 0.00, 255.00)",
           "rgb(0.00, 0.00, 255.00)"
          ],
          "width": 4
         },
         "mode": "lines",
         "showlegend": false,
         "type": "scatter3d",
         "x": [
          111.386,
          113.983
         ],
         "y": [
          40.075,
          46.822
         ],
         "z": [
          0.2,
          0.2
         ]
        },
        {
         "line": {
          "color": [
           "rgb(191.25, 127.50, 127.50)",
           "rgb(191.25, 127.50, 127.50)"
          ],
          "width": 1
         },
         "mode": "lines",
         "showlegend": false,
         "type": "scatter3d",
         "x": [
          113.983,
          111.988
         ],
         "y": [
          46.822,
          40.068
         ],
         "z": [
          0.2,
          0.2
         ]
        },
        {
         "line": {
          "color": [
           "rgb(0.00, 0.00, 255.00)",
           "rgb(0.00, 0.00, 255.00)"
          ],
          "width": 4
         },
         "mode": "lines",
         "showlegend": false,
         "type": "scatter3d",
         "x": [
          111.988,
          114.619
         ],
         "y": [
          40.068,
          46.471
         ],
         "z": [
          0.2,
          0.2
         ]
        },
        {
         "line": {
          "color": [
           "rgb(191.25, 127.50, 127.50)",
           "rgb(191.25, 127.50, 127.50)"
          ],
          "width": 1
         },
         "mode": "lines",
         "showlegend": false,
         "type": "scatter3d",
         "x": [
          114.619,
          112.59
         ],
         "y": [
          46.471,
          40.061
         ],
         "z": [
          0.2,
          0.2
         ]
        },
        {
         "line": {
          "color": [
           "rgb(0.00, 0.00, 255.00)",
           "rgb(0.00, 0.00, 255.00)"
          ],
          "width": 4
         },
         "mode": "lines",
         "showlegend": false,
         "type": "scatter3d",
         "x": [
          112.59,
          115.255
         ],
         "y": [
          40.061,
          46.095
         ],
         "z": [
          0.2,
          0.2
         ]
        },
        {
         "line": {
          "color": [
           "rgb(191.25, 127.50, 127.50)",
           "rgb(191.25, 127.50, 127.50)"
          ],
          "width": 1
         },
         "mode": "lines",
         "showlegend": false,
         "type": "scatter3d",
         "x": [
          115.255,
          113.193
         ],
         "y": [
          46.095,
          40.053
         ],
         "z": [
          0.2,
          0.2
         ]
        },
        {
         "line": {
          "color": [
           "rgb(0.00, 0.00, 255.00)",
           "rgb(0.00, 0.00, 255.00)"
          ],
          "width": 4
         },
         "mode": "lines",
         "showlegend": false,
         "type": "scatter3d",
         "x": [
          113.193,
          115.892
         ],
         "y": [
          40.053,
          45.688
         ],
         "z": [
          0.2,
          0.2
         ]
        },
        {
         "line": {
          "color": [
           "rgb(191.25, 127.50, 127.50)",
           "rgb(191.25, 127.50, 127.50)"
          ],
          "width": 1
         },
         "mode": "lines",
         "showlegend": false,
         "type": "scatter3d",
         "x": [
          115.892,
          113.795
         ],
         "y": [
          45.688,
          40.044
         ],
         "z": [
          0.2,
          0.2
         ]
        },
        {
         "line": {
          "color": [
           "rgb(0.00, 0.00, 255.00)",
           "rgb(0.00, 0.00, 255.00)"
          ],
          "width": 4
         },
         "mode": "lines",
         "showlegend": false,
         "type": "scatter3d",
         "x": [
          113.795,
          116.528
         ],
         "y": [
          40.044,
          45.245
         ],
         "z": [
          0.2,
          0.2
         ]
        },
        {
         "line": {
          "color": [
           "rgb(191.25, 127.50, 127.50)",
           "rgb(191.25, 127.50, 127.50)"
          ],
          "width": 1
         },
         "mode": "lines",
         "showlegend": false,
         "type": "scatter3d",
         "x": [
          116.528,
          114.398
         ],
         "y": [
          45.245,
          40.031
         ],
         "z": [
          0.2,
          0.2
         ]
        },
        {
         "line": {
          "color": [
           "rgb(0.00, 0.00, 255.00)",
           "rgb(0.00, 0.00, 255.00)"
          ],
          "width": 4
         },
         "mode": "lines",
         "showlegend": false,
         "type": "scatter3d",
         "x": [
          114.398,
          117.164
         ],
         "y": [
          40.031,
          44.755
         ],
         "z": [
          0.2,
          0.2
         ]
        },
        {
         "line": {
          "color": [
           "rgb(191.25, 127.50, 127.50)",
           "rgb(191.25, 127.50, 127.50)"
          ],
          "width": 1
         },
         "mode": "lines",
         "showlegend": false,
         "type": "scatter3d",
         "x": [
          117.164,
          115
         ],
         "y": [
          44.755,
          40
         ],
         "z": [
          0.2,
          0.2
         ]
        },
        {
         "line": {
          "color": [
           "rgb(0.00, 0.00, 255.00)",
           "rgb(0.00, 0.00, 255.00)"
          ],
          "width": 4
         },
         "mode": "lines",
         "showlegend": false,
         "type": "scatter3d",
         "x": [
          115,
          117.8
         ],
         "y": [
          40,
          44.2
         ],
         "z": [
          0.2,
          0.2
         ]
        },
        {
         "line": {
          "color": [
           "rgb(191.25, 127.50, 127.50)",
           "rgb(191.25, 127.50, 127.50)"
          ],
          "width": 1
         },
         "mode": "lines",
         "showlegend": false,
         "type": "scatter3d",
         "x": [
          117.8,
          114.398
         ],
         "y": [
          44.2,
          39.969
         ],
         "z": [
          0.2,
          0.2
         ]
        },
        {
         "line": {
          "color": [
           "rgb(0.00, 0.00, 255.00)",
           "rgb(0.00, 0.00, 255.00)"
          ],
          "width": 4
         },
         "mode": "lines",
         "showlegend": false,
         "type": "scatter3d",
         "x": [
          114.398,
          117.164
         ],
         "y": [
          39.969,
          35.245
         ],
         "z": [
          0.2,
          0.2
         ]
        },
        {
         "line": {
          "color": [
           "rgb(191.25, 127.50, 127.50)",
           "rgb(191.25, 127.50, 127.50)"
          ],
          "width": 1
         },
         "mode": "lines",
         "showlegend": false,
         "type": "scatter3d",
         "x": [
          117.164,
          113.795
         ],
         "y": [
          35.245,
          39.956
         ],
         "z": [
          0.2,
          0.2
         ]
        },
        {
         "line": {
          "color": [
           "rgb(0.00, 0.00, 255.00)",
           "rgb(0.00, 0.00, 255.00)"
          ],
          "width": 4
         },
         "mode": "lines",
         "showlegend": false,
         "type": "scatter3d",
         "x": [
          113.795,
          116.528
         ],
         "y": [
          39.956,
          34.755
         ],
         "z": [
          0.2,
          0.2
         ]
        },
        {
         "line": {
          "color": [
           "rgb(191.25, 127.50, 127.50)",
           "rgb(191.25, 127.50, 127.50)"
          ],
          "width": 1
         },
         "mode": "lines",
         "showlegend": false,
         "type": "scatter3d",
         "x": [
          116.528,
          113.193
         ],
         "y": [
          34.755,
          39.947
         ],
         "z": [
          0.2,
          0.2
         ]
        },
        {
         "line": {
          "color": [
           "rgb(0.00, 0.00, 255.00)",
           "rgb(0.00, 0.00, 255.00)"
          ],
          "width": 4
         },
         "mode": "lines",
         "showlegend": false,
         "type": "scatter3d",
         "x": [
          113.193,
          115.892
         ],
         "y": [
          39.947,
          34.312
         ],
         "z": [
          0.2,
          0.2
         ]
        },
        {
         "line": {
          "color": [
           "rgb(191.25, 127.50, 127.50)",
           "rgb(191.25, 127.50, 127.50)"
          ],
          "width": 1
         },
         "mode": "lines",
         "showlegend": false,
         "type": "scatter3d",
         "x": [
          115.892,
          112.59
         ],
         "y": [
          34.312,
          39.939
         ],
         "z": [
          0.2,
          0.2
         ]
        },
        {
         "line": {
          "color": [
           "rgb(0.00, 0.00, 255.00)",
           "rgb(0.00, 0.00, 255.00)"
          ],
          "width": 4
         },
         "mode": "lines",
         "showlegend": false,
         "type": "scatter3d",
         "x": [
          112.59,
          115.255
         ],
         "y": [
          39.939,
          33.905
         ],
         "z": [
          0.2,
          0.2
         ]
        },
        {
         "line": {
          "color": [
           "rgb(191.25, 127.50, 127.50)",
           "rgb(191.25, 127.50, 127.50)"
          ],
          "width": 1
         },
         "mode": "lines",
         "showlegend": false,
         "type": "scatter3d",
         "x": [
          115.255,
          111.988
         ],
         "y": [
          33.905,
          39.932
         ],
         "z": [
          0.2,
          0.2
         ]
        },
        {
         "line": {
          "color": [
           "rgb(0.00, 0.00, 255.00)",
           "rgb(0.00, 0.00, 255.00)"
          ],
          "width": 4
         },
         "mode": "lines",
         "showlegend": false,
         "type": "scatter3d",
         "x": [
          111.988,
          114.619
         ],
         "y": [
          39.932,
          33.529
         ],
         "z": [
          0.2,
          0.2
         ]
        },
        {
         "line": {
          "color": [
           "rgb(191.25, 127.50, 127.50)",
           "rgb(191.25, 127.50, 127.50)"
          ],
          "width": 1
         },
         "mode": "lines",
         "showlegend": false,
         "type": "scatter3d",
         "x": [
          114.619,
          111.386
         ],
         "y": [
          33.529,
          39.925
         ],
         "z": [
          0.2,
          0.2
         ]
        },
        {
         "line": {
          "color": [
           "rgb(0.00, 0.00, 255.00)",
           "rgb(0.00, 0.00, 255.00)"
          ],
          "width": 4
         },
         "mode": "lines",
         "showlegend": false,
         "type": "scatter3d",
         "x": [
          111.386,
          113.983
         ],
         "y": [
          39.925,
          33.178
         ],
         "z": [
          0.2,
          0.2
         ]
        },
        {
         "line": {
          "color": [
           "rgb(191.25, 127.50, 127.50)",
           "rgb(191.25, 127.50, 127.50)"
          ],
          "width": 1
         },
         "mode": "lines",
         "showlegend": false,
         "type": "scatter3d",
         "x": [
          113.983,
          110.783
         ],
         "y": [
          33.178,
          39.92
         ],
         "z": [
          0.2,
          0.2
         ]
        },
        {
         "line": {
          "color": [
           "rgb(0.00, 0.00, 255.00)",
           "rgb(0.00, 0.00, 255.00)"
          ],
          "width": 4
         },
         "mode": "lines",
         "showlegend": false,
         "type": "scatter3d",
         "x": [
          110.783,
          113.347
         ],
         "y": [
          39.92,
          32.849
         ],
         "z": [
          0.2,
          0.2
         ]
        },
        {
         "line": {
          "color": [
           "rgb(191.25, 127.50, 127.50)",
           "rgb(191.25, 127.50, 127.50)"
          ],
          "width": 1
         },
         "mode": "lines",
         "showlegend": false,
         "type": "scatter3d",
         "x": [
          113.347,
          110.181
         ],
         "y": [
          32.849,
          39.914
         ],
         "z": [
          0.2,
          0.2
         ]
        },
        {
         "line": {
          "color": [
           "rgb(0.00, 0.00, 255.00)",
           "rgb(0.00, 0.00, 255.00)"
          ],
          "width": 4
         },
         "mode": "lines",
         "showlegend": false,
         "type": "scatter3d",
         "x": [
          110.181,
          112.711
         ],
         "y": [
          39.914,
          32.538
         ],
         "z": [
          0.2,
          0.2
         ]
        },
        {
         "line": {
          "color": [
           "rgb(191.25, 127.50, 127.50)",
           "rgb(191.25, 127.50, 127.50)"
          ],
          "width": 1
         },
         "mode": "lines",
         "showlegend": false,
         "type": "scatter3d",
         "x": [
          112.711,
          109.578
         ],
         "y": [
          32.538,
          39.909
         ],
         "z": [
          0.2,
          0.2
         ]
        },
        {
         "line": {
          "color": [
           "rgb(0.00, 0.00, 255.00)",
           "rgb(0.00, 0.00, 255.00)"
          ],
          "width": 4
         },
         "mode": "lines",
         "showlegend": false,
         "type": "scatter3d",
         "x": [
          109.578,
          112.075
         ],
         "y": [
          39.909,
          32.243
         ],
         "z": [
          0.2,
          0.2
         ]
        },
        {
         "line": {
          "color": [
           "rgb(191.25, 127.50, 127.50)",
           "rgb(191.25, 127.50, 127.50)"
          ],
          "width": 1
         },
         "mode": "lines",
         "showlegend": false,
         "type": "scatter3d",
         "x": [
          112.075,
          108.976
         ],
         "y": [
          32.243,
          39.905
         ],
         "z": [
          0.2,
          0.2
         ]
        },
        {
         "line": {
          "color": [
           "rgb(0.00, 0.00, 255.00)",
           "rgb(0.00, 0.00, 255.00)"
          ],
          "width": 4
         },
         "mode": "lines",
         "showlegend": false,
         "type": "scatter3d",
         "x": [
          108.976,
          111.439
         ],
         "y": [
          39.905,
          31.963
         ],
         "z": [
          0.2,
          0.2
         ]
        },
        {
         "line": {
          "color": [
           "rgb(191.25, 127.50, 127.50)",
           "rgb(191.25, 127.50, 127.50)"
          ],
          "width": 1
         },
         "mode": "lines",
         "showlegend": false,
         "type": "scatter3d",
         "x": [
          111.439,
          108.373
         ],
         "y": [
          31.963,
          39.901
         ],
         "z": [
          0.2,
          0.2
         ]
        },
        {
         "line": {
          "color": [
           "rgb(0.00, 0.00, 255.00)",
           "rgb(0.00, 0.00, 255.00)"
          ],
          "width": 4
         },
         "mode": "lines",
         "showlegend": false,
         "type": "scatter3d",
         "x": [
          108.373,
          110.802
         ],
         "y": [
          39.901,
          31.696
         ],
         "z": [
          0.2,
          0.2
         ]
        },
        {
         "line": {
          "color": [
           "rgb(191.25, 127.50, 127.50)",
           "rgb(191.25, 127.50, 127.50)"
          ],
          "width": 1
         },
         "mode": "lines",
         "showlegend": false,
         "type": "scatter3d",
         "x": [
          110.802,
          107.771
         ],
         "y": [
          31.696,
          39.896
         ],
         "z": [
          0.2,
          0.2
         ]
        },
        {
         "line": {
          "color": [
           "rgb(0.00, 0.00, 255.00)",
           "rgb(0.00, 0.00, 255.00)"
          ],
          "width": 4
         },
         "mode": "lines",
         "showlegend": false,
         "type": "scatter3d",
         "x": [
          107.771,
          110.166
         ],
         "y": [
          39.896,
          31.44
         ],
         "z": [
          0.2,
          0.2
         ]
        },
        {
         "line": {
          "color": [
           "rgb(191.25, 127.50, 127.50)",
           "rgb(191.25, 127.50, 127.50)"
          ],
          "width": 1
         },
         "mode": "lines",
         "showlegend": false,
         "type": "scatter3d",
         "x": [
          110.166,
          107.169
         ],
         "y": [
          31.44,
          39.893
         ],
         "z": [
          0.2,
          0.2
         ]
        },
        {
         "line": {
          "color": [
           "rgb(0.00, 0.00, 255.00)",
           "rgb(0.00, 0.00, 255.00)"
          ],
          "width": 4
         },
         "mode": "lines",
         "showlegend": false,
         "type": "scatter3d",
         "x": [
          107.169,
          109.53
         ],
         "y": [
          39.893,
          31.196
         ],
         "z": [
          0.2,
          0.2
         ]
        },
        {
         "line": {
          "color": [
           "rgb(191.25, 127.50, 127.50)",
           "rgb(191.25, 127.50, 127.50)"
          ],
          "width": 1
         },
         "mode": "lines",
         "showlegend": false,
         "type": "scatter3d",
         "x": [
          109.53,
          106.566
         ],
         "y": [
          31.196,
          39.889
         ],
         "z": [
          0.2,
          0.2
         ]
        },
        {
         "line": {
          "color": [
           "rgb(0.00, 0.00, 255.00)",
           "rgb(0.00, 0.00, 255.00)"
          ],
          "width": 4
         },
         "mode": "lines",
         "showlegend": false,
         "type": "scatter3d",
         "x": [
          106.566,
          108.894
         ],
         "y": [
          39.889,
          30.962
         ],
         "z": [
          0.2,
          0.2
         ]
        },
        {
         "line": {
          "color": [
           "rgb(191.25, 127.50, 127.50)",
           "rgb(191.25, 127.50, 127.50)"
          ],
          "width": 1
         },
         "mode": "lines",
         "showlegend": false,
         "type": "scatter3d",
         "x": [
          108.894,
          105.964
         ],
         "y": [
          30.962,
          39.885
         ],
         "z": [
          0.2,
          0.2
         ]
        },
        {
         "line": {
          "color": [
           "rgb(0.00, 0.00, 255.00)",
           "rgb(0.00, 0.00, 255.00)"
          ],
          "width": 4
         },
         "mode": "lines",
         "showlegend": false,
         "type": "scatter3d",
         "x": [
          105.964,
          108.258
         ],
         "y": [
          39.885,
          30.736
         ],
         "z": [
          0.2,
          0.2
         ]
        },
        {
         "line": {
          "color": [
           "rgb(191.25, 127.50, 127.50)",
           "rgb(191.25, 127.50, 127.50)"
          ],
          "width": 1
         },
         "mode": "lines",
         "showlegend": false,
         "type": "scatter3d",
         "x": [
          108.258,
          105.361
         ],
         "y": [
          30.736,
          39.882
         ],
         "z": [
          0.2,
          0.2
         ]
        },
        {
         "line": {
          "color": [
           "rgb(0.00, 0.00, 255.00)",
           "rgb(0.00, 0.00, 255.00)"
          ],
          "width": 4
         },
         "mode": "lines",
         "showlegend": false,
         "type": "scatter3d",
         "x": [
          105.361,
          107.622
         ],
         "y": [
          39.882,
          30.519
         ],
         "z": [
          0.2,
          0.2
         ]
        },
        {
         "line": {
          "color": [
           "rgb(191.25, 127.50, 127.50)",
           "rgb(191.25, 127.50, 127.50)"
          ],
          "width": 1
         },
         "mode": "lines",
         "showlegend": false,
         "type": "scatter3d",
         "x": [
          107.622,
          104.759
         ],
         "y": [
          30.519,
          39.879
         ],
         "z": [
          0.2,
          0.2
         ]
        },
        {
         "line": {
          "color": [
           "rgb(0.00, 0.00, 255.00)",
           "rgb(0.00, 0.00, 255.00)"
          ],
          "width": 4
         },
         "mode": "lines",
         "showlegend": false,
         "type": "scatter3d",
         "x": [
          104.759,
          106.986
         ],
         "y": [
          39.879,
          30.311
         ],
         "z": [
          0.2,
          0.2
         ]
        },
        {
         "line": {
          "color": [
           "rgb(191.25, 127.50, 127.50)",
           "rgb(191.25, 127.50, 127.50)"
          ],
          "width": 1
         },
         "mode": "lines",
         "showlegend": false,
         "type": "scatter3d",
         "x": [
          106.986,
          104.157
         ],
         "y": [
          30.311,
          39.876
         ],
         "z": [
          0.2,
          0.2
         ]
        },
        {
         "line": {
          "color": [
           "rgb(0.00, 0.00, 255.00)",
           "rgb(0.00, 0.00, 255.00)"
          ],
          "width": 4
         },
         "mode": "lines",
         "showlegend": false,
         "type": "scatter3d",
         "x": [
          104.157,
          106.349
         ],
         "y": [
          39.876,
          30.109
         ],
         "z": [
          0.2,
          0.2
         ]
        },
        {
         "line": {
          "color": [
           "rgb(191.25, 127.50, 127.50)",
           "rgb(191.25, 127.50, 127.50)"
          ],
          "width": 1
         },
         "mode": "lines",
         "showlegend": false,
         "type": "scatter3d",
         "x": [
          106.349,
          103.554
         ],
         "y": [
          30.109,
          39.873
         ],
         "z": [
          0.2,
          0.2
         ]
        },
        {
         "line": {
          "color": [
           "rgb(0.00, 0.00, 255.00)",
           "rgb(0.00, 0.00, 255.00)"
          ],
          "width": 4
         },
         "mode": "lines",
         "showlegend": false,
         "type": "scatter3d",
         "x": [
          103.554,
          105.713
         ],
         "y": [
          39.873,
          29.915
         ],
         "z": [
          0.2,
          0.2
         ]
        },
        {
         "line": {
          "color": [
           "rgb(191.25, 127.50, 127.50)",
           "rgb(191.25, 127.50, 127.50)"
          ],
          "width": 1
         },
         "mode": "lines",
         "showlegend": false,
         "type": "scatter3d",
         "x": [
          105.713,
          102.952
         ],
         "y": [
          29.915,
          39.87
         ],
         "z": [
          0.2,
          0.2
         ]
        },
        {
         "line": {
          "color": [
           "rgb(0.00, 0.00, 255.00)",
           "rgb(0.00, 0.00, 255.00)"
          ],
          "width": 4
         },
         "mode": "lines",
         "showlegend": false,
         "type": "scatter3d",
         "x": [
          102.952,
          105.077
         ],
         "y": [
          39.87,
          29.727
         ],
         "z": [
          0.2,
          0.2
         ]
        },
        {
         "line": {
          "color": [
           "rgb(191.25, 127.50, 127.50)",
           "rgb(191.25, 127.50, 127.50)"
          ],
          "width": 1
         },
         "mode": "lines",
         "showlegend": false,
         "type": "scatter3d",
         "x": [
          105.077,
          102.349
         ],
         "y": [
          29.727,
          39.867
         ],
         "z": [
          0.2,
          0.2
         ]
        },
        {
         "line": {
          "color": [
           "rgb(0.00, 0.00, 255.00)",
           "rgb(0.00, 0.00, 255.00)"
          ],
          "width": 4
         },
         "mode": "lines",
         "showlegend": false,
         "type": "scatter3d",
         "x": [
          102.349,
          104.441
         ],
         "y": [
          39.867,
          29.546
         ],
         "z": [
          0.2,
          0.2
         ]
        },
        {
         "line": {
          "color": [
           "rgb(191.25, 127.50, 127.50)",
           "rgb(191.25, 127.50, 127.50)"
          ],
          "width": 1
         },
         "mode": "lines",
         "showlegend": false,
         "type": "scatter3d",
         "x": [
          104.441,
          101.747
         ],
         "y": [
          29.546,
          39.864
         ],
         "z": [
          0.2,
          0.2
         ]
        },
        {
         "line": {
          "color": [
           "rgb(0.00, 0.00, 255.00)",
           "rgb(0.00, 0.00, 255.00)"
          ],
          "width": 4
         },
         "mode": "lines",
         "showlegend": false,
         "type": "scatter3d",
         "x": [
          101.747,
          103.805
         ],
         "y": [
          39.864,
          29.37
         ],
         "z": [
          0.2,
          0.2
         ]
        },
        {
         "line": {
          "color": [
           "rgb(191.25, 127.50, 127.50)",
           "rgb(191.25, 127.50, 127.50)"
          ],
          "width": 1
         },
         "mode": "lines",
         "showlegend": false,
         "type": "scatter3d",
         "x": [
          103.805,
          101.145
         ],
         "y": [
          29.37,
          39.862
         ],
         "z": [
          0.2,
          0.2
         ]
        },
        {
         "line": {
          "color": [
           "rgb(0.00, 0.00, 255.00)",
           "rgb(0.00, 0.00, 255.00)"
          ],
          "width": 4
         },
         "mode": "lines",
         "showlegend": false,
         "type": "scatter3d",
         "x": [
          101.145,
          103.169
         ],
         "y": [
          39.862,
          29.2
         ],
         "z": [
          0.2,
          0.2
         ]
        },
        {
         "line": {
          "color": [
           "rgb(191.25, 127.50, 127.50)",
           "rgb(191.25, 127.50, 127.50)"
          ],
          "width": 1
         },
         "mode": "lines",
         "showlegend": false,
         "type": "scatter3d",
         "x": [
          103.169,
          100.542
         ],
         "y": [
          29.2,
          39.859
         ],
         "z": [
          0.2,
          0.2
         ]
        },
        {
         "line": {
          "color": [
           "rgb(0.00, 0.00, 255.00)",
           "rgb(0.00, 0.00, 255.00)"
          ],
          "width": 4
         },
         "mode": "lines",
         "showlegend": false,
         "type": "scatter3d",
         "x": [
          100.542,
          102.533
         ],
         "y": [
          39.859,
          29.035
         ],
         "z": [
          0.2,
          0.2
         ]
        },
        {
         "line": {
          "color": [
           "rgb(191.25, 127.50, 127.50)",
           "rgb(191.25, 127.50, 127.50)"
          ],
          "width": 1
         },
         "mode": "lines",
         "showlegend": false,
         "type": "scatter3d",
         "x": [
          102.533,
          99.94
         ],
         "y": [
          29.035,
          39.857
         ],
         "z": [
          0.2,
          0.2
         ]
        },
        {
         "line": {
          "color": [
           "rgb(0.00, 0.00, 255.00)",
           "rgb(0.00, 0.00, 255.00)"
          ],
          "width": 4
         },
         "mode": "lines",
         "showlegend": false,
         "type": "scatter3d",
         "x": [
          99.94,
          101.896
         ],
         "y": [
          39.857,
          28.876
         ],
         "z": [
          0.2,
          0.2
         ]
        },
        {
         "line": {
          "color": [
           "rgb(191.25, 127.50, 127.50)",
           "rgb(191.25, 127.50, 127.50)"
          ],
          "width": 1
         },
         "mode": "lines",
         "showlegend": false,
         "type": "scatter3d",
         "x": [
          101.896,
          99.337
         ],
         "y": [
          28.876,
          39.855
         ],
         "z": [
          0.2,
          0.2
         ]
        },
        {
         "line": {
          "color": [
           "rgb(0.00, 0.00, 255.00)",
           "rgb(0.00, 0.00, 255.00)"
          ],
          "width": 4
         },
         "mode": "lines",
         "showlegend": false,
         "type": "scatter3d",
         "x": [
          99.337,
          101.26
         ],
         "y": [
          39.855,
          28.721
         ],
         "z": [
          0.2,
          0.2
         ]
        },
        {
         "line": {
          "color": [
           "rgb(191.25, 127.50, 127.50)",
           "rgb(191.25, 127.50, 127.50)"
          ],
          "width": 1
         },
         "mode": "lines",
         "showlegend": false,
         "type": "scatter3d",
         "x": [
          101.26,
          98.735
         ],
         "y": [
          28.721,
          39.852
         ],
         "z": [
          0.2,
          0.2
         ]
        },
        {
         "line": {
          "color": [
           "rgb(0.00, 0.00, 255.00)",
           "rgb(0.00, 0.00, 255.00)"
          ],
          "width": 4
         },
         "mode": "lines",
         "showlegend": false,
         "type": "scatter3d",
         "x": [
          98.735,
          100.624
         ],
         "y": [
          39.852,
          28.572
         ],
         "z": [
          0.2,
          0.2
         ]
        },
        {
         "line": {
          "color": [
           "rgb(191.25, 127.50, 127.50)",
           "rgb(191.25, 127.50, 127.50)"
          ],
          "width": 1
         },
         "mode": "lines",
         "showlegend": false,
         "type": "scatter3d",
         "x": [
          100.624,
          98.133
         ],
         "y": [
          28.572,
          39.85
         ],
         "z": [
          0.2,
          0.2
         ]
        },
        {
         "line": {
          "color": [
           "rgb(0.00, 0.00, 255.00)",
           "rgb(0.00, 0.00, 255.00)"
          ],
          "width": 4
         },
         "mode": "lines",
         "showlegend": false,
         "type": "scatter3d",
         "x": [
          98.133,
          99.988
         ],
         "y": [
          39.85,
          28.426
         ],
         "z": [
          0.2,
          0.2
         ]
        },
        {
         "line": {
          "color": [
           "rgb(191.25, 127.50, 127.50)",
           "rgb(191.25, 127.50, 127.50)"
          ],
          "width": 1
         },
         "mode": "lines",
         "showlegend": false,
         "type": "scatter3d",
         "x": [
          99.988,
          97.53
         ],
         "y": [
          28.426,
          39.848
         ],
         "z": [
          0.2,
          0.2
         ]
        },
        {
         "line": {
          "color": [
           "rgb(0.00, 0.00, 255.00)",
           "rgb(0.00, 0.00, 255.00)"
          ],
          "width": 4
         },
         "mode": "lines",
         "showlegend": false,
         "type": "scatter3d",
         "x": [
          97.53,
          99.352
         ],
         "y": [
          39.848,
          28.286
         ],
         "z": [
          0.2,
          0.2
         ]
        },
        {
         "line": {
          "color": [
           "rgb(191.25, 127.50, 127.50)",
           "rgb(191.25, 127.50, 127.50)"
          ],
          "width": 1
         },
         "mode": "lines",
         "showlegend": false,
         "type": "scatter3d",
         "x": [
          99.352,
          96.928
         ],
         "y": [
          28.286,
          39.846
         ],
         "z": [
          0.2,
          0.2
         ]
        },
        {
         "line": {
          "color": [
           "rgb(0.00, 0.00, 255.00)",
           "rgb(0.00, 0.00, 255.00)"
          ],
          "width": 4
         },
         "mode": "lines",
         "showlegend": false,
         "type": "scatter3d",
         "x": [
          96.928,
          98.716
         ],
         "y": [
          39.846,
          28.149
         ],
         "z": [
          0.2,
          0.2
         ]
        },
        {
         "line": {
          "color": [
           "rgb(191.25, 127.50, 127.50)",
           "rgb(191.25, 127.50, 127.50)"
          ],
          "width": 1
         },
         "mode": "lines",
         "showlegend": false,
         "type": "scatter3d",
         "x": [
          98.716,
          96.325
         ],
         "y": [
          28.149,
          39.844
         ],
         "z": [
          0.2,
          0.2
         ]
        },
        {
         "line": {
          "color": [
           "rgb(0.00, 0.00, 255.00)",
           "rgb(0.00, 0.00, 255.00)"
          ],
          "width": 4
         },
         "mode": "lines",
         "showlegend": false,
         "type": "scatter3d",
         "x": [
          96.325,
          98.08
         ],
         "y": [
          39.844,
          28.016
         ],
         "z": [
          0.2,
          0.2
         ]
        },
        {
         "line": {
          "color": [
           "rgb(191.25, 127.50, 127.50)",
           "rgb(191.25, 127.50, 127.50)"
          ],
          "width": 1
         },
         "mode": "lines",
         "showlegend": false,
         "type": "scatter3d",
         "x": [
          98.08,
          95.723
         ],
         "y": [
          28.016,
          39.842
         ],
         "z": [
          0.2,
          0.2
         ]
        },
        {
         "line": {
          "color": [
           "rgb(0.00, 0.00, 255.00)",
           "rgb(0.00, 0.00, 255.00)"
          ],
          "width": 4
         },
         "mode": "lines",
         "showlegend": false,
         "type": "scatter3d",
         "x": [
          95.723,
          97.443
         ],
         "y": [
          39.842,
          27.888
         ],
         "z": [
          0.2,
          0.2
         ]
        },
        {
         "line": {
          "color": [
           "rgb(191.25, 127.50, 127.50)",
           "rgb(191.25, 127.50, 127.50)"
          ],
          "width": 1
         },
         "mode": "lines",
         "showlegend": false,
         "type": "scatter3d",
         "x": [
          97.443,
          95.12
         ],
         "y": [
          27.888,
          39.84
         ],
         "z": [
          0.2,
          0.2
         ]
        },
        {
         "line": {
          "color": [
           "rgb(0.00, 0.00, 255.00)",
           "rgb(0.00, 0.00, 255.00)"
          ],
          "width": 4
         },
         "mode": "lines",
         "showlegend": false,
         "type": "scatter3d",
         "x": [
          95.12,
          96.807
         ],
         "y": [
          39.84,
          27.763
         ],
         "z": [
          0.2,
          0.2
         ]
        },
        {
         "line": {
          "color": [
           "rgb(191.25, 127.50, 127.50)",
           "rgb(191.25, 127.50, 127.50)"
          ],
          "width": 1
         },
         "mode": "lines",
         "showlegend": false,
         "type": "scatter3d",
         "x": [
          96.807,
          94.518
         ],
         "y": [
          27.763,
          39.839
         ],
         "z": [
          0.2,
          0.2
         ]
        },
        {
         "line": {
          "color": [
           "rgb(0.00, 0.00, 255.00)",
           "rgb(0.00, 0.00, 255.00)"
          ],
          "width": 4
         },
         "mode": "lines",
         "showlegend": false,
         "type": "scatter3d",
         "x": [
          94.518,
          96.171
         ],
         "y": [
          39.839,
          27.642
         ],
         "z": [
          0.2,
          0.2
         ]
        },
        {
         "line": {
          "color": [
           "rgb(191.25, 127.50, 127.50)",
           "rgb(191.25, 127.50, 127.50)"
          ],
          "width": 1
         },
         "mode": "lines",
         "showlegend": false,
         "type": "scatter3d",
         "x": [
          96.171,
          93.916
         ],
         "y": [
          27.642,
          39.837
         ],
         "z": [
          0.2,
          0.2
         ]
        },
        {
         "line": {
          "color": [
           "rgb(0.00, 0.00, 255.00)",
           "rgb(0.00, 0.00, 255.00)"
          ],
          "width": 4
         },
         "mode": "lines",
         "showlegend": false,
         "type": "scatter3d",
         "x": [
          93.916,
          95.535
         ],
         "y": [
          39.837,
          27.524
         ],
         "z": [
          0.2,
          0.2
         ]
        },
        {
         "line": {
          "color": [
           "rgb(191.25, 127.50, 127.50)",
           "rgb(191.25, 127.50, 127.50)"
          ],
          "width": 1
         },
         "mode": "lines",
         "showlegend": false,
         "type": "scatter3d",
         "x": [
          95.535,
          93.313
         ],
         "y": [
          27.524,
          39.835
         ],
         "z": [
          0.2,
          0.2
         ]
        },
        {
         "line": {
          "color": [
           "rgb(0.00, 0.00, 255.00)",
           "rgb(0.00, 0.00, 255.00)"
          ],
          "width": 4
         },
         "mode": "lines",
         "showlegend": false,
         "type": "scatter3d",
         "x": [
          93.313,
          94.899
         ],
         "y": [
          39.835,
          27.41
         ],
         "z": [
          0.2,
          0.2
         ]
        },
        {
         "line": {
          "color": [
           "rgb(191.25, 127.50, 127.50)",
           "rgb(191.25, 127.50, 127.50)"
          ],
          "width": 1
         },
         "mode": "lines",
         "showlegend": false,
         "type": "scatter3d",
         "x": [
          94.899,
          92.711
         ],
         "y": [
          27.41,
          39.834
         ],
         "z": [
          0.2,
          0.2
         ]
        },
        {
         "line": {
          "color": [
           "rgb(0.00, 0.00, 255.00)",
           "rgb(0.00, 0.00, 255.00)"
          ],
          "width": 4
         },
         "mode": "lines",
         "showlegend": false,
         "type": "scatter3d",
         "x": [
          92.711,
          94.263
         ],
         "y": [
          39.834,
          27.299
         ],
         "z": [
          0.2,
          0.2
         ]
        },
        {
         "line": {
          "color": [
           "rgb(191.25, 127.50, 127.50)",
           "rgb(191.25, 127.50, 127.50)"
          ],
          "width": 1
         },
         "mode": "lines",
         "showlegend": false,
         "type": "scatter3d",
         "x": [
          94.263,
          92.108
         ],
         "y": [
          27.299,
          39.832
         ],
         "z": [
          0.2,
          0.2
         ]
        },
        {
         "line": {
          "color": [
           "rgb(0.00, 0.00, 255.00)",
           "rgb(0.00, 0.00, 255.00)"
          ],
          "width": 4
         },
         "mode": "lines",
         "showlegend": false,
         "type": "scatter3d",
         "x": [
          92.108,
          93.627
         ],
         "y": [
          39.832,
          27.192
         ],
         "z": [
          0.2,
          0.2
         ]
        },
        {
         "line": {
          "color": [
           "rgb(191.25, 127.50, 127.50)",
           "rgb(191.25, 127.50, 127.50)"
          ],
          "width": 1
         },
         "mode": "lines",
         "showlegend": false,
         "type": "scatter3d",
         "x": [
          93.627,
          91.506
         ],
         "y": [
          27.192,
          39.83
         ],
         "z": [
          0.2,
          0.2
         ]
        },
        {
         "line": {
          "color": [
           "rgb(0.00, 0.00, 255.00)",
           "rgb(0.00, 0.00, 255.00)"
          ],
          "width": 4
         },
         "mode": "lines",
         "showlegend": false,
         "type": "scatter3d",
         "x": [
          91.506,
          92.99
         ],
         "y": [
          39.83,
          27.088
         ],
         "z": [
          0.2,
          0.2
         ]
        },
        {
         "line": {
          "color": [
           "rgb(191.25, 127.50, 127.50)",
           "rgb(191.25, 127.50, 127.50)"
          ],
          "width": 1
         },
         "mode": "lines",
         "showlegend": false,
         "type": "scatter3d",
         "x": [
          92.99,
          90.904
         ],
         "y": [
          27.088,
          39.829
         ],
         "z": [
          0.2,
          0.2
         ]
        },
        {
         "line": {
          "color": [
           "rgb(0.00, 0.00, 255.00)",
           "rgb(0.00, 0.00, 255.00)"
          ],
          "width": 4
         },
         "mode": "lines",
         "showlegend": false,
         "type": "scatter3d",
         "x": [
          90.904,
          92.354
         ],
         "y": [
          39.829,
          26.987
         ],
         "z": [
          0.2,
          0.2
         ]
        },
        {
         "line": {
          "color": [
           "rgb(191.25, 127.50, 127.50)",
           "rgb(191.25, 127.50, 127.50)"
          ],
          "width": 1
         },
         "mode": "lines",
         "showlegend": false,
         "type": "scatter3d",
         "x": [
          92.354,
          90.301
         ],
         "y": [
          26.987,
          39.827
         ],
         "z": [
          0.2,
          0.2
         ]
        },
        {
         "line": {
          "color": [
           "rgb(0.00, 0.00, 255.00)",
           "rgb(0.00, 0.00, 255.00)"
          ],
          "width": 4
         },
         "mode": "lines",
         "showlegend": false,
         "type": "scatter3d",
         "x": [
          90.301,
          91.718
         ],
         "y": [
          39.827,
          26.889
         ],
         "z": [
          0.2,
          0.2
         ]
        },
        {
         "line": {
          "color": [
           "rgb(191.25, 127.50, 127.50)",
           "rgb(191.25, 127.50, 127.50)"
          ],
          "width": 1
         },
         "mode": "lines",
         "showlegend": false,
         "type": "scatter3d",
         "x": [
          91.718,
          89.699
         ],
         "y": [
          26.889,
          39.826
         ],
         "z": [
          0.2,
          0.2
         ]
        },
        {
         "line": {
          "color": [
           "rgb(0.00, 0.00, 255.00)",
           "rgb(0.00, 0.00, 255.00)"
          ],
          "width": 4
         },
         "mode": "lines",
         "showlegend": false,
         "type": "scatter3d",
         "x": [
          89.699,
          91.082
         ],
         "y": [
          39.826,
          26.794
         ],
         "z": [
          0.2,
          0.2
         ]
        },
        {
         "line": {
          "color": [
           "rgb(191.25, 127.50, 127.50)",
           "rgb(191.25, 127.50, 127.50)"
          ],
          "width": 1
         },
         "mode": "lines",
         "showlegend": false,
         "type": "scatter3d",
         "x": [
          91.082,
          89.096
         ],
         "y": [
          26.794,
          39.825
         ],
         "z": [
          0.2,
          0.2
         ]
        },
        {
         "line": {
          "color": [
           "rgb(0.00, 0.00, 255.00)",
           "rgb(0.00, 0.00, 255.00)"
          ],
          "width": 4
         },
         "mode": "lines",
         "showlegend": false,
         "type": "scatter3d",
         "x": [
          89.096,
          90.446
         ],
         "y": [
          39.825,
          26.702
         ],
         "z": [
          0.2,
          0.2
         ]
        },
        {
         "line": {
          "color": [
           "rgb(191.25, 127.50, 127.50)",
           "rgb(191.25, 127.50, 127.50)"
          ],
          "width": 1
         },
         "mode": "lines",
         "showlegend": false,
         "type": "scatter3d",
         "x": [
          90.446,
          88.494
         ],
         "y": [
          26.702,
          39.823
         ],
         "z": [
          0.2,
          0.2
         ]
        },
        {
         "line": {
          "color": [
           "rgb(0.00, 0.00, 255.00)",
           "rgb(0.00, 0.00, 255.00)"
          ],
          "width": 4
         },
         "mode": "lines",
         "showlegend": false,
         "type": "scatter3d",
         "x": [
          88.494,
          89.81
         ],
         "y": [
          39.823,
          26.613
         ],
         "z": [
          0.2,
          0.2
         ]
        },
        {
         "line": {
          "color": [
           "rgb(191.25, 127.50, 127.50)",
           "rgb(191.25, 127.50, 127.50)"
          ],
          "width": 1
         },
         "mode": "lines",
         "showlegend": false,
         "type": "scatter3d",
         "x": [
          89.81,
          87.892
         ],
         "y": [
          26.613,
          39.822
         ],
         "z": [
          0.2,
          0.2
         ]
        },
        {
         "line": {
          "color": [
           "rgb(0.00, 0.00, 255.00)",
           "rgb(0.00, 0.00, 255.00)"
          ],
          "width": 4
         },
         "mode": "lines",
         "showlegend": false,
         "type": "scatter3d",
         "x": [
          87.892,
          89.173
         ],
         "y": [
          39.822,
          26.526
         ],
         "z": [
          0.2,
          0.2
         ]
        },
        {
         "line": {
          "color": [
           "rgb(191.25, 127.50, 127.50)",
           "rgb(191.25, 127.50, 127.50)"
          ],
          "width": 1
         },
         "mode": "lines",
         "showlegend": false,
         "type": "scatter3d",
         "x": [
          89.173,
          87.289
         ],
         "y": [
          26.526,
          39.821
         ],
         "z": [
          0.2,
          0.2
         ]
        },
        {
         "line": {
          "color": [
           "rgb(0.00, 0.00, 255.00)",
           "rgb(0.00, 0.00, 255.00)"
          ],
          "width": 4
         },
         "mode": "lines",
         "showlegend": false,
         "type": "scatter3d",
         "x": [
          87.289,
          88.537
         ],
         "y": [
          39.821,
          26.443
         ],
         "z": [
          0.2,
          0.2
         ]
        },
        {
         "line": {
          "color": [
           "rgb(191.25, 127.50, 127.50)",
           "rgb(191.25, 127.50, 127.50)"
          ],
          "width": 1
         },
         "mode": "lines",
         "showlegend": false,
         "type": "scatter3d",
         "x": [
          88.537,
          86.687
         ],
         "y": [
          26.443,
          39.82
         ],
         "z": [
          0.2,
          0.2
         ]
        },
        {
         "line": {
          "color": [
           "rgb(0.00, 0.00, 255.00)",
           "rgb(0.00, 0.00, 255.00)"
          ],
          "width": 4
         },
         "mode": "lines",
         "showlegend": false,
         "type": "scatter3d",
         "x": [
          86.687,
          87.901
         ],
         "y": [
          39.82,
          26.362
         ],
         "z": [
          0.2,
          0.2
         ]
        },
        {
         "line": {
          "color": [
           "rgb(191.25, 127.50, 127.50)",
           "rgb(191.25, 127.50, 127.50)"
          ],
          "width": 1
         },
         "mode": "lines",
         "showlegend": false,
         "type": "scatter3d",
         "x": [
          87.901,
          86.084
         ],
         "y": [
          26.362,
          39.819
         ],
         "z": [
          0.2,
          0.2
         ]
        },
        {
         "line": {
          "color": [
           "rgb(0.00, 0.00, 255.00)",
           "rgb(0.00, 0.00, 255.00)"
          ],
          "width": 4
         },
         "mode": "lines",
         "showlegend": false,
         "type": "scatter3d",
         "x": [
          86.084,
          87.265
         ],
         "y": [
          39.819,
          26.284
         ],
         "z": [
          0.2,
          0.2
         ]
        },
        {
         "line": {
          "color": [
           "rgb(191.25, 127.50, 127.50)",
           "rgb(191.25, 127.50, 127.50)"
          ],
          "width": 1
         },
         "mode": "lines",
         "showlegend": false,
         "type": "scatter3d",
         "x": [
          87.265,
          85.482
         ],
         "y": [
          26.284,
          39.818
         ],
         "z": [
          0.2,
          0.2
         ]
        },
        {
         "line": {
          "color": [
           "rgb(0.00, 0.00, 255.00)",
           "rgb(0.00, 0.00, 255.00)"
          ],
          "width": 4
         },
         "mode": "lines",
         "showlegend": false,
         "type": "scatter3d",
         "x": [
          85.482,
          86.629
         ],
         "y": [
          39.818,
          26.209
         ],
         "z": [
          0.2,
          0.2
         ]
        },
        {
         "line": {
          "color": [
           "rgb(191.25, 127.50, 127.50)",
           "rgb(191.25, 127.50, 127.50)"
          ],
          "width": 1
         },
         "mode": "lines",
         "showlegend": false,
         "type": "scatter3d",
         "x": [
          86.629,
          84.88
         ],
         "y": [
          26.209,
          39.816
         ],
         "z": [
          0.2,
          0.2
         ]
        },
        {
         "line": {
          "color": [
           "rgb(0.00, 0.00, 255.00)",
           "rgb(0.00, 0.00, 255.00)"
          ],
          "width": 4
         },
         "mode": "lines",
         "showlegend": false,
         "type": "scatter3d",
         "x": [
          84.88,
          85.993
         ],
         "y": [
          39.816,
          26.136
         ],
         "z": [
          0.2,
          0.2
         ]
        },
        {
         "line": {
          "color": [
           "rgb(191.25, 127.50, 127.50)",
           "rgb(191.25, 127.50, 127.50)"
          ],
          "width": 1
         },
         "mode": "lines",
         "showlegend": false,
         "type": "scatter3d",
         "x": [
          85.993,
          84.277
         ],
         "y": [
          26.136,
          39.815
         ],
         "z": [
          0.2,
          0.2
         ]
        },
        {
         "line": {
          "color": [
           "rgb(0.00, 0.00, 255.00)",
           "rgb(0.00, 0.00, 255.00)"
          ],
          "width": 4
         },
         "mode": "lines",
         "showlegend": false,
         "type": "scatter3d",
         "x": [
          84.277,
          85.357
         ],
         "y": [
          39.815,
          26.065
         ],
         "z": [
          0.2,
          0.2
         ]
        },
        {
         "line": {
          "color": [
           "rgb(191.25, 127.50, 127.50)",
           "rgb(191.25, 127.50, 127.50)"
          ],
          "width": 1
         },
         "mode": "lines",
         "showlegend": false,
         "type": "scatter3d",
         "x": [
          85.357,
          83.675
         ],
         "y": [
          26.065,
          39.814
         ],
         "z": [
          0.2,
          0.2
         ]
        },
        {
         "line": {
          "color": [
           "rgb(0.00, 0.00, 255.00)",
           "rgb(0.00, 0.00, 255.00)"
          ],
          "width": 4
         },
         "mode": "lines",
         "showlegend": false,
         "type": "scatter3d",
         "x": [
          83.675,
          84.72
         ],
         "y": [
          39.814,
          25.997
         ],
         "z": [
          0.2,
          0.2
         ]
        },
        {
         "line": {
          "color": [
           "rgb(191.25, 127.50, 127.50)",
           "rgb(191.25, 127.50, 127.50)"
          ],
          "width": 1
         },
         "mode": "lines",
         "showlegend": false,
         "type": "scatter3d",
         "x": [
          84.72,
          83.072
         ],
         "y": [
          25.997,
          39.814
         ],
         "z": [
          0.2,
          0.2
         ]
        },
        {
         "line": {
          "color": [
           "rgb(0.00, 0.00, 255.00)",
           "rgb(0.00, 0.00, 255.00)"
          ],
          "width": 4
         },
         "mode": "lines",
         "showlegend": false,
         "type": "scatter3d",
         "x": [
          83.072,
          84.084
         ],
         "y": [
          39.814,
          25.932
         ],
         "z": [
          0.2,
          0.2
         ]
        },
        {
         "line": {
          "color": [
           "rgb(191.25, 127.50, 127.50)",
           "rgb(191.25, 127.50, 127.50)"
          ],
          "width": 1
         },
         "mode": "lines",
         "showlegend": false,
         "type": "scatter3d",
         "x": [
          84.084,
          82.47
         ],
         "y": [
          25.932,
          39.813
         ],
         "z": [
          0.2,
          0.2
         ]
        },
        {
         "line": {
          "color": [
           "rgb(0.00, 0.00, 255.00)",
           "rgb(0.00, 0.00, 255.00)"
          ],
          "width": 4
         },
         "mode": "lines",
         "showlegend": false,
         "type": "scatter3d",
         "x": [
          82.47,
          83.448
         ],
         "y": [
          39.813,
          25.869
         ],
         "z": [
          0.2,
          0.2
         ]
        },
        {
         "line": {
          "color": [
           "rgb(191.25, 127.50, 127.50)",
           "rgb(191.25, 127.50, 127.50)"
          ],
          "width": 1
         },
         "mode": "lines",
         "showlegend": false,
         "type": "scatter3d",
         "x": [
          83.448,
          81.867
         ],
         "y": [
          25.869,
          39.812
         ],
         "z": [
          0.2,
          0.2
         ]
        },
        {
         "line": {
          "color": [
           "rgb(0.00, 0.00, 255.00)",
           "rgb(0.00, 0.00, 255.00)"
          ],
          "width": 4
         },
         "mode": "lines",
         "showlegend": false,
         "type": "scatter3d",
         "x": [
          81.867,
          82.812
         ],
         "y": [
          39.812,
          25.808
         ],
         "z": [
          0.2,
          0.2
         ]
        },
        {
         "line": {
          "color": [
           "rgb(191.25, 127.50, 127.50)",
           "rgb(191.25, 127.50, 127.50)"
          ],
          "width": 1
         },
         "mode": "lines",
         "showlegend": false,
         "type": "scatter3d",
         "x": [
          82.812,
          81.265
         ],
         "y": [
          25.808,
          39.811
         ],
         "z": [
          0.2,
          0.2
         ]
        },
        {
         "line": {
          "color": [
           "rgb(0.00, 0.00, 255.00)",
           "rgb(0.00, 0.00, 255.00)"
          ],
          "width": 4
         },
         "mode": "lines",
         "showlegend": false,
         "type": "scatter3d",
         "x": [
          81.265,
          82.176
         ],
         "y": [
          39.811,
          25.75
         ],
         "z": [
          0.2,
          0.2
         ]
        },
        {
         "line": {
          "color": [
           "rgb(191.25, 127.50, 127.50)",
           "rgb(191.25, 127.50, 127.50)"
          ],
          "width": 1
         },
         "mode": "lines",
         "showlegend": false,
         "type": "scatter3d",
         "x": [
          82.176,
          80.663
         ],
         "y": [
          25.75,
          39.81
         ],
         "z": [
          0.2,
          0.2
         ]
        },
        {
         "line": {
          "color": [
           "rgb(0.00, 0.00, 255.00)",
           "rgb(0.00, 0.00, 255.00)"
          ],
          "width": 4
         },
         "mode": "lines",
         "showlegend": false,
         "type": "scatter3d",
         "x": [
          80.663,
          81.54
         ],
         "y": [
          39.81,
          25.694
         ],
         "z": [
          0.2,
          0.2
         ]
        },
        {
         "line": {
          "color": [
           "rgb(191.25, 127.50, 127.50)",
           "rgb(191.25, 127.50, 127.50)"
          ],
          "width": 1
         },
         "mode": "lines",
         "showlegend": false,
         "type": "scatter3d",
         "x": [
          81.54,
          80.06
         ],
         "y": [
          25.694,
          39.809
         ],
         "z": [
          0.2,
          0.2
         ]
        },
        {
         "line": {
          "color": [
           "rgb(0.00, 0.00, 255.00)",
           "rgb(0.00, 0.00, 255.00)"
          ],
          "width": 4
         },
         "mode": "lines",
         "showlegend": false,
         "type": "scatter3d",
         "x": [
          80.06,
          80.904
         ],
         "y": [
          39.809,
          25.641
         ],
         "z": [
          0.2,
          0.2
         ]
        },
        {
         "line": {
          "color": [
           "rgb(191.25, 127.50, 127.50)",
           "rgb(191.25, 127.50, 127.50)"
          ],
          "width": 1
         },
         "mode": "lines",
         "showlegend": false,
         "type": "scatter3d",
         "x": [
          80.904,
          79.458
         ],
         "y": [
          25.641,
          39.809
         ],
         "z": [
          0.2,
          0.2
         ]
        },
        {
         "line": {
          "color": [
           "rgb(0.00, 0.00, 255.00)",
           "rgb(0.00, 0.00, 255.00)"
          ],
          "width": 4
         },
         "mode": "lines",
         "showlegend": false,
         "type": "scatter3d",
         "x": [
          79.458,
          80.267
         ],
         "y": [
          39.809,
          25.59
         ],
         "z": [
          0.2,
          0.2
         ]
        },
        {
         "line": {
          "color": [
           "rgb(191.25, 127.50, 127.50)",
           "rgb(191.25, 127.50, 127.50)"
          ],
          "width": 1
         },
         "mode": "lines",
         "showlegend": false,
         "type": "scatter3d",
         "x": [
          80.267,
          78.855
         ],
         "y": [
          25.59,
          39.808
         ],
         "z": [
          0.2,
          0.2
         ]
        },
        {
         "line": {
          "color": [
           "rgb(0.00, 0.00, 255.00)",
           "rgb(0.00, 0.00, 255.00)"
          ],
          "width": 4
         },
         "mode": "lines",
         "showlegend": false,
         "type": "scatter3d",
         "x": [
          78.855,
          79.631
         ],
         "y": [
          39.808,
          25.541
         ],
         "z": [
          0.2,
          0.2
         ]
        },
        {
         "line": {
          "color": [
           "rgb(191.25, 127.50, 127.50)",
           "rgb(191.25, 127.50, 127.50)"
          ],
          "width": 1
         },
         "mode": "lines",
         "showlegend": false,
         "type": "scatter3d",
         "x": [
          79.631,
          78.253
         ],
         "y": [
          25.541,
          39.807
         ],
         "z": [
          0.2,
          0.2
         ]
        },
        {
         "line": {
          "color": [
           "rgb(0.00, 0.00, 255.00)",
           "rgb(0.00, 0.00, 255.00)"
          ],
          "width": 4
         },
         "mode": "lines",
         "showlegend": false,
         "type": "scatter3d",
         "x": [
          78.253,
          78.995
         ],
         "y": [
          39.807,
          25.494
         ],
         "z": [
          0.2,
          0.2
         ]
        },
        {
         "line": {
          "color": [
           "rgb(191.25, 127.50, 127.50)",
           "rgb(191.25, 127.50, 127.50)"
          ],
          "width": 1
         },
         "mode": "lines",
         "showlegend": false,
         "type": "scatter3d",
         "x": [
          78.995,
          77.651
         ],
         "y": [
          25.494,
          39.807
         ],
         "z": [
          0.2,
          0.2
         ]
        },
        {
         "line": {
          "color": [
           "rgb(0.00, 0.00, 255.00)",
           "rgb(0.00, 0.00, 255.00)"
          ],
          "width": 4
         },
         "mode": "lines",
         "showlegend": false,
         "type": "scatter3d",
         "x": [
          77.651,
          78.359
         ],
         "y": [
          39.807,
          25.449
         ],
         "z": [
          0.2,
          0.2
         ]
        },
        {
         "line": {
          "color": [
           "rgb(191.25, 127.50, 127.50)",
           "rgb(191.25, 127.50, 127.50)"
          ],
          "width": 1
         },
         "mode": "lines",
         "showlegend": false,
         "type": "scatter3d",
         "x": [
          78.359,
          77.048
         ],
         "y": [
          25.449,
          39.806
         ],
         "z": [
          0.2,
          0.2
         ]
        },
        {
         "line": {
          "color": [
           "rgb(0.00, 0.00, 255.00)",
           "rgb(0.00, 0.00, 255.00)"
          ],
          "width": 4
         },
         "mode": "lines",
         "showlegend": false,
         "type": "scatter3d",
         "x": [
          77.048,
          77.723
         ],
         "y": [
          39.806,
          25.407
         ],
         "z": [
          0.2,
          0.2
         ]
        },
        {
         "line": {
          "color": [
           "rgb(191.25, 127.50, 127.50)",
           "rgb(191.25, 127.50, 127.50)"
          ],
          "width": 1
         },
         "mode": "lines",
         "showlegend": false,
         "type": "scatter3d",
         "x": [
          77.723,
          76.446
         ],
         "y": [
          25.407,
          39.805
         ],
         "z": [
          0.2,
          0.2
         ]
        },
        {
         "line": {
          "color": [
           "rgb(0.00, 0.00, 255.00)",
           "rgb(0.00, 0.00, 255.00)"
          ],
          "width": 4
         },
         "mode": "lines",
         "showlegend": false,
         "type": "scatter3d",
         "x": [
          76.446,
          77.087
         ],
         "y": [
          39.805,
          25.367
         ],
         "z": [
          0.2,
          0.2
         ]
        },
        {
         "line": {
          "color": [
           "rgb(191.25, 127.50, 127.50)",
           "rgb(191.25, 127.50, 127.50)"
          ],
          "width": 1
         },
         "mode": "lines",
         "showlegend": false,
         "type": "scatter3d",
         "x": [
          77.087,
          75.843
         ],
         "y": [
          25.367,
          39.805
         ],
         "z": [
          0.2,
          0.2
         ]
        },
        {
         "line": {
          "color": [
           "rgb(0.00, 0.00, 255.00)",
           "rgb(0.00, 0.00, 255.00)"
          ],
          "width": 4
         },
         "mode": "lines",
         "showlegend": false,
         "type": "scatter3d",
         "x": [
          75.843,
          76.451
         ],
         "y": [
          39.805,
          25.329
         ],
         "z": [
          0.2,
          0.2
         ]
        },
        {
         "line": {
          "color": [
           "rgb(191.25, 127.50, 127.50)",
           "rgb(191.25, 127.50, 127.50)"
          ],
          "width": 1
         },
         "mode": "lines",
         "showlegend": false,
         "type": "scatter3d",
         "x": [
          76.451,
          75.241
         ],
         "y": [
          25.329,
          39.804
         ],
         "z": [
          0.2,
          0.2
         ]
        },
        {
         "line": {
          "color": [
           "rgb(0.00, 0.00, 255.00)",
           "rgb(0.00, 0.00, 255.00)"
          ],
          "width": 4
         },
         "mode": "lines",
         "showlegend": false,
         "type": "scatter3d",
         "x": [
          75.241,
          75.814
         ],
         "y": [
          39.804,
          25.293
         ],
         "z": [
          0.2,
          0.2
         ]
        },
        {
         "line": {
          "color": [
           "rgb(191.25, 127.50, 127.50)",
           "rgb(191.25, 127.50, 127.50)"
          ],
          "width": 1
         },
         "mode": "lines",
         "showlegend": false,
         "type": "scatter3d",
         "x": [
          75.814,
          74.639
         ],
         "y": [
          25.293,
          39.804
         ],
         "z": [
          0.2,
          0.2
         ]
        },
        {
         "line": {
          "color": [
           "rgb(0.00, 0.00, 255.00)",
           "rgb(0.00, 0.00, 255.00)"
          ],
          "width": 4
         },
         "mode": "lines",
         "showlegend": false,
         "type": "scatter3d",
         "x": [
          74.639,
          75.178
         ],
         "y": [
          39.804,
          25.259
         ],
         "z": [
          0.2,
          0.2
         ]
        },
        {
         "line": {
          "color": [
           "rgb(191.25, 127.50, 127.50)",
           "rgb(191.25, 127.50, 127.50)"
          ],
          "width": 1
         },
         "mode": "lines",
         "showlegend": false,
         "type": "scatter3d",
         "x": [
          75.178,
          74.036
         ],
         "y": [
          25.259,
          39.803
         ],
         "z": [
          0.2,
          0.2
         ]
        },
        {
         "line": {
          "color": [
           "rgb(0.00, 0.00, 255.00)",
           "rgb(0.00, 0.00, 255.00)"
          ],
          "width": 4
         },
         "mode": "lines",
         "showlegend": false,
         "type": "scatter3d",
         "x": [
          74.036,
          74.542
         ],
         "y": [
          39.803,
          25.227
         ],
         "z": [
          0.2,
          0.2
         ]
        },
        {
         "line": {
          "color": [
           "rgb(191.25, 127.50, 127.50)",
           "rgb(191.25, 127.50, 127.50)"
          ],
          "width": 1
         },
         "mode": "lines",
         "showlegend": false,
         "type": "scatter3d",
         "x": [
          74.542,
          73.434
         ],
         "y": [
          25.227,
          39.803
         ],
         "z": [
          0.2,
          0.2
         ]
        },
        {
         "line": {
          "color": [
           "rgb(0.00, 0.00, 255.00)",
           "rgb(0.00, 0.00, 255.00)"
          ],
          "width": 4
         },
         "mode": "lines",
         "showlegend": false,
         "type": "scatter3d",
         "x": [
          73.434,
          73.906
         ],
         "y": [
          39.803,
          25.198
         ],
         "z": [
          0.2,
          0.2
         ]
        },
        {
         "line": {
          "color": [
           "rgb(191.25, 127.50, 127.50)",
           "rgb(191.25, 127.50, 127.50)"
          ],
          "width": 1
         },
         "mode": "lines",
         "showlegend": false,
         "type": "scatter3d",
         "x": [
          73.906,
          72.831
         ],
         "y": [
          25.198,
          39.802
         ],
         "z": [
          0.2,
          0.2
         ]
        },
        {
         "line": {
          "color": [
           "rgb(0.00, 0.00, 255.00)",
           "rgb(0.00, 0.00, 255.00)"
          ],
          "width": 4
         },
         "mode": "lines",
         "showlegend": false,
         "type": "scatter3d",
         "x": [
          72.831,
          73.27
         ],
         "y": [
          39.802,
          25.171
         ],
         "z": [
          0.2,
          0.2
         ]
        },
        {
         "line": {
          "color": [
           "rgb(191.25, 127.50, 127.50)",
           "rgb(191.25, 127.50, 127.50)"
          ],
          "width": 1
         },
         "mode": "lines",
         "showlegend": false,
         "type": "scatter3d",
         "x": [
          73.27,
          72.229
         ],
         "y": [
          25.171,
          39.802
         ],
         "z": [
          0.2,
          0.2
         ]
        },
        {
         "line": {
          "color": [
           "rgb(0.00, 0.00, 255.00)",
           "rgb(0.00, 0.00, 255.00)"
          ],
          "width": 4
         },
         "mode": "lines",
         "showlegend": false,
         "type": "scatter3d",
         "x": [
          72.229,
          72.634
         ],
         "y": [
          39.802,
          25.145
         ],
         "z": [
          0.2,
          0.2
         ]
        },
        {
         "line": {
          "color": [
           "rgb(191.25, 127.50, 127.50)",
           "rgb(191.25, 127.50, 127.50)"
          ],
          "width": 1
         },
         "mode": "lines",
         "showlegend": false,
         "type": "scatter3d",
         "x": [
          72.634,
          71.627
         ],
         "y": [
          25.145,
          39.802
         ],
         "z": [
          0.2,
          0.2
         ]
        },
        {
         "line": {
          "color": [
           "rgb(0.00, 0.00, 255.00)",
           "rgb(0.00, 0.00, 255.00)"
          ],
          "width": 4
         },
         "mode": "lines",
         "showlegend": false,
         "type": "scatter3d",
         "x": [
          71.627,
          71.998
         ],
         "y": [
          39.802,
          25.122
         ],
         "z": [
          0.2,
          0.2
         ]
        },
        {
         "line": {
          "color": [
           "rgb(191.25, 127.50, 127.50)",
           "rgb(191.25, 127.50, 127.50)"
          ],
          "width": 1
         },
         "mode": "lines",
         "showlegend": false,
         "type": "scatter3d",
         "x": [
          71.998,
          71.024
         ],
         "y": [
          25.122,
          39.801
         ],
         "z": [
          0.2,
          0.2
         ]
        },
        {
         "line": {
          "color": [
           "rgb(0.00, 0.00, 255.00)",
           "rgb(0.00, 0.00, 255.00)"
          ],
          "width": 4
         },
         "mode": "lines",
         "showlegend": false,
         "type": "scatter3d",
         "x": [
          71.024,
          71.361
         ],
         "y": [
          39.801,
          25.101
         ],
         "z": [
          0.2,
          0.2
         ]
        },
        {
         "line": {
          "color": [
           "rgb(191.25, 127.50, 127.50)",
           "rgb(191.25, 127.50, 127.50)"
          ],
          "width": 1
         },
         "mode": "lines",
         "showlegend": false,
         "type": "scatter3d",
         "x": [
          71.361,
          70.422
         ],
         "y": [
          25.101,
          39.801
         ],
         "z": [
          0.2,
          0.2
         ]
        },
        {
         "line": {
          "color": [
           "rgb(0.00, 0.00, 255.00)",
           "rgb(0.00, 0.00, 255.00)"
          ],
          "width": 4
         },
         "mode": "lines",
         "showlegend": false,
         "type": "scatter3d",
         "x": [
          70.422,
          70.725
         ],
         "y": [
          39.801,
          25.081
         ],
         "z": [
          0.2,
          0.2
         ]
        },
        {
         "line": {
          "color": [
           "rgb(191.25, 127.50, 127.50)",
           "rgb(191.25, 127.50, 127.50)"
          ],
          "width": 1
         },
         "mode": "lines",
         "showlegend": false,
         "type": "scatter3d",
         "x": [
          70.725,
          69.819
         ],
         "y": [
          25.081,
          39.801
         ],
         "z": [
          0.2,
          0.2
         ]
        },
        {
         "line": {
          "color": [
           "rgb(0.00, 0.00, 255.00)",
           "rgb(0.00, 0.00, 255.00)"
          ],
          "width": 4
         },
         "mode": "lines",
         "showlegend": false,
         "type": "scatter3d",
         "x": [
          69.819,
          70.089
         ],
         "y": [
          39.801,
          25.064
         ],
         "z": [
          0.2,
          0.2
         ]
        },
        {
         "line": {
          "color": [
           "rgb(191.25, 127.50, 127.50)",
           "rgb(191.25, 127.50, 127.50)"
          ],
          "width": 1
         },
         "mode": "lines",
         "showlegend": false,
         "type": "scatter3d",
         "x": [
          70.089,
          69.217
         ],
         "y": [
          25.064,
          39.801
         ],
         "z": [
          0.2,
          0.2
         ]
        },
        {
         "line": {
          "color": [
           "rgb(0.00, 0.00, 255.00)",
           "rgb(0.00, 0.00, 255.00)"
          ],
          "width": 4
         },
         "mode": "lines",
         "showlegend": false,
         "type": "scatter3d",
         "x": [
          69.217,
          69.453
         ],
         "y": [
          39.801,
          25.049
         ],
         "z": [
          0.2,
          0.2
         ]
        },
        {
         "line": {
          "color": [
           "rgb(191.25, 127.50, 127.50)",
           "rgb(191.25, 127.50, 127.50)"
          ],
          "width": 1
         },
         "mode": "lines",
         "showlegend": false,
         "type": "scatter3d",
         "x": [
          69.453,
          68.614
         ],
         "y": [
          25.049,
          39.801
         ],
         "z": [
          0.2,
          0.2
         ]
        },
        {
         "line": {
          "color": [
           "rgb(0.00, 0.00, 255.00)",
           "rgb(0.00, 0.00, 255.00)"
          ],
          "width": 4
         },
         "mode": "lines",
         "showlegend": false,
         "type": "scatter3d",
         "x": [
          68.614,
          68.817
         ],
         "y": [
          39.801,
          25.036
         ],
         "z": [
          0.2,
          0.2
         ]
        },
        {
         "line": {
          "color": [
           "rgb(191.25, 127.50, 127.50)",
           "rgb(191.25, 127.50, 127.50)"
          ],
          "width": 1
         },
         "mode": "lines",
         "showlegend": false,
         "type": "scatter3d",
         "x": [
          68.817,
          68.012
         ],
         "y": [
          25.036,
          39.8
         ],
         "z": [
          0.2,
          0.2
         ]
        },
        {
         "line": {
          "color": [
           "rgb(0.00, 0.00, 255.00)",
           "rgb(0.00, 0.00, 255.00)"
          ],
          "width": 4
         },
         "mode": "lines",
         "showlegend": false,
         "type": "scatter3d",
         "x": [
          68.012,
          68.181
         ],
         "y": [
          39.8,
          25.025
         ],
         "z": [
          0.2,
          0.2
         ]
        },
        {
         "line": {
          "color": [
           "rgb(191.25, 127.50, 127.50)",
           "rgb(191.25, 127.50, 127.50)"
          ],
          "width": 1
         },
         "mode": "lines",
         "showlegend": false,
         "type": "scatter3d",
         "x": [
          68.181,
          67.41
         ],
         "y": [
          25.025,
          39.8
         ],
         "z": [
          0.2,
          0.2
         ]
        },
        {
         "line": {
          "color": [
           "rgb(0.00, 0.00, 255.00)",
           "rgb(0.00, 0.00, 255.00)"
          ],
          "width": 4
         },
         "mode": "lines",
         "showlegend": false,
         "type": "scatter3d",
         "x": [
          67.41,
          67.545
         ],
         "y": [
          39.8,
          25.016
         ],
         "z": [
          0.2,
          0.2
         ]
        },
        {
         "line": {
          "color": [
           "rgb(191.25, 127.50, 127.50)",
           "rgb(191.25, 127.50, 127.50)"
          ],
          "width": 1
         },
         "mode": "lines",
         "showlegend": false,
         "type": "scatter3d",
         "x": [
          67.545,
          66.807
         ],
         "y": [
          25.016,
          39.8
         ],
         "z": [
          0.2,
          0.2
         ]
        },
        {
         "line": {
          "color": [
           "rgb(0.00, 0.00, 255.00)",
           "rgb(0.00, 0.00, 255.00)"
          ],
          "width": 4
         },
         "mode": "lines",
         "showlegend": false,
         "type": "scatter3d",
         "x": [
          66.807,
          66.908
         ],
         "y": [
          39.8,
          25.009
         ],
         "z": [
          0.2,
          0.2
         ]
        },
        {
         "line": {
          "color": [
           "rgb(191.25, 127.50, 127.50)",
           "rgb(191.25, 127.50, 127.50)"
          ],
          "width": 1
         },
         "mode": "lines",
         "showlegend": false,
         "type": "scatter3d",
         "x": [
          66.908,
          66.205
         ],
         "y": [
          25.009,
          39.8
         ],
         "z": [
          0.2,
          0.2
         ]
        },
        {
         "line": {
          "color": [
           "rgb(0.00, 0.00, 255.00)",
           "rgb(0.00, 0.00, 255.00)"
          ],
          "width": 4
         },
         "mode": "lines",
         "showlegend": false,
         "type": "scatter3d",
         "x": [
          66.205,
          66.272
         ],
         "y": [
          39.8,
          25.004
         ],
         "z": [
          0.2,
          0.2
         ]
        },
        {
         "line": {
          "color": [
           "rgb(191.25, 127.50, 127.50)",
           "rgb(191.25, 127.50, 127.50)"
          ],
          "width": 1
         },
         "mode": "lines",
         "showlegend": false,
         "type": "scatter3d",
         "x": [
          66.272,
          65.602
         ],
         "y": [
          25.004,
          39.8
         ],
         "z": [
          0.2,
          0.2
         ]
        },
        {
         "line": {
          "color": [
           "rgb(0.00, 0.00, 255.00)",
           "rgb(0.00, 0.00, 255.00)"
          ],
          "width": 4
         },
         "mode": "lines",
         "showlegend": false,
         "type": "scatter3d",
         "x": [
          65.602,
          65.636
         ],
         "y": [
          39.8,
          25.001
         ],
         "z": [
          0.2,
          0.2
         ]
        },
        {
         "line": {
          "color": [
           "rgb(191.25, 127.50, 127.50)",
           "rgb(191.25, 127.50, 127.50)"
          ],
          "width": 1
         },
         "mode": "lines",
         "showlegend": false,
         "type": "scatter3d",
         "x": [
          65.636,
          65
         ],
         "y": [
          25.001,
          39.8
         ],
         "z": [
          0.2,
          0.2
         ]
        },
        {
         "line": {
          "color": [
           "rgb(0.00, 0.00, 255.00)",
           "rgb(0.00, 0.00, 255.00)"
          ],
          "width": 4
         },
         "mode": "lines",
         "showlegend": false,
         "type": "scatter3d",
         "x": [
          65,
          65
         ],
         "y": [
          39.8,
          25
         ],
         "z": [
          0.2,
          0.2
         ]
        },
        {
         "line": {
          "color": [
           "rgb(191.25, 127.50, 127.50)",
           "rgb(191.25, 127.50, 127.50)"
          ],
          "width": 1
         },
         "mode": "lines",
         "showlegend": false,
         "type": "scatter3d",
         "x": [
          65,
          64.4
         ],
         "y": [
          25,
          39.8
         ],
         "z": [
          0.2,
          0.2
         ]
        },
        {
         "line": {
          "color": [
           "rgb(0.00, 0.00, 255.00)",
           "rgb(0.00, 0.00, 255.00)"
          ],
          "width": 4
         },
         "mode": "lines",
         "showlegend": false,
         "type": "scatter3d",
         "x": [
          64.4,
          64.318
         ],
         "y": [
          39.8,
          25.001
         ],
         "z": [
          0.2,
          0.2
         ]
        },
        {
         "line": {
          "color": [
           "rgb(191.25, 127.50, 127.50)",
           "rgb(191.25, 127.50, 127.50)"
          ],
          "width": 1
         },
         "mode": "lines",
         "showlegend": false,
         "type": "scatter3d",
         "x": [
          64.318,
          63.8
         ],
         "y": [
          25.001,
          39.8
         ],
         "z": [
          0.2,
          0.2
         ]
        },
        {
         "line": {
          "color": [
           "rgb(0.00, 0.00, 255.00)",
           "rgb(0.00, 0.00, 255.00)"
          ],
          "width": 4
         },
         "mode": "lines",
         "showlegend": false,
         "type": "scatter3d",
         "x": [
          63.8,
          63.636
         ],
         "y": [
          39.8,
          25.002
         ],
         "z": [
          0.2,
          0.2
         ]
        },
        {
         "line": {
          "color": [
           "rgb(191.25, 127.50, 127.50)",
           "rgb(191.25, 127.50, 127.50)"
          ],
          "width": 1
         },
         "mode": "lines",
         "showlegend": false,
         "type": "scatter3d",
         "x": [
          63.636,
          63.2
         ],
         "y": [
          25.002,
          39.8
         ],
         "z": [
          0.2,
          0.2
         ]
        },
        {
         "line": {
          "color": [
           "rgb(0.00, 0.00, 255.00)",
           "rgb(0.00, 0.00, 255.00)"
          ],
          "width": 4
         },
         "mode": "lines",
         "showlegend": false,
         "type": "scatter3d",
         "x": [
          63.2,
          62.955
         ],
         "y": [
          39.8,
          25.006
         ],
         "z": [
          0.2,
          0.2
         ]
        },
        {
         "line": {
          "color": [
           "rgb(191.25, 127.50, 127.50)",
           "rgb(191.25, 127.50, 127.50)"
          ],
          "width": 1
         },
         "mode": "lines",
         "showlegend": false,
         "type": "scatter3d",
         "x": [
          62.955,
          62.6
         ],
         "y": [
          25.006,
          39.8
         ],
         "z": [
          0.2,
          0.2
         ]
        },
        {
         "line": {
          "color": [
           "rgb(0.00, 0.00, 255.00)",
           "rgb(0.00, 0.00, 255.00)"
          ],
          "width": 4
         },
         "mode": "lines",
         "showlegend": false,
         "type": "scatter3d",
         "x": [
          62.6,
          62.273
         ],
         "y": [
          39.8,
          25.01
         ],
         "z": [
          0.2,
          0.2
         ]
        },
        {
         "line": {
          "color": [
           "rgb(191.25, 127.50, 127.50)",
           "rgb(191.25, 127.50, 127.50)"
          ],
          "width": 1
         },
         "mode": "lines",
         "showlegend": false,
         "type": "scatter3d",
         "x": [
          62.273,
          62
         ],
         "y": [
          25.01,
          39.8
         ],
         "z": [
          0.2,
          0.2
         ]
        },
        {
         "line": {
          "color": [
           "rgb(0.00, 0.00, 255.00)",
           "rgb(0.00, 0.00, 255.00)"
          ],
          "width": 4
         },
         "mode": "lines",
         "showlegend": false,
         "type": "scatter3d",
         "x": [
          62,
          61.591
         ],
         "y": [
          39.8,
          25.016
         ],
         "z": [
          0.2,
          0.2
         ]
        },
        {
         "line": {
          "color": [
           "rgb(191.25, 127.50, 127.50)",
           "rgb(191.25, 127.50, 127.50)"
          ],
          "width": 1
         },
         "mode": "lines",
         "showlegend": false,
         "type": "scatter3d",
         "x": [
          61.591,
          61.4
         ],
         "y": [
          25.016,
          39.8
         ],
         "z": [
          0.2,
          0.2
         ]
        },
        {
         "line": {
          "color": [
           "rgb(0.00, 0.00, 255.00)",
           "rgb(0.00, 0.00, 255.00)"
          ],
          "width": 4
         },
         "mode": "lines",
         "showlegend": false,
         "type": "scatter3d",
         "x": [
          61.4,
          60.909
         ],
         "y": [
          39.8,
          25.022
         ],
         "z": [
          0.2,
          0.2
         ]
        },
        {
         "line": {
          "color": [
           "rgb(191.25, 127.50, 127.50)",
           "rgb(191.25, 127.50, 127.50)"
          ],
          "width": 1
         },
         "mode": "lines",
         "showlegend": false,
         "type": "scatter3d",
         "x": [
          60.909,
          60.8
         ],
         "y": [
          25.022,
          39.8
         ],
         "z": [
          0.2,
          0.2
         ]
        },
        {
         "line": {
          "color": [
           "rgb(0.00, 0.00, 255.00)",
           "rgb(0.00, 0.00, 255.00)"
          ],
          "width": 4
         },
         "mode": "lines",
         "showlegend": false,
         "type": "scatter3d",
         "x": [
          60.8,
          60.227
         ],
         "y": [
          39.8,
          25.03
         ],
         "z": [
          0.2,
          0.2
         ]
        },
        {
         "line": {
          "color": [
           "rgb(191.25, 127.50, 127.50)",
           "rgb(191.25, 127.50, 127.50)"
          ],
          "width": 1
         },
         "mode": "lines",
         "showlegend": false,
         "type": "scatter3d",
         "x": [
          60.227,
          60.2
         ],
         "y": [
          25.03,
          39.8
         ],
         "z": [
          0.2,
          0.2
         ]
        },
        {
         "line": {
          "color": [
           "rgb(0.00, 0.00, 255.00)",
           "rgb(0.00, 0.00, 255.00)"
          ],
          "width": 4
         },
         "mode": "lines",
         "showlegend": false,
         "type": "scatter3d",
         "x": [
          60.2,
          59.545
         ],
         "y": [
          39.8,
          25.04
         ],
         "z": [
          0.2,
          0.2
         ]
        },
        {
         "line": {
          "color": [
           "rgb(191.25, 127.50, 127.50)",
           "rgb(191.25, 127.50, 127.50)"
          ],
          "width": 1
         },
         "mode": "lines",
         "showlegend": false,
         "type": "scatter3d",
         "x": [
          59.545,
          59.6
         ],
         "y": [
          25.04,
          39.8
         ],
         "z": [
          0.2,
          0.2
         ]
        },
        {
         "line": {
          "color": [
           "rgb(0.00, 0.00, 255.00)",
           "rgb(0.00, 0.00, 255.00)"
          ],
          "width": 4
         },
         "mode": "lines",
         "showlegend": false,
         "type": "scatter3d",
         "x": [
          59.6,
          58.864
         ],
         "y": [
          39.8,
          25.05
         ],
         "z": [
          0.2,
          0.2
         ]
        },
        {
         "line": {
          "color": [
           "rgb(191.25, 127.50, 127.50)",
           "rgb(191.25, 127.50, 127.50)"
          ],
          "width": 1
         },
         "mode": "lines",
         "showlegend": false,
         "type": "scatter3d",
         "x": [
          58.864,
          59
         ],
         "y": [
          25.05,
          39.8
         ],
         "z": [
          0.2,
          0.2
         ]
        },
        {
         "line": {
          "color": [
           "rgb(0.00, 0.00, 255.00)",
           "rgb(0.00, 0.00, 255.00)"
          ],
          "width": 4
         },
         "mode": "lines",
         "showlegend": false,
         "type": "scatter3d",
         "x": [
          59,
          58.182
         ],
         "y": [
          39.8,
          25.062
         ],
         "z": [
          0.2,
          0.2
         ]
        },
        {
         "line": {
          "color": [
           "rgb(191.25, 127.50, 127.50)",
           "rgb(191.25, 127.50, 127.50)"
          ],
          "width": 1
         },
         "mode": "lines",
         "showlegend": false,
         "type": "scatter3d",
         "x": [
          58.182,
          58.4
         ],
         "y": [
          25.062,
          39.8
         ],
         "z": [
          0.2,
          0.2
         ]
        },
        {
         "line": {
          "color": [
           "rgb(0.00, 0.00, 255.00)",
           "rgb(0.00, 0.00, 255.00)"
          ],
          "width": 4
         },
         "mode": "lines",
         "showlegend": false,
         "type": "scatter3d",
         "x": [
          58.4,
          57.5
         ],
         "y": [
          39.8,
          25.075
         ],
         "z": [
          0.2,
          0.2
         ]
        },
        {
         "line": {
          "color": [
           "rgb(191.25, 127.50, 127.50)",
           "rgb(191.25, 127.50, 127.50)"
          ],
          "width": 1
         },
         "mode": "lines",
         "showlegend": false,
         "type": "scatter3d",
         "x": [
          57.5,
          57.8
         ],
         "y": [
          25.075,
          39.8
         ],
         "z": [
          0.2,
          0.2
         ]
        },
        {
         "line": {
          "color": [
           "rgb(0.00, 0.00, 255.00)",
           "rgb(0.00, 0.00, 255.00)"
          ],
          "width": 4
         },
         "mode": "lines",
         "showlegend": false,
         "type": "scatter3d",
         "x": [
          57.8,
          56.818
         ],
         "y": [
          39.8,
          25.09
         ],
         "z": [
          0.2,
          0.2
         ]
        },
        {
         "line": {
          "color": [
           "rgb(191.25, 127.50, 127.50)",
           "rgb(191.25, 127.50, 127.50)"
          ],
          "width": 1
         },
         "mode": "lines",
         "showlegend": false,
         "type": "scatter3d",
         "x": [
          56.818,
          57.2
         ],
         "y": [
          25.09,
          39.8
         ],
         "z": [
          0.2,
          0.2
         ]
        },
        {
         "line": {
          "color": [
           "rgb(0.00, 0.00, 255.00)",
           "rgb(0.00, 0.00, 255.00)"
          ],
          "width": 4
         },
         "mode": "lines",
         "showlegend": false,
         "type": "scatter3d",
         "x": [
          57.2,
          56.136
         ],
         "y": [
          39.8,
          25.105
         ],
         "z": [
          0.2,
          0.2
         ]
        },
        {
         "line": {
          "color": [
           "rgb(191.25, 127.50, 127.50)",
           "rgb(191.25, 127.50, 127.50)"
          ],
          "width": 1
         },
         "mode": "lines",
         "showlegend": false,
         "type": "scatter3d",
         "x": [
          56.136,
          56.6
         ],
         "y": [
          25.105,
          39.8
         ],
         "z": [
          0.2,
          0.2
         ]
        },
        {
         "line": {
          "color": [
           "rgb(0.00, 0.00, 255.00)",
           "rgb(0.00, 0.00, 255.00)"
          ],
          "width": 4
         },
         "mode": "lines",
         "showlegend": false,
         "type": "scatter3d",
         "x": [
          56.6,
          55.455
         ],
         "y": [
          39.8,
          25.122
         ],
         "z": [
          0.2,
          0.2
         ]
        },
        {
         "line": {
          "color": [
           "rgb(191.25, 127.50, 127.50)",
           "rgb(191.25, 127.50, 127.50)"
          ],
          "width": 1
         },
         "mode": "lines",
         "showlegend": false,
         "type": "scatter3d",
         "x": [
          55.455,
          56
         ],
         "y": [
          25.122,
          39.8
         ],
         "z": [
          0.2,
          0.2
         ]
        },
        {
         "line": {
          "color": [
           "rgb(0.00, 0.00, 255.00)",
           "rgb(0.00, 0.00, 255.00)"
          ],
          "width": 4
         },
         "mode": "lines",
         "showlegend": false,
         "type": "scatter3d",
         "x": [
          56,
          54.773
         ],
         "y": [
          39.8,
          25.14
         ],
         "z": [
          0.2,
          0.2
         ]
        },
        {
         "line": {
          "color": [
           "rgb(191.25, 127.50, 127.50)",
           "rgb(191.25, 127.50, 127.50)"
          ],
          "width": 1
         },
         "mode": "lines",
         "showlegend": false,
         "type": "scatter3d",
         "x": [
          54.773,
          55.4
         ],
         "y": [
          25.14,
          39.8
         ],
         "z": [
          0.2,
          0.2
         ]
        },
        {
         "line": {
          "color": [
           "rgb(0.00, 0.00, 255.00)",
           "rgb(0.00, 0.00, 255.00)"
          ],
          "width": 4
         },
         "mode": "lines",
         "showlegend": false,
         "type": "scatter3d",
         "x": [
          55.4,
          54.091
         ],
         "y": [
          39.8,
          25.16
         ],
         "z": [
          0.2,
          0.2
         ]
        },
        {
         "line": {
          "color": [
           "rgb(191.25, 127.50, 127.50)",
           "rgb(191.25, 127.50, 127.50)"
          ],
          "width": 1
         },
         "mode": "lines",
         "showlegend": false,
         "type": "scatter3d",
         "x": [
          54.091,
          54.8
         ],
         "y": [
          25.16,
          39.8
         ],
         "z": [
          0.2,
          0.2
         ]
        },
        {
         "line": {
          "color": [
           "rgb(0.00, 0.00, 255.00)",
           "rgb(0.00, 0.00, 255.00)"
          ],
          "width": 4
         },
         "mode": "lines",
         "showlegend": false,
         "type": "scatter3d",
         "x": [
          54.8,
          53.409
         ],
         "y": [
          39.8,
          25.18
         ],
         "z": [
          0.2,
          0.2
         ]
        },
        {
         "line": {
          "color": [
           "rgb(191.25, 127.50, 127.50)",
           "rgb(191.25, 127.50, 127.50)"
          ],
          "width": 1
         },
         "mode": "lines",
         "showlegend": false,
         "type": "scatter3d",
         "x": [
          53.409,
          54.2
         ],
         "y": [
          25.18,
          39.8
         ],
         "z": [
          0.2,
          0.2
         ]
        },
        {
         "line": {
          "color": [
           "rgb(0.00, 0.00, 255.00)",
           "rgb(0.00, 0.00, 255.00)"
          ],
          "width": 4
         },
         "mode": "lines",
         "showlegend": false,
         "type": "scatter3d",
         "x": [
          54.2,
          52.727
         ],
         "y": [
          39.8,
          25.202
         ],
         "z": [
          0.2,
          0.2
         ]
        },
        {
         "line": {
          "color": [
           "rgb(191.25, 127.50, 127.50)",
           "rgb(191.25, 127.50, 127.50)"
          ],
          "width": 1
         },
         "mode": "lines",
         "showlegend": false,
         "type": "scatter3d",
         "x": [
          52.727,
          53.6
         ],
         "y": [
          25.202,
          39.8
         ],
         "z": [
          0.2,
          0.2
         ]
        },
        {
         "line": {
          "color": [
           "rgb(0.00, 0.00, 255.00)",
           "rgb(0.00, 0.00, 255.00)"
          ],
          "width": 4
         },
         "mode": "lines",
         "showlegend": false,
         "type": "scatter3d",
         "x": [
          53.6,
          52.045
         ],
         "y": [
          39.8,
          25.225
         ],
         "z": [
          0.2,
          0.2
         ]
        },
        {
         "line": {
          "color": [
           "rgb(191.25, 127.50, 127.50)",
           "rgb(191.25, 127.50, 127.50)"
          ],
          "width": 1
         },
         "mode": "lines",
         "showlegend": false,
         "type": "scatter3d",
         "x": [
          52.045,
          53
         ],
         "y": [
          25.225,
          39.8
         ],
         "z": [
          0.2,
          0.2
         ]
        },
        {
         "line": {
          "color": [
           "rgb(0.00, 0.00, 255.00)",
           "rgb(0.00, 0.00, 255.00)"
          ],
          "width": 4
         },
         "mode": "lines",
         "showlegend": false,
         "type": "scatter3d",
         "x": [
          53,
          51.364
         ],
         "y": [
          39.8,
          25.25
         ],
         "z": [
          0.2,
          0.2
         ]
        },
        {
         "line": {
          "color": [
           "rgb(191.25, 127.50, 127.50)",
           "rgb(191.25, 127.50, 127.50)"
          ],
          "width": 1
         },
         "mode": "lines",
         "showlegend": false,
         "type": "scatter3d",
         "x": [
          51.364,
          52.4
         ],
         "y": [
          25.25,
          39.8
         ],
         "z": [
          0.2,
          0.2
         ]
        },
        {
         "line": {
          "color": [
           "rgb(0.00, 0.00, 255.00)",
           "rgb(0.00, 0.00, 255.00)"
          ],
          "width": 4
         },
         "mode": "lines",
         "showlegend": false,
         "type": "scatter3d",
         "x": [
          52.4,
          50.682
         ],
         "y": [
          39.8,
          25.276
         ],
         "z": [
          0.2,
          0.2
         ]
        },
        {
         "line": {
          "color": [
           "rgb(191.25, 127.50, 127.50)",
           "rgb(191.25, 127.50, 127.50)"
          ],
          "width": 1
         },
         "mode": "lines",
         "showlegend": false,
         "type": "scatter3d",
         "x": [
          50.682,
          51.8
         ],
         "y": [
          25.276,
          39.8
         ],
         "z": [
          0.2,
          0.2
         ]
        },
        {
         "line": {
          "color": [
           "rgb(0.00, 0.00, 255.00)",
           "rgb(0.00, 0.00, 255.00)"
          ],
          "width": 4
         },
         "mode": "lines",
         "showlegend": false,
         "type": "scatter3d",
         "x": [
          51.8,
          50
         ],
         "y": [
          39.8,
          25.303
         ],
         "z": [
          0.2,
          0.2
         ]
        },
        {
         "line": {
          "color": [
           "rgb(191.25, 127.50, 127.50)",
           "rgb(191.25, 127.50, 127.50)"
          ],
          "width": 1
         },
         "mode": "lines",
         "showlegend": false,
         "type": "scatter3d",
         "x": [
          50,
          51.2
         ],
         "y": [
          25.303,
          39.8
         ],
         "z": [
          0.2,
          0.2
         ]
        },
        {
         "line": {
          "color": [
           "rgb(0.00, 0.00, 255.00)",
           "rgb(0.00, 0.00, 255.00)"
          ],
          "width": 4
         },
         "mode": "lines",
         "showlegend": false,
         "type": "scatter3d",
         "x": [
          51.2,
          49.318
         ],
         "y": [
          39.8,
          25.332
         ],
         "z": [
          0.2,
          0.2
         ]
        },
        {
         "line": {
          "color": [
           "rgb(191.25, 127.50, 127.50)",
           "rgb(191.25, 127.50, 127.50)"
          ],
          "width": 1
         },
         "mode": "lines",
         "showlegend": false,
         "type": "scatter3d",
         "x": [
          49.318,
          50.6
         ],
         "y": [
          25.332,
          39.8
         ],
         "z": [
          0.2,
          0.2
         ]
        },
        {
         "line": {
          "color": [
           "rgb(0.00, 0.00, 255.00)",
           "rgb(0.00, 0.00, 255.00)"
          ],
          "width": 4
         },
         "mode": "lines",
         "showlegend": false,
         "type": "scatter3d",
         "x": [
          50.6,
          48.636
         ],
         "y": [
          39.8,
          25.361
         ],
         "z": [
          0.2,
          0.2
         ]
        },
        {
         "line": {
          "color": [
           "rgb(191.25, 127.50, 127.50)",
           "rgb(191.25, 127.50, 127.50)"
          ],
          "width": 1
         },
         "mode": "lines",
         "showlegend": false,
         "type": "scatter3d",
         "x": [
          48.636,
          50
         ],
         "y": [
          25.361,
          39.8
         ],
         "z": [
          0.2,
          0.2
         ]
        },
        {
         "line": {
          "color": [
           "rgb(0.00, 0.00, 255.00)",
           "rgb(0.00, 0.00, 255.00)"
          ],
          "width": 4
         },
         "mode": "lines",
         "showlegend": false,
         "type": "scatter3d",
         "x": [
          50,
          47.955
         ],
         "y": [
          39.8,
          25.393
         ],
         "z": [
          0.2,
          0.2
         ]
        },
        {
         "line": {
          "color": [
           "rgb(191.25, 127.50, 127.50)",
           "rgb(191.25, 127.50, 127.50)"
          ],
          "width": 1
         },
         "mode": "lines",
         "showlegend": false,
         "type": "scatter3d",
         "x": [
          47.955,
          49.4
         ],
         "y": [
          25.393,
          39.8
         ],
         "z": [
          0.2,
          0.2
         ]
        },
        {
         "line": {
          "color": [
           "rgb(0.00, 0.00, 255.00)",
           "rgb(0.00, 0.00, 255.00)"
          ],
          "width": 4
         },
         "mode": "lines",
         "showlegend": false,
         "type": "scatter3d",
         "x": [
          49.4,
          47.273
         ],
         "y": [
          39.8,
          25.425
         ],
         "z": [
          0.2,
          0.2
         ]
        },
        {
         "line": {
          "color": [
           "rgb(191.25, 127.50, 127.50)",
           "rgb(191.25, 127.50, 127.50)"
          ],
          "width": 1
         },
         "mode": "lines",
         "showlegend": false,
         "type": "scatter3d",
         "x": [
          47.273,
          48.8
         ],
         "y": [
          25.425,
          39.8
         ],
         "z": [
          0.2,
          0.2
         ]
        },
        {
         "line": {
          "color": [
           "rgb(0.00, 0.00, 255.00)",
           "rgb(0.00, 0.00, 255.00)"
          ],
          "width": 4
         },
         "mode": "lines",
         "showlegend": false,
         "type": "scatter3d",
         "x": [
          48.8,
          46.591
         ],
         "y": [
          39.8,
          25.459
         ],
         "z": [
          0.2,
          0.2
         ]
        },
        {
         "line": {
          "color": [
           "rgb(191.25, 127.50, 127.50)",
           "rgb(191.25, 127.50, 127.50)"
          ],
          "width": 1
         },
         "mode": "lines",
         "showlegend": false,
         "type": "scatter3d",
         "x": [
          46.591,
          48.2
         ],
         "y": [
          25.459,
          39.8
         ],
         "z": [
          0.2,
          0.2
         ]
        },
        {
         "line": {
          "color": [
           "rgb(0.00, 0.00, 255.00)",
           "rgb(0.00, 0.00, 255.00)"
          ],
          "width": 4
         },
         "mode": "lines",
         "showlegend": false,
         "type": "scatter3d",
         "x": [
          48.2,
          45.909
         ],
         "y": [
          39.8,
          25.494
         ],
         "z": [
          0.2,
          0.2
         ]
        },
        {
         "line": {
          "color": [
           "rgb(191.25, 127.50, 127.50)",
           "rgb(191.25, 127.50, 127.50)"
          ],
          "width": 1
         },
         "mode": "lines",
         "showlegend": false,
         "type": "scatter3d",
         "x": [
          45.909,
          47.6
         ],
         "y": [
          25.494,
          39.8
         ],
         "z": [
          0.2,
          0.2
         ]
        },
        {
         "line": {
          "color": [
           "rgb(0.00, 0.00, 255.00)",
           "rgb(0.00, 0.00, 255.00)"
          ],
          "width": 4
         },
         "mode": "lines",
         "showlegend": false,
         "type": "scatter3d",
         "x": [
          47.6,
          45.227
         ],
         "y": [
          39.8,
          25.531
         ],
         "z": [
          0.2,
          0.2
         ]
        },
        {
         "line": {
          "color": [
           "rgb(191.25, 127.50, 127.50)",
           "rgb(191.25, 127.50, 127.50)"
          ],
          "width": 1
         },
         "mode": "lines",
         "showlegend": false,
         "type": "scatter3d",
         "x": [
          45.227,
          47
         ],
         "y": [
          25.531,
          39.8
         ],
         "z": [
          0.2,
          0.2
         ]
        },
        {
         "line": {
          "color": [
           "rgb(0.00, 0.00, 255.00)",
           "rgb(0.00, 0.00, 255.00)"
          ],
          "width": 4
         },
         "mode": "lines",
         "showlegend": false,
         "type": "scatter3d",
         "x": [
          47,
          44.545
         ],
         "y": [
          39.8,
          25.569
         ],
         "z": [
          0.2,
          0.2
         ]
        },
        {
         "line": {
          "color": [
           "rgb(191.25, 127.50, 127.50)",
           "rgb(191.25, 127.50, 127.50)"
          ],
          "width": 1
         },
         "mode": "lines",
         "showlegend": false,
         "type": "scatter3d",
         "x": [
          44.545,
          46.4
         ],
         "y": [
          25.569,
          39.8
         ],
         "z": [
          0.2,
          0.2
         ]
        },
        {
         "line": {
          "color": [
           "rgb(0.00, 0.00, 255.00)",
           "rgb(0.00, 0.00, 255.00)"
          ],
          "width": 4
         },
         "mode": "lines",
         "showlegend": false,
         "type": "scatter3d",
         "x": [
          46.4,
          43.864
         ],
         "y": [
          39.8,
          25.608
         ],
         "z": [
          0.2,
          0.2
         ]
        },
        {
         "line": {
          "color": [
           "rgb(191.25, 127.50, 127.50)",
           "rgb(191.25, 127.50, 127.50)"
          ],
          "width": 1
         },
         "mode": "lines",
         "showlegend": false,
         "type": "scatter3d",
         "x": [
          43.864,
          45.8
         ],
         "y": [
          25.608,
          39.8
         ],
         "z": [
          0.2,
          0.2
         ]
        },
        {
         "line": {
          "color": [
           "rgb(0.00, 0.00, 255.00)",
           "rgb(0.00, 0.00, 255.00)"
          ],
          "width": 4
         },
         "mode": "lines",
         "showlegend": false,
         "type": "scatter3d",
         "x": [
          45.8,
          43.182
         ],
         "y": [
          39.8,
          25.649
         ],
         "z": [
          0.2,
          0.2
         ]
        },
        {
         "line": {
          "color": [
           "rgb(191.25, 127.50, 127.50)",
           "rgb(191.25, 127.50, 127.50)"
          ],
          "width": 1
         },
         "mode": "lines",
         "showlegend": false,
         "type": "scatter3d",
         "x": [
          43.182,
          45.2
         ],
         "y": [
          25.649,
          39.8
         ],
         "z": [
          0.2,
          0.2
         ]
        },
        {
         "line": {
          "color": [
           "rgb(0.00, 0.00, 255.00)",
           "rgb(0.00, 0.00, 255.00)"
          ],
          "width": 4
         },
         "mode": "lines",
         "showlegend": false,
         "type": "scatter3d",
         "x": [
          45.2,
          42.5
         ],
         "y": [
          39.8,
          25.691
         ],
         "z": [
          0.2,
          0.2
         ]
        },
        {
         "line": {
          "color": [
           "rgb(191.25, 127.50, 127.50)",
           "rgb(191.25, 127.50, 127.50)"
          ],
          "width": 1
         },
         "mode": "lines",
         "showlegend": false,
         "type": "scatter3d",
         "x": [
          42.5,
          42.5
         ],
         "y": [
          25.691,
          25.691
         ],
         "z": [
          0.2,
          0.8
         ]
        },
        {
         "line": {
          "color": [
           "rgb(0.00, 153.00, 255.00)",
           "rgb(191.25, 127.50, 127.50)"
          ],
          "width": 1
         },
         "mode": "lines",
         "showlegend": false,
         "type": "scatter3d",
         "x": [
          42.5,
          115.25
         ],
         "y": [
          25.691,
          40
         ],
         "z": [
          0.8,
          0.8
         ]
        },
        {
         "line": {
          "color": [
           "rgb(0.00, 153.00, 255.00)",
           "rgb(0.00, 0.00, 255.00)",
           "rgb(0.00, 0.00, 255.00)",
           "rgb(0.00, 0.00, 255.00)",
           "rgb(0.00, 0.00, 255.00)",
           "rgb(0.00, 0.00, 255.00)",
           "rgb(0.00, 0.00, 255.00)",
           "rgb(0.00, 0.00, 255.00)",
           "rgb(0.00, 0.00, 255.00)",
           "rgb(0.00, 0.00, 255.00)",
           "rgb(0.00, 0.00, 255.00)",
           "rgb(0.00, 0.00, 255.00)",
           "rgb(0.00, 0.00, 255.00)",
           "rgb(0.00, 0.00, 255.00)",
           "rgb(0.00, 0.00, 255.00)",
           "rgb(0.00, 0.00, 255.00)",
           "rgb(0.00, 0.00, 255.00)",
           "rgb(0.00, 0.00, 255.00)",
           "rgb(0.00, 0.00, 255.00)",
           "rgb(0.00, 0.00, 255.00)",
           "rgb(0.00, 0.00, 255.00)",
           "rgb(0.00, 0.00, 255.00)",
           "rgb(0.00, 0.00, 255.00)",
           "rgb(0.00, 0.00, 255.00)",
           "rgb(0.00, 0.00, 255.00)",
           "rgb(0.00, 0.00, 255.00)",
           "rgb(0.00, 0.00, 255.00)",
           "rgb(0.00, 0.00, 255.00)",
           "rgb(0.00, 0.00, 255.00)",
           "rgb(0.00, 0.00, 255.00)",
           "rgb(0.00, 0.00, 255.00)",
           "rgb(0.00, 0.00, 255.00)",
           "rgb(0.00, 0.00, 255.00)",
           "rgb(0.00, 0.00, 255.00)",
           "rgb(0.00, 0.00, 255.00)",
           "rgb(0.00, 0.00, 255.00)",
           "rgb(0.00, 0.00, 255.00)",
           "rgb(0.00, 0.00, 255.00)",
           "rgb(0.00, 0.00, 255.00)",
           "rgb(0.00, 0.00, 255.00)",
           "rgb(0.00, 0.00, 255.00)",
           "rgb(0.00, 0.00, 255.00)",
           "rgb(0.00, 0.00, 255.00)",
           "rgb(0.00, 0.00, 255.00)",
           "rgb(0.00, 0.00, 255.00)",
           "rgb(0.00, 0.00, 255.00)",
           "rgb(0.00, 0.00, 255.00)",
           "rgb(0.00, 0.00, 255.00)",
           "rgb(0.00, 0.00, 255.00)",
           "rgb(0.00, 0.00, 255.00)",
           "rgb(0.00, 0.00, 255.00)",
           "rgb(0.00, 0.00, 255.00)",
           "rgb(0.00, 0.00, 255.00)",
           "rgb(0.00, 0.00, 255.00)",
           "rgb(0.00, 0.00, 255.00)",
           "rgb(0.00, 0.00, 255.00)",
           "rgb(0.00, 0.00, 255.00)",
           "rgb(0.00, 0.00, 255.00)",
           "rgb(0.00, 0.00, 255.00)",
           "rgb(0.00, 0.00, 255.00)",
           "rgb(0.00, 0.00, 255.00)",
           "rgb(0.00, 0.00, 255.00)",
           "rgb(0.00, 0.00, 255.00)",
           "rgb(0.00, 0.00, 255.00)",
           "rgb(0.00, 0.00, 255.00)",
           "rgb(0.00, 0.00, 255.00)",
           "rgb(0.00, 0.00, 255.00)",
           "rgb(0.00, 0.00, 255.00)",
           "rgb(0.00, 0.00, 255.00)",
           "rgb(0.00, 0.00, 255.00)",
           "rgb(0.00, 0.00, 255.00)",
           "rgb(0.00, 0.00, 255.00)",
           "rgb(0.00, 0.00, 255.00)",
           "rgb(0.00, 0.00, 255.00)",
           "rgb(0.00, 0.00, 255.00)",
           "rgb(0.00, 0.00, 255.00)",
           "rgb(0.00, 0.00, 255.00)",
           "rgb(0.00, 0.00, 255.00)",
           "rgb(0.00, 0.00, 255.00)",
           "rgb(0.00, 0.00, 255.00)",
           "rgb(0.00, 0.00, 255.00)",
           "rgb(0.00, 0.00, 255.00)",
           "rgb(0.00, 0.00, 255.00)",
           "rgb(0.00, 0.00, 255.00)",
           "rgb(0.00, 0.00, 255.00)",
           "rgb(0.00, 0.00, 255.00)",
           "rgb(0.00, 0.00, 255.00)",
           "rgb(0.00, 0.00, 255.00)",
           "rgb(0.00, 0.00, 255.00)",
           "rgb(0.00, 0.00, 255.00)",
           "rgb(0.00, 0.00, 255.00)",
           "rgb(0.00, 0.00, 255.00)",
           "rgb(0.00, 0.00, 255.00)",
           "rgb(0.00, 0.00, 255.00)",
           "rgb(0.00, 0.00, 255.00)",
           "rgb(0.00, 0.00, 255.00)",
           "rgb(0.00, 0.00, 255.00)",
           "rgb(0.00, 0.00, 255.00)",
           "rgb(0.00, 0.00, 255.00)",
           "rgb(0.00, 0.00, 255.00)",
           "rgb(0.00, 0.00, 255.00)",
           "rgb(0.00, 0.00, 255.00)",
           "rgb(0.00, 0.00, 255.00)",
           "rgb(0.00, 0.00, 255.00)",
           "rgb(0.00, 0.00, 255.00)",
           "rgb(0.00, 0.00, 255.00)",
           "rgb(0.00, 0.00, 255.00)",
           "rgb(0.00, 0.00, 255.00)",
           "rgb(0.00, 0.00, 255.00)",
           "rgb(0.00, 0.00, 255.00)",
           "rgb(0.00, 0.00, 255.00)",
           "rgb(0.00, 0.00, 255.00)",
           "rgb(0.00, 0.00, 255.00)",
           "rgb(0.00, 0.00, 255.00)",
           "rgb(0.00, 0.00, 255.00)",
           "rgb(0.00, 0.00, 255.00)",
           "rgb(0.00, 0.00, 255.00)",
           "rgb(0.00, 0.00, 255.00)",
           "rgb(0.00, 0.00, 255.00)",
           "rgb(0.00, 0.00, 255.00)",
           "rgb(0.00, 0.00, 255.00)",
           "rgb(0.00, 0.00, 255.00)",
           "rgb(0.00, 0.00, 255.00)",
           "rgb(0.00, 0.00, 255.00)",
           "rgb(0.00, 0.00, 255.00)",
           "rgb(0.00, 0.00, 255.00)",
           "rgb(0.00, 0.00, 255.00)",
           "rgb(0.00, 0.00, 255.00)",
           "rgb(0.00, 0.00, 255.00)",
           "rgb(0.00, 0.00, 255.00)",
           "rgb(0.00, 0.00, 255.00)",
           "rgb(0.00, 0.00, 255.00)",
           "rgb(0.00, 0.00, 255.00)",
           "rgb(0.00, 0.00, 255.00)",
           "rgb(0.00, 0.00, 255.00)",
           "rgb(0.00, 0.00, 255.00)",
           "rgb(0.00, 0.00, 255.00)",
           "rgb(0.00, 0.00, 255.00)",
           "rgb(0.00, 0.00, 255.00)",
           "rgb(0.00, 0.00, 255.00)",
           "rgb(0.00, 0.00, 255.00)",
           "rgb(0.00, 0.00, 255.00)",
           "rgb(0.00, 0.00, 255.00)",
           "rgb(0.00, 0.00, 255.00)",
           "rgb(0.00, 0.00, 255.00)",
           "rgb(0.00, 0.00, 255.00)",
           "rgb(0.00, 0.00, 255.00)",
           "rgb(0.00, 0.00, 255.00)",
           "rgb(0.00, 0.00, 255.00)",
           "rgb(0.00, 0.00, 255.00)",
           "rgb(0.00, 0.00, 255.00)",
           "rgb(0.00, 0.00, 255.00)",
           "rgb(0.00, 0.00, 255.00)",
           "rgb(0.00, 0.00, 255.00)",
           "rgb(0.00, 0.00, 255.00)",
           "rgb(0.00, 0.00, 255.00)",
           "rgb(0.00, 0.00, 255.00)",
           "rgb(0.00, 0.00, 255.00)",
           "rgb(0.00, 0.00, 255.00)",
           "rgb(0.00, 0.00, 255.00)",
           "rgb(0.00, 0.00, 255.00)",
           "rgb(0.00, 0.00, 255.00)",
           "rgb(0.00, 0.00, 255.00)",
           "rgb(0.00, 0.00, 255.00)",
           "rgb(0.00, 0.00, 255.00)",
           "rgb(0.00, 0.00, 255.00)",
           "rgb(0.00, 0.00, 255.00)",
           "rgb(0.00, 0.00, 255.00)",
           "rgb(0.00, 0.00, 255.00)",
           "rgb(0.00, 0.00, 255.00)",
           "rgb(0.00, 0.00, 255.00)",
           "rgb(0.00, 0.00, 255.00)",
           "rgb(0.00, 0.00, 255.00)",
           "rgb(0.00, 0.00, 255.00)",
           "rgb(0.00, 0.00, 255.00)",
           "rgb(0.00, 0.00, 255.00)",
           "rgb(0.00, 0.00, 255.00)",
           "rgb(0.00, 0.00, 255.00)",
           "rgb(0.00, 0.00, 255.00)",
           "rgb(0.00, 0.00, 255.00)",
           "rgb(0.00, 0.00, 255.00)",
           "rgb(0.00, 0.00, 255.00)",
           "rgb(0.00, 0.00, 255.00)",
           "rgb(0.00, 0.00, 255.00)",
           "rgb(0.00, 0.00, 255.00)",
           "rgb(0.00, 0.00, 255.00)",
           "rgb(0.00, 0.00, 255.00)",
           "rgb(0.00, 0.00, 255.00)",
           "rgb(0.00, 0.00, 255.00)",
           "rgb(0.00, 0.00, 255.00)",
           "rgb(0.00, 0.00, 255.00)",
           "rgb(0.00, 0.00, 255.00)",
           "rgb(0.00, 0.00, 255.00)",
           "rgb(0.00, 0.00, 255.00)",
           "rgb(0.00, 0.00, 255.00)",
           "rgb(0.00, 0.00, 255.00)",
           "rgb(0.00, 0.00, 255.00)",
           "rgb(0.00, 0.00, 255.00)",
           "rgb(0.00, 0.00, 255.00)",
           "rgb(0.00, 0.00, 255.00)",
           "rgb(0.00, 0.00, 255.00)",
           "rgb(0.00, 0.00, 255.00)",
           "rgb(0.00, 0.00, 255.00)"
          ],
          "width": 4
         },
         "mode": "lines",
         "showlegend": false,
         "type": "scatter3d",
         "x": [
          115.25,
          115.25,
          114.999,
          114.748,
          114.496,
          114.245,
          113.994,
          113.743,
          113.491,
          113.24,
          112.989,
          112.737,
          112.486,
          112.235,
          111.984,
          111.733,
          111.481,
          111.23,
          110.979,
          110.727,
          110.476,
          110.225,
          109.974,
          109.722,
          109.471,
          109.22,
          108.969,
          108.718,
          108.466,
          108.215,
          107.964,
          107.713,
          107.461,
          107.21,
          106.959,
          106.707,
          106.456,
          106.205,
          105.954,
          105.703,
          105.451,
          105.2,
          104.949,
          104.697,
          104.446,
          104.195,
          103.944,
          103.692,
          103.441,
          103.19,
          102.939,
          102.688,
          102.436,
          102.185,
          101.934,
          101.683,
          101.431,
          101.18,
          100.929,
          100.677,
          100.426,
          100.175,
          99.924,
          99.672,
          99.421,
          99.17,
          98.919,
          98.668,
          98.416,
          98.165,
          97.914,
          97.662,
          97.411,
          97.16,
          96.909,
          96.657,
          96.406,
          96.155,
          95.904,
          95.653,
          95.401,
          95.15,
          94.899,
          94.648,
          94.396,
          94.145,
          93.894,
          93.642,
          93.391,
          93.14,
          92.889,
          92.638,
          92.386,
          92.135,
          91.884,
          91.632,
          91.381,
          91.13,
          90.879,
          90.627,
          90.376,
          90.125,
          89.874,
          89.623,
          89.371,
          89.12,
          88.869,
          88.618,
          88.366,
          88.115,
          87.864,
          87.612,
          87.361,
          87.11,
          86.859,
          86.608,
          86.356,
          86.105,
          85.854,
          85.602,
          85.351,
          85.1,
          84.849,
          84.597,
          84.346,
          84.095,
          83.844,
          83.593,
          83.341,
          83.09,
          82.839,
          82.588,
          82.336,
          82.085,
          81.834,
          81.583,
          81.331,
          81.08,
          80.829,
          80.578,
          80.326,
          80.075,
          79.824,
          79.572,
          79.321,
          79.07,
          78.819,
          78.567,
          78.316,
          78.065,
          77.814,
          77.562,
          77.311,
          77.06,
          76.809,
          76.558,
          76.306,
          76.055,
          75.804,
          75.553,
          75.301,
          75.05,
          74.799,
          74.547,
          74.296,
          74.045,
          73.794,
          73.542,
          73.291,
          73.04,
          72.789,
          72.537,
          72.286,
          72.035,
          71.784,
          71.532,
          71.281,
          71.03,
          70.779,
          70.528,
          70.276,
          70.025,
          69.774,
          69.523,
          69.271,
          69.02,
          68.769,
          68.517,
          68.266,
          68.015,
          67.764,
          67.513,
          67.261,
          67.01,
          66.759,
          66.507,
          66.256,
          66.005,
          65.754,
          65.502,
          65.251,
          65,
          30
         ],
         "y": [
          40,
          40,
          40,
          40,
          40,
          40,
          40,
          40,
          40,
          40,
          40,
          40,
          40,
          40,
          40,
          40,
          40,
          40,
          40,
          40,
          40,
          40,
          40,
          40,
          40,
          40,
          40,
          40,
          40,
          40,
          40,
          40,
          40,
          40,
          40,
          40,
          40,
          40,
          40,
          40,
          40,
          40,
          40,
          40,
          40,
          40,
          40,
          40,
          40,
          40,
          40,
          40,
          40,
          40,
          40,
          40,
          40,
          40,
          40,
          40,
          40,
          40,
          40,
          40,
          40,
          40,
          40,
          40,
          40,
          40,
          40,
          40,
          40,
          40,
          40,
          40,
          40,
          40,
          40,
          40,
          40,
          40,
          40,
          40,
          40,
          40,
          40,
          40,
          40,
          40,
          40,
          40,
          40,
          40,
          40,
          40,
          40,
          40,
          40,
          40,
          40,
          40,
          40,
          40,
          40,
          40,
          40,
          40,
          40,
          40,
          40,
          40,
          40,
          40,
          40,
          40,
          40,
          40,
          40,
          40,
          40,
          40,
          40,
          40,
          40,
          40,
          40,
          40,
          40,
          40,
          40,
          40,
          40,
          40,
          40,
          40,
          40,
          40,
          40,
          40,
          40,
          40,
          40,
          40,
          40,
          40,
          40,
          40,
          40,
          40,
          40,
          40,
          40,
          40,
          40,
          40,
          40,
          40,
          40,
          40,
          40,
          40,
          40,
          40,
          40,
          40,
          40,
          40,
          40,
          40,
          40,
          40,
          40,
          40,
          40,
          40,
          40,
          40,
          40,
          40,
          40,
          40,
          40,
          40,
          40,
          40,
          40,
          40,
          40,
          40,
          40,
          40,
          40,
          40,
          40,
          40,
          40,
          40,
          40,
          40,
          40,
          40,
          40
         ],
         "z": [
          0.8,
          0.2,
          0.2,
          0.2,
          0.2,
          0.2,
          0.2,
          0.2,
          0.2,
          0.2,
          0.2,
          0.2,
          0.2,
          0.2,
          0.2,
          0.2,
          0.2,
          0.2,
          0.2,
          0.2,
          0.2,
          0.2,
          0.2,
          0.2,
          0.2,
          0.2,
          0.2,
          0.2,
          0.2,
          0.2,
          0.2,
          0.2,
          0.2,
          0.2,
          0.2,
          0.2,
          0.2,
          0.2,
          0.2,
          0.2,
          0.2,
          0.2,
          0.2,
          0.2,
          0.2,
          0.2,
          0.2,
          0.2,
          0.2,
          0.2,
          0.2,
          0.2,
          0.2,
          0.2,
          0.2,
          0.2,
          0.2,
          0.2,
          0.2,
          0.2,
          0.2,
          0.2,
          0.2,
          0.2,
          0.2,
          0.2,
          0.2,
          0.2,
          0.2,
          0.2,
          0.2,
          0.2,
          0.2,
          0.2,
          0.2,
          0.2,
          0.2,
          0.2,
          0.2,
          0.2,
          0.2,
          0.2,
          0.2,
          0.2,
          0.2,
          0.2,
          0.2,
          0.2,
          0.2,
          0.2,
          0.2,
          0.2,
          0.2,
          0.2,
          0.2,
          0.2,
          0.2,
          0.2,
          0.2,
          0.2,
          0.2,
          0.2,
          0.2,
          0.2,
          0.2,
          0.2,
          0.2,
          0.2,
          0.2,
          0.2,
          0.2,
          0.2,
          0.2,
          0.2,
          0.2,
          0.2,
          0.2,
          0.2,
          0.2,
          0.2,
          0.2,
          0.2,
          0.2,
          0.2,
          0.2,
          0.2,
          0.2,
          0.2,
          0.2,
          0.2,
          0.2,
          0.2,
          0.2,
          0.2,
          0.2,
          0.2,
          0.2,
          0.2,
          0.2,
          0.2,
          0.2,
          0.2,
          0.2,
          0.2,
          0.2,
          0.2,
          0.2,
          0.2,
          0.2,
          0.2,
          0.2,
          0.2,
          0.2,
          0.2,
          0.2,
          0.2,
          0.2,
          0.2,
          0.2,
          0.2,
          0.2,
          0.2,
          0.2,
          0.2,
          0.2,
          0.2,
          0.2,
          0.2,
          0.2,
          0.2,
          0.2,
          0.2,
          0.2,
          0.2,
          0.2,
          0.2,
          0.2,
          0.2,
          0.2,
          0.2,
          0.2,
          0.2,
          0.2,
          0.2,
          0.2,
          0.2,
          0.2,
          0.2,
          0.2,
          0.2,
          0.2,
          0.2,
          0.2,
          0.2,
          0.2,
          0.2,
          0.2,
          0.2,
          0.2,
          0.2,
          0.2,
          0.2,
          0.2
         ]
        },
        {
         "line": {
          "color": [
           "rgb(191.25, 127.50, 127.50)",
           "rgb(191.25, 127.50, 127.50)"
          ],
          "width": 1
         },
         "mode": "lines",
         "showlegend": false,
         "type": "scatter3d",
         "x": [
          30,
          37.5
         ],
         "y": [
          40,
          40
         ],
         "z": [
          0.2,
          0.2
         ]
        },
        {
         "line": {
          "color": [
           "rgb(0.00, 0.00, 255.00)",
           "rgb(191.25, 127.50, 127.50)"
          ],
          "width": 1
         },
         "mode": "lines",
         "showlegend": false,
         "type": "scatter3d",
         "x": [
          37.5,
          37.5
         ],
         "y": [
          40,
          40
         ],
         "z": [
          0.2,
          0.8
         ]
        },
        {
         "line": {
          "color": [
           "rgb(0.00, 153.00, 255.00)",
           "rgb(191.25, 127.50, 127.50)"
          ],
          "width": 1
         },
         "mode": "lines",
         "showlegend": false,
         "type": "scatter3d",
         "x": [
          37.5,
          102.75
         ],
         "y": [
          40,
          40
         ],
         "z": [
          0.8,
          1
         ]
        },
        {
         "line": {
          "color": [
           "rgb(0.00, 204.00, 255.00)",
           "rgb(0.00, 51.00, 255.00)",
           "rgb(0.00, 51.00, 255.00)",
           "rgb(0.00, 51.00, 255.00)",
           "rgb(0.00, 51.00, 255.00)",
           "rgb(0.00, 51.00, 255.00)",
           "rgb(0.00, 51.00, 255.00)",
           "rgb(0.00, 51.00, 255.00)",
           "rgb(0.00, 51.00, 255.00)",
           "rgb(0.00, 51.00, 255.00)",
           "rgb(0.00, 51.00, 255.00)",
           "rgb(0.00, 51.00, 255.00)",
           "rgb(0.00, 51.00, 255.00)",
           "rgb(0.00, 51.00, 255.00)",
           "rgb(0.00, 51.00, 255.00)",
           "rgb(0.00, 51.00, 255.00)",
           "rgb(0.00, 51.00, 255.00)",
           "rgb(0.00, 51.00, 255.00)",
           "rgb(0.00, 51.00, 255.00)",
           "rgb(0.00, 51.00, 255.00)",
           "rgb(0.00, 51.00, 255.00)",
           "rgb(0.00, 51.00, 255.00)",
           "rgb(0.00, 51.00, 255.00)",
           "rgb(0.00, 51.00, 255.00)",
           "rgb(0.00, 51.00, 255.00)",
           "rgb(0.00, 51.00, 255.00)",
           "rgb(0.00, 51.00, 255.00)",
           "rgb(0.00, 51.00, 255.00)",
           "rgb(0.00, 51.00, 255.00)",
           "rgb(0.00, 51.00, 255.00)",
           "rgb(0.00, 51.00, 255.00)",
           "rgb(0.00, 51.00, 255.00)",
           "rgb(0.00, 51.00, 255.00)",
           "rgb(0.00, 51.00, 255.00)",
           "rgb(0.00, 51.00, 255.00)",
           "rgb(0.00, 51.00, 255.00)",
           "rgb(0.00, 51.00, 255.00)",
           "rgb(0.00, 51.00, 255.00)",
           "rgb(0.00, 51.00, 255.00)",
           "rgb(0.00, 51.00, 255.00)",
           "rgb(0.00, 51.00, 255.00)",
           "rgb(0.00, 51.00, 255.00)",
           "rgb(0.00, 51.00, 255.00)",
           "rgb(0.00, 51.00, 255.00)",
           "rgb(0.00, 51.00, 255.00)",
           "rgb(0.00, 51.00, 255.00)",
           "rgb(0.00, 51.00, 255.00)",
           "rgb(0.00, 51.00, 255.00)",
           "rgb(0.00, 51.00, 255.00)",
           "rgb(0.00, 51.00, 255.00)",
           "rgb(0.00, 51.00, 255.00)",
           "rgb(0.00, 51.00, 255.00)",
           "rgb(0.00, 51.00, 255.00)",
           "rgb(0.00, 51.00, 255.00)",
           "rgb(0.00, 51.00, 255.00)",
           "rgb(0.00, 51.00, 255.00)",
           "rgb(0.00, 51.00, 255.00)",
           "rgb(0.00, 51.00, 255.00)",
           "rgb(0.00, 51.00, 255.00)",
           "rgb(0.00, 51.00, 255.00)",
           "rgb(0.00, 51.00, 255.00)",
           "rgb(0.00, 51.00, 255.00)",
           "rgb(0.00, 51.00, 255.00)",
           "rgb(0.00, 51.00, 255.00)",
           "rgb(0.00, 51.00, 255.00)",
           "rgb(0.00, 51.00, 255.00)",
           "rgb(0.00, 51.00, 255.00)",
           "rgb(0.00, 51.00, 255.00)",
           "rgb(0.00, 51.00, 255.00)",
           "rgb(0.00, 51.00, 255.00)",
           "rgb(0.00, 51.00, 255.00)",
           "rgb(0.00, 51.00, 255.00)",
           "rgb(0.00, 51.00, 255.00)",
           "rgb(0.00, 51.00, 255.00)",
           "rgb(0.00, 51.00, 255.00)",
           "rgb(0.00, 51.00, 255.00)",
           "rgb(0.00, 51.00, 255.00)",
           "rgb(0.00, 51.00, 255.00)",
           "rgb(0.00, 51.00, 255.00)",
           "rgb(0.00, 51.00, 255.00)",
           "rgb(0.00, 51.00, 255.00)",
           "rgb(0.00, 51.00, 255.00)",
           "rgb(0.00, 51.00, 255.00)",
           "rgb(0.00, 51.00, 255.00)",
           "rgb(0.00, 51.00, 255.00)",
           "rgb(0.00, 51.00, 255.00)",
           "rgb(0.00, 51.00, 255.00)",
           "rgb(0.00, 51.00, 255.00)",
           "rgb(0.00, 51.00, 255.00)",
           "rgb(0.00, 51.00, 255.00)",
           "rgb(0.00, 51.00, 255.00)",
           "rgb(0.00, 51.00, 255.00)",
           "rgb(0.00, 51.00, 255.00)",
           "rgb(0.00, 51.00, 255.00)",
           "rgb(0.00, 51.00, 255.00)",
           "rgb(0.00, 51.00, 255.00)",
           "rgb(0.00, 51.00, 255.00)",
           "rgb(0.00, 51.00, 255.00)",
           "rgb(0.00, 51.00, 255.00)",
           "rgb(0.00, 51.00, 255.00)",
           "rgb(0.00, 51.00, 255.00)",
           "rgb(0.00, 51.00, 255.00)",
           "rgb(0.00, 51.00, 255.00)",
           "rgb(0.00, 51.00, 255.00)",
           "rgb(0.00, 51.00, 255.00)",
           "rgb(0.00, 51.00, 255.00)",
           "rgb(0.00, 51.00, 255.00)",
           "rgb(0.00, 51.00, 255.00)",
           "rgb(0.00, 51.00, 255.00)",
           "rgb(0.00, 51.00, 255.00)",
           "rgb(0.00, 51.00, 255.00)",
           "rgb(0.00, 51.00, 255.00)",
           "rgb(0.00, 51.00, 255.00)",
           "rgb(0.00, 51.00, 255.00)",
           "rgb(0.00, 51.00, 255.00)",
           "rgb(0.00, 51.00, 255.00)",
           "rgb(0.00, 51.00, 255.00)",
           "rgb(0.00, 51.00, 255.00)",
           "rgb(0.00, 51.00, 255.00)",
           "rgb(0.00, 51.00, 255.00)",
           "rgb(0.00, 51.00, 255.00)",
           "rgb(0.00, 51.00, 255.00)",
           "rgb(0.00, 51.00, 255.00)",
           "rgb(0.00, 51.00, 255.00)",
           "rgb(0.00, 51.00, 255.00)",
           "rgb(0.00, 51.00, 255.00)",
           "rgb(0.00, 51.00, 255.00)",
           "rgb(0.00, 51.00, 255.00)",
           "rgb(0.00, 51.00, 255.00)",
           "rgb(0.00, 51.00, 255.00)",
           "rgb(0.00, 51.00, 255.00)",
           "rgb(0.00, 51.00, 255.00)",
           "rgb(0.00, 51.00, 255.00)",
           "rgb(0.00, 51.00, 255.00)",
           "rgb(0.00, 51.00, 255.00)",
           "rgb(0.00, 51.00, 255.00)",
           "rgb(0.00, 51.00, 255.00)",
           "rgb(0.00, 51.00, 255.00)",
           "rgb(0.00, 51.00, 255.00)",
           "rgb(0.00, 51.00, 255.00)",
           "rgb(0.00, 51.00, 255.00)",
           "rgb(0.00, 51.00, 255.00)",
           "rgb(0.00, 51.00, 255.00)",
           "rgb(0.00, 51.00, 255.00)",
           "rgb(0.00, 51.00, 255.00)",
           "rgb(0.00, 51.00, 255.00)",
           "rgb(0.00, 51.00, 255.00)",
           "rgb(0.00, 51.00, 255.00)",
           "rgb(0.00, 51.00, 255.00)",
           "rgb(0.00, 51.00, 255.00)",
           "rgb(0.00, 51.00, 255.00)",
           "rgb(0.00, 51.00, 255.00)",
           "rgb(0.00, 51.00, 255.00)",
           "rgb(0.00, 51.00, 255.00)",
           "rgb(0.00, 51.00, 255.00)",
           "rgb(0.00, 51.00, 255.00)",
           "rgb(0.00, 51.00, 255.00)",
           "rgb(0.00, 51.00, 255.00)",
           "rgb(0.00, 51.00, 255.00)",
           "rgb(0.00, 51.00, 255.00)",
           "rgb(0.00, 51.00, 255.00)",
           "rgb(0.00, 51.00, 255.00)",
           "rgb(0.00, 51.00, 255.00)",
           "rgb(0.00, 51.00, 255.00)",
           "rgb(0.00, 51.00, 255.00)",
           "rgb(0.00, 51.00, 255.00)",
           "rgb(0.00, 51.00, 255.00)",
           "rgb(0.00, 51.00, 255.00)",
           "rgb(0.00, 51.00, 255.00)",
           "rgb(0.00, 51.00, 255.00)",
           "rgb(0.00, 51.00, 255.00)",
           "rgb(0.00, 51.00, 255.00)",
           "rgb(0.00, 51.00, 255.00)",
           "rgb(0.00, 51.00, 255.00)",
           "rgb(0.00, 51.00, 255.00)",
           "rgb(0.00, 51.00, 255.00)",
           "rgb(0.00, 51.00, 255.00)",
           "rgb(0.00, 51.00, 255.00)",
           "rgb(0.00, 51.00, 255.00)",
           "rgb(0.00, 51.00, 255.00)",
           "rgb(0.00, 51.00, 255.00)",
           "rgb(0.00, 51.00, 255.00)",
           "rgb(0.00, 51.00, 255.00)",
           "rgb(0.00, 51.00, 255.00)",
           "rgb(0.00, 51.00, 255.00)",
           "rgb(0.00, 51.00, 255.00)",
           "rgb(0.00, 51.00, 255.00)",
           "rgb(0.00, 51.00, 255.00)",
           "rgb(0.00, 51.00, 255.00)",
           "rgb(0.00, 51.00, 255.00)",
           "rgb(0.00, 51.00, 255.00)",
           "rgb(0.00, 51.00, 255.00)",
           "rgb(0.00, 51.00, 255.00)",
           "rgb(0.00, 51.00, 255.00)",
           "rgb(0.00, 51.00, 255.00)",
           "rgb(0.00, 51.00, 255.00)",
           "rgb(0.00, 51.00, 255.00)",
           "rgb(0.00, 51.00, 255.00)",
           "rgb(0.00, 51.00, 255.00)",
           "rgb(0.00, 51.00, 255.00)",
           "rgb(0.00, 51.00, 255.00)",
           "rgb(0.00, 51.00, 255.00)",
           "rgb(0.00, 51.00, 255.00)"
          ],
          "width": 4
         },
         "mode": "lines",
         "showlegend": false,
         "type": "scatter3d",
         "x": [
          102.75,
          102.75,
          102.561,
          102.373,
          102.184,
          101.995,
          101.806,
          101.618,
          101.429,
          101.24,
          101.051,
          100.862,
          100.674,
          100.485,
          100.296,
          100.108,
          99.919,
          99.73,
          99.541,
          99.352,
          99.164,
          98.975,
          98.786,
          98.597,
          98.409,
          98.22,
          98.031,
          97.843,
          97.654,
          97.465,
          97.276,
          97.088,
          96.899,
          96.71,
          96.521,
          96.332,
          96.144,
          95.955,
          95.766,
          95.578,
          95.389,
          95.2,
          95.011,
          94.822,
          94.634,
          94.445,
          94.256,
          94.067,
          93.879,
          93.69,
          93.501,
          93.312,
          93.124,
          92.935,
          92.746,
          92.558,
          92.369,
          92.18,
          91.991,
          91.803,
          91.614,
          91.425,
          91.236,
          91.047,
          90.859,
          90.67,
          90.481,
          90.293,
          90.104,
          89.915,
          89.726,
          89.537,
          89.349,
          89.16,
          88.971,
          88.782,
          88.594,
          88.405,
          88.216,
          88.028,
          87.839,
          87.65,
          87.461,
          87.273,
          87.084,
          86.895,
          86.706,
          86.517,
          86.329,
          86.14,
          85.951,
          85.763,
          85.574,
          85.385,
          85.196,
          85.007,
          84.819,
          84.63,
          84.441,
          84.252,
          84.064,
          83.875,
          83.686,
          83.498,
          83.309,
          83.12,
          82.931,
          82.743,
          82.554,
          82.365,
          82.176,
          81.987,
          81.799,
          81.61,
          81.421,
          81.233,
          81.044,
          80.855,
          80.666,
          80.477,
          80.289,
          80.1,
          79.911,
          79.722,
          79.534,
          79.345,
          79.156,
          78.968,
          78.779,
          78.59,
          78.401,
          78.213,
          78.024,
          77.835,
          77.646,
          77.457,
          77.269,
          77.08,
          76.891,
          76.703,
          76.514,
          76.325,
          76.136,
          75.948,
          75.759,
          75.57,
          75.381,
          75.192,
          75.004,
          74.815,
          74.626,
          74.438,
          74.249,
          74.06,
          73.871,
          73.683,
          73.494,
          73.305,
          73.116,
          72.927,
          72.739,
          72.55,
          72.361,
          72.172,
          71.984,
          71.795,
          71.606,
          71.418,
          71.229,
          71.04,
          70.851,
          70.662,
          70.474,
          70.285,
          70.096,
          69.907,
          69.719,
          69.53,
          69.341,
          69.153,
          68.964,
          68.775,
          68.586,
          68.398,
          68.209,
          68.02,
          67.831,
          67.642,
          67.454,
          67.265,
          67.076,
          66.888,
          66.699,
          66.51,
          66.321,
          66.132,
          65.944,
          65.755,
          65.566,
          65.377,
          65.189,
          65,
          30
         ],
         "y": [
          40,
          40,
          40,
          40,
          40,
          40,
          40,
          40,
          40,
          40,
          40,
          40,
          40,
          40,
          40,
          40,
          40,
          40,
          40,
          40,
          40,
          40,
          40,
          40,
          40,
          40,
          40,
          40,
          40,
          40,
          40,
          40,
          40,
          40,
          40,
          40,
          40,
          40,
          40,
          40,
          40,
          40,
          40,
          40,
          40,
          40,
          40,
          40,
          40,
          40,
          40,
          40,
          40,
          40,
          40,
          40,
          40,
          40,
          40,
          40,
          40,
          40,
          40,
          40,
          40,
          40,
          40,
          40,
          40,
          40,
          40,
          40,
          40,
          40,
          40,
          40,
          40,
          40,
          40,
          40,
          40,
          40,
          40,
          40,
          40,
          40,
          40,
          40,
          40,
          40,
          40,
          40,
          40,
          40,
          40,
          40,
          40,
          40,
          40,
          40,
          40,
          40,
          40,
          40,
          40,
          40,
          40,
          40,
          40,
          40,
          40,
          40,
          40,
          40,
          40,
          40,
          40,
          40,
          40,
          40,
          40,
          40,
          40,
          40,
          40,
          40,
          40,
          40,
          40,
          40,
          40,
          40,
          40,
          40,
          40,
          40,
          40,
          40,
          40,
          40,
          40,
          40,
          40,
          40,
          40,
          40,
          40,
          40,
          40,
          40,
          40,
          40,
          40,
          40,
          40,
          40,
          40,
          40,
          40,
          40,
          40,
          40,
          40,
          40,
          40,
          40,
          40,
          40,
          40,
          40,
          40,
          40,
          40,
          40,
          40,
          40,
          40,
          40,
          40,
          40,
          40,
          40,
          40,
          40,
          40,
          40,
          40,
          40,
          40,
          40,
          40,
          40,
          40,
          40,
          40,
          40,
          40,
          40,
          40,
          40,
          40,
          40,
          40
         ],
         "z": [
          1,
          0.4,
          0.4,
          0.4,
          0.4,
          0.4,
          0.4,
          0.4,
          0.4,
          0.4,
          0.4,
          0.4,
          0.4,
          0.4,
          0.4,
          0.4,
          0.4,
          0.4,
          0.4,
          0.4,
          0.4,
          0.4,
          0.4,
          0.4,
          0.4,
          0.4,
          0.4,
          0.4,
          0.4,
          0.4,
          0.4,
          0.4,
          0.4,
          0.4,
          0.4,
          0.4,
          0.4,
          0.4,
          0.4,
          0.4,
          0.4,
          0.4,
          0.4,
          0.4,
          0.4,
          0.4,
          0.4,
          0.4,
          0.4,
          0.4,
          0.4,
          0.4,
          0.4,
          0.4,
          0.4,
          0.4,
          0.4,
          0.4,
          0.4,
          0.4,
          0.4,
          0.4,
          0.4,
          0.4,
          0.4,
          0.4,
          0.4,
          0.4,
          0.4,
          0.4,
          0.4,
          0.4,
          0.4,
          0.4,
          0.4,
          0.4,
          0.4,
          0.4,
          0.4,
          0.4,
          0.4,
          0.4,
          0.4,
          0.4,
          0.4,
          0.4,
          0.4,
          0.4,
          0.4,
          0.4,
          0.4,
          0.4,
          0.4,
          0.4,
          0.4,
          0.4,
          0.4,
          0.4,
          0.4,
          0.4,
          0.4,
          0.4,
          0.4,
          0.4,
          0.4,
          0.4,
          0.4,
          0.4,
          0.4,
          0.4,
          0.4,
          0.4,
          0.4,
          0.4,
          0.4,
          0.4,
          0.4,
          0.4,
          0.4,
          0.4,
          0.4,
          0.4,
          0.4,
          0.4,
          0.4,
          0.4,
          0.4,
          0.4,
          0.4,
          0.4,
          0.4,
          0.4,
          0.4,
          0.4,
          0.4,
          0.4,
          0.4,
          0.4,
          0.4,
          0.4,
          0.4,
          0.4,
          0.4,
          0.4,
          0.4,
          0.4,
          0.4,
          0.4,
          0.4,
          0.4,
          0.4,
          0.4,
          0.4,
          0.4,
          0.4,
          0.4,
          0.4,
          0.4,
          0.4,
          0.4,
          0.4,
          0.4,
          0.4,
          0.4,
          0.4,
          0.4,
          0.4,
          0.4,
          0.4,
          0.4,
          0.4,
          0.4,
          0.4,
          0.4,
          0.4,
          0.4,
          0.4,
          0.4,
          0.4,
          0.4,
          0.4,
          0.4,
          0.4,
          0.4,
          0.4,
          0.4,
          0.4,
          0.4,
          0.4,
          0.4,
          0.4,
          0.4,
          0.4,
          0.4,
          0.4,
          0.4,
          0.4,
          0.4,
          0.4,
          0.4,
          0.4,
          0.4,
          0.4
         ]
        },
        {
         "line": {
          "color": [
           "rgb(191.25, 127.50, 127.50)",
           "rgb(191.25, 127.50, 127.50)"
          ],
          "width": 1
         },
         "mode": "lines",
         "showlegend": false,
         "type": "scatter3d",
         "x": [
          30,
          37.5
         ],
         "y": [
          40,
          40
         ],
         "z": [
          0.4,
          0.4
         ]
        },
        {
         "line": {
          "color": [
           "rgb(0.00, 51.00, 255.00)",
           "rgb(191.25, 127.50, 127.50)"
          ],
          "width": 1
         },
         "mode": "lines",
         "showlegend": false,
         "type": "scatter3d",
         "x": [
          37.5,
          37.5
         ],
         "y": [
          40,
          40
         ],
         "z": [
          0.4,
          1
         ]
        },
        {
         "line": {
          "color": [
           "rgb(0.00, 204.00, 255.00)",
           "rgb(191.25, 127.50, 127.50)"
          ],
          "width": 1
         },
         "mode": "lines",
         "showlegend": false,
         "type": "scatter3d",
         "x": [
          37.5,
          90.25
         ],
         "y": [
          40,
          40
         ],
         "z": [
          1,
          1.2
         ]
        },
        {
         "line": {
          "color": [
           "rgb(0.00, 255.00, 255.00)",
           "rgb(0.00, 102.00, 255.00)",
           "rgb(0.00, 102.00, 255.00)",
           "rgb(0.00, 102.00, 255.00)",
           "rgb(0.00, 102.00, 255.00)",
           "rgb(0.00, 102.00, 255.00)",
           "rgb(0.00, 102.00, 255.00)",
           "rgb(0.00, 102.00, 255.00)",
           "rgb(0.00, 102.00, 255.00)",
           "rgb(0.00, 102.00, 255.00)",
           "rgb(0.00, 102.00, 255.00)",
           "rgb(0.00, 102.00, 255.00)",
           "rgb(0.00, 102.00, 255.00)",
           "rgb(0.00, 102.00, 255.00)",
           "rgb(0.00, 102.00, 255.00)",
           "rgb(0.00, 102.00, 255.00)",
           "rgb(0.00, 102.00, 255.00)",
           "rgb(0.00, 102.00, 255.00)",
           "rgb(0.00, 102.00, 255.00)",
           "rgb(0.00, 102.00, 255.00)",
           "rgb(0.00, 102.00, 255.00)",
           "rgb(0.00, 102.00, 255.00)",
           "rgb(0.00, 102.00, 255.00)",
           "rgb(0.00, 102.00, 255.00)",
           "rgb(0.00, 102.00, 255.00)",
           "rgb(0.00, 102.00, 255.00)",
           "rgb(0.00, 102.00, 255.00)",
           "rgb(0.00, 102.00, 255.00)",
           "rgb(0.00, 102.00, 255.00)",
           "rgb(0.00, 102.00, 255.00)",
           "rgb(0.00, 102.00, 255.00)",
           "rgb(0.00, 102.00, 255.00)",
           "rgb(0.00, 102.00, 255.00)",
           "rgb(0.00, 102.00, 255.00)",
           "rgb(0.00, 102.00, 255.00)",
           "rgb(0.00, 102.00, 255.00)",
           "rgb(0.00, 102.00, 255.00)",
           "rgb(0.00, 102.00, 255.00)",
           "rgb(0.00, 102.00, 255.00)",
           "rgb(0.00, 102.00, 255.00)",
           "rgb(0.00, 102.00, 255.00)",
           "rgb(0.00, 102.00, 255.00)",
           "rgb(0.00, 102.00, 255.00)",
           "rgb(0.00, 102.00, 255.00)",
           "rgb(0.00, 102.00, 255.00)",
           "rgb(0.00, 102.00, 255.00)",
           "rgb(0.00, 102.00, 255.00)",
           "rgb(0.00, 102.00, 255.00)",
           "rgb(0.00, 102.00, 255.00)",
           "rgb(0.00, 102.00, 255.00)",
           "rgb(0.00, 102.00, 255.00)",
           "rgb(0.00, 102.00, 255.00)",
           "rgb(0.00, 102.00, 255.00)",
           "rgb(0.00, 102.00, 255.00)",
           "rgb(0.00, 102.00, 255.00)",
           "rgb(0.00, 102.00, 255.00)",
           "rgb(0.00, 102.00, 255.00)",
           "rgb(0.00, 102.00, 255.00)",
           "rgb(0.00, 102.00, 255.00)",
           "rgb(0.00, 102.00, 255.00)",
           "rgb(0.00, 102.00, 255.00)",
           "rgb(0.00, 102.00, 255.00)",
           "rgb(0.00, 102.00, 255.00)",
           "rgb(0.00, 102.00, 255.00)",
           "rgb(0.00, 102.00, 255.00)",
           "rgb(0.00, 102.00, 255.00)",
           "rgb(0.00, 102.00, 255.00)",
           "rgb(0.00, 102.00, 255.00)",
           "rgb(0.00, 102.00, 255.00)",
           "rgb(0.00, 102.00, 255.00)",
           "rgb(0.00, 102.00, 255.00)",
           "rgb(0.00, 102.00, 255.00)",
           "rgb(0.00, 102.00, 255.00)",
           "rgb(0.00, 102.00, 255.00)",
           "rgb(0.00, 102.00, 255.00)",
           "rgb(0.00, 102.00, 255.00)",
           "rgb(0.00, 102.00, 255.00)",
           "rgb(0.00, 102.00, 255.00)",
           "rgb(0.00, 102.00, 255.00)",
           "rgb(0.00, 102.00, 255.00)",
           "rgb(0.00, 102.00, 255.00)",
           "rgb(0.00, 102.00, 255.00)",
           "rgb(0.00, 102.00, 255.00)",
           "rgb(0.00, 102.00, 255.00)",
           "rgb(0.00, 102.00, 255.00)",
           "rgb(0.00, 102.00, 255.00)",
           "rgb(0.00, 102.00, 255.00)",
           "rgb(0.00, 102.00, 255.00)",
           "rgb(0.00, 102.00, 255.00)",
           "rgb(0.00, 102.00, 255.00)",
           "rgb(0.00, 102.00, 255.00)",
           "rgb(0.00, 102.00, 255.00)",
           "rgb(0.00, 102.00, 255.00)",
           "rgb(0.00, 102.00, 255.00)",
           "rgb(0.00, 102.00, 255.00)",
           "rgb(0.00, 102.00, 255.00)",
           "rgb(0.00, 102.00, 255.00)",
           "rgb(0.00, 102.00, 255.00)",
           "rgb(0.00, 102.00, 255.00)",
           "rgb(0.00, 102.00, 255.00)",
           "rgb(0.00, 102.00, 255.00)",
           "rgb(0.00, 102.00, 255.00)",
           "rgb(0.00, 102.00, 255.00)",
           "rgb(0.00, 102.00, 255.00)",
           "rgb(0.00, 102.00, 255.00)",
           "rgb(0.00, 102.00, 255.00)",
           "rgb(0.00, 102.00, 255.00)",
           "rgb(0.00, 102.00, 255.00)",
           "rgb(0.00, 102.00, 255.00)",
           "rgb(0.00, 102.00, 255.00)",
           "rgb(0.00, 102.00, 255.00)",
           "rgb(0.00, 102.00, 255.00)",
           "rgb(0.00, 102.00, 255.00)",
           "rgb(0.00, 102.00, 255.00)",
           "rgb(0.00, 102.00, 255.00)",
           "rgb(0.00, 102.00, 255.00)",
           "rgb(0.00, 102.00, 255.00)",
           "rgb(0.00, 102.00, 255.00)",
           "rgb(0.00, 102.00, 255.00)",
           "rgb(0.00, 102.00, 255.00)",
           "rgb(0.00, 102.00, 255.00)",
           "rgb(0.00, 102.00, 255.00)",
           "rgb(0.00, 102.00, 255.00)",
           "rgb(0.00, 102.00, 255.00)",
           "rgb(0.00, 102.00, 255.00)",
           "rgb(0.00, 102.00, 255.00)",
           "rgb(0.00, 102.00, 255.00)",
           "rgb(0.00, 102.00, 255.00)",
           "rgb(0.00, 102.00, 255.00)",
           "rgb(0.00, 102.00, 255.00)",
           "rgb(0.00, 102.00, 255.00)",
           "rgb(0.00, 102.00, 255.00)",
           "rgb(0.00, 102.00, 255.00)",
           "rgb(0.00, 102.00, 255.00)",
           "rgb(0.00, 102.00, 255.00)",
           "rgb(0.00, 102.00, 255.00)",
           "rgb(0.00, 102.00, 255.00)",
           "rgb(0.00, 102.00, 255.00)",
           "rgb(0.00, 102.00, 255.00)",
           "rgb(0.00, 102.00, 255.00)",
           "rgb(0.00, 102.00, 255.00)",
           "rgb(0.00, 102.00, 255.00)",
           "rgb(0.00, 102.00, 255.00)",
           "rgb(0.00, 102.00, 255.00)",
           "rgb(0.00, 102.00, 255.00)",
           "rgb(0.00, 102.00, 255.00)",
           "rgb(0.00, 102.00, 255.00)",
           "rgb(0.00, 102.00, 255.00)",
           "rgb(0.00, 102.00, 255.00)",
           "rgb(0.00, 102.00, 255.00)",
           "rgb(0.00, 102.00, 255.00)",
           "rgb(0.00, 102.00, 255.00)",
           "rgb(0.00, 102.00, 255.00)",
           "rgb(0.00, 102.00, 255.00)",
           "rgb(0.00, 102.00, 255.00)",
           "rgb(0.00, 102.00, 255.00)",
           "rgb(0.00, 102.00, 255.00)",
           "rgb(0.00, 102.00, 255.00)",
           "rgb(0.00, 102.00, 255.00)",
           "rgb(0.00, 102.00, 255.00)",
           "rgb(0.00, 102.00, 255.00)",
           "rgb(0.00, 102.00, 255.00)",
           "rgb(0.00, 102.00, 255.00)",
           "rgb(0.00, 102.00, 255.00)",
           "rgb(0.00, 102.00, 255.00)",
           "rgb(0.00, 102.00, 255.00)",
           "rgb(0.00, 102.00, 255.00)",
           "rgb(0.00, 102.00, 255.00)",
           "rgb(0.00, 102.00, 255.00)",
           "rgb(0.00, 102.00, 255.00)",
           "rgb(0.00, 102.00, 255.00)",
           "rgb(0.00, 102.00, 255.00)",
           "rgb(0.00, 102.00, 255.00)",
           "rgb(0.00, 102.00, 255.00)",
           "rgb(0.00, 102.00, 255.00)",
           "rgb(0.00, 102.00, 255.00)",
           "rgb(0.00, 102.00, 255.00)",
           "rgb(0.00, 102.00, 255.00)",
           "rgb(0.00, 102.00, 255.00)",
           "rgb(0.00, 102.00, 255.00)",
           "rgb(0.00, 102.00, 255.00)",
           "rgb(0.00, 102.00, 255.00)",
           "rgb(0.00, 102.00, 255.00)",
           "rgb(0.00, 102.00, 255.00)",
           "rgb(0.00, 102.00, 255.00)",
           "rgb(0.00, 102.00, 255.00)",
           "rgb(0.00, 102.00, 255.00)",
           "rgb(0.00, 102.00, 255.00)",
           "rgb(0.00, 102.00, 255.00)",
           "rgb(0.00, 102.00, 255.00)",
           "rgb(0.00, 102.00, 255.00)",
           "rgb(0.00, 102.00, 255.00)",
           "rgb(0.00, 102.00, 255.00)",
           "rgb(0.00, 102.00, 255.00)",
           "rgb(0.00, 102.00, 255.00)",
           "rgb(0.00, 102.00, 255.00)",
           "rgb(0.00, 102.00, 255.00)",
           "rgb(0.00, 102.00, 255.00)",
           "rgb(0.00, 102.00, 255.00)",
           "rgb(0.00, 102.00, 255.00)",
           "rgb(0.00, 102.00, 255.00)",
           "rgb(0.00, 102.00, 255.00)",
           "rgb(0.00, 102.00, 255.00)"
          ],
          "width": 4
         },
         "mode": "lines",
         "showlegend": false,
         "type": "scatter3d",
         "x": [
          90.25,
          90.25,
          90.124,
          89.998,
          89.871,
          89.745,
          89.619,
          89.493,
          89.366,
          89.24,
          89.114,
          88.987,
          88.861,
          88.735,
          88.609,
          88.483,
          88.356,
          88.23,
          88.104,
          87.977,
          87.851,
          87.725,
          87.599,
          87.472,
          87.346,
          87.22,
          87.094,
          86.968,
          86.841,
          86.715,
          86.589,
          86.463,
          86.336,
          86.21,
          86.084,
          85.957,
          85.831,
          85.705,
          85.579,
          85.453,
          85.326,
          85.2,
          85.074,
          84.947,
          84.821,
          84.695,
          84.569,
          84.442,
          84.316,
          84.19,
          84.064,
          83.938,
          83.811,
          83.685,
          83.559,
          83.433,
          83.306,
          83.18,
          83.054,
          82.928,
          82.801,
          82.675,
          82.549,
          82.422,
          82.296,
          82.17,
          82.044,
          81.918,
          81.791,
          81.665,
          81.539,
          81.412,
          81.286,
          81.16,
          81.034,
          80.907,
          80.781,
          80.655,
          80.529,
          80.403,
          80.276,
          80.15,
          80.024,
          79.898,
          79.771,
          79.645,
          79.519,
          79.392,
          79.266,
          79.14,
          79.014,
          78.888,
          78.761,
          78.635,
          78.509,
          78.382,
          78.256,
          78.13,
          78.004,
          77.877,
          77.751,
          77.625,
          77.499,
          77.373,
          77.246,
          77.12,
          76.994,
          76.868,
          76.741,
          76.615,
          76.489,
          76.362,
          76.236,
          76.11,
          75.984,
          75.858,
          75.731,
          75.605,
          75.479,
          75.352,
          75.226,
          75.1,
          74.974,
          74.847,
          74.721,
          74.595,
          74.469,
          74.343,
          74.216,
          74.09,
          73.964,
          73.838,
          73.711,
          73.585,
          73.459,
          73.332,
          73.206,
          73.08,
          72.954,
          72.828,
          72.701,
          72.575,
          72.449,
          72.323,
          72.196,
          72.07,
          71.944,
          71.817,
          71.691,
          71.565,
          71.439,
          71.312,
          71.186,
          71.06,
          70.934,
          70.808,
          70.681,
          70.555,
          70.429,
          70.302,
          70.176,
          70.05,
          69.924,
          69.797,
          69.671,
          69.545,
          69.419,
          69.293,
          69.166,
          69.04,
          68.914,
          68.787,
          68.661,
          68.535,
          68.409,
          68.282,
          68.156,
          68.03,
          67.904,
          67.778,
          67.651,
          67.525,
          67.399,
          67.273,
          67.146,
          67.02,
          66.894,
          66.767,
          66.641,
          66.515,
          66.389,
          66.263,
          66.136,
          66.01,
          65.884,
          65.757,
          65.631,
          65.505,
          65.379,
          65.252,
          65.126,
          65,
          30
         ],
         "y": [
          40,
          40,
          40,
          40,
          40,
          40,
          40,
          40,
          40,
          40,
          40,
          40,
          40,
          40,
          40,
          40,
          40,
          40,
          40,
          40,
          40,
          40,
          40,
          40,
          40,
          40,
          40,
          40,
          40,
          40,
          40,
          40,
          40,
          40,
          40,
          40,
          40,
          40,
          40,
          40,
          40,
          40,
          40,
          40,
          40,
          40,
          40,
          40,
          40,
          40,
          40,
          40,
          40,
          40,
          40,
          40,
          40,
          40,
          40,
          40,
          40,
          40,
          40,
          40,
          40,
          40,
          40,
          40,
          40,
          40,
          40,
          40,
          40,
          40,
          40,
          40,
          40,
          40,
          40,
          40,
          40,
          40,
          40,
          40,
          40,
          40,
          40,
          40,
          40,
          40,
          40,
          40,
          40,
          40,
          40,
          40,
          40,
          40,
          40,
          40,
          40,
          40,
          40,
          40,
          40,
          40,
          40,
          40,
          40,
          40,
          40,
          40,
          40,
          40,
          40,
          40,
          40,
          40,
          40,
          40,
          40,
          40,
          40,
          40,
          40,
          40,
          40,
          40,
          40,
          40,
          40,
          40,
          40,
          40,
          40,
          40,
          40,
          40,
          40,
          40,
          40,
          40,
          40,
          40,
          40,
          40,
          40,
          40,
          40,
          40,
          40,
          40,
          40,
          40,
          40,
          40,
          40,
          40,
          40,
          40,
          40,
          40,
          40,
          40,
          40,
          40,
          40,
          40,
          40,
          40,
          40,
          40,
          40,
          40,
          40,
          40,
          40,
          40,
          40,
          40,
          40,
          40,
          40,
          40,
          40,
          40,
          40,
          40,
          40,
          40,
          40,
          40,
          40,
          40,
          40,
          40,
          40,
          40,
          40,
          40,
          40,
          40,
          40
         ],
         "z": [
          1.2,
          0.6,
          0.6,
          0.6,
          0.6,
          0.6,
          0.6,
          0.6,
          0.6,
          0.6,
          0.6,
          0.6,
          0.6,
          0.6,
          0.6,
          0.6,
          0.6,
          0.6,
          0.6,
          0.6,
          0.6,
          0.6,
          0.6,
          0.6,
          0.6,
          0.6,
          0.6,
          0.6,
          0.6,
          0.6,
          0.6,
          0.6,
          0.6,
          0.6,
          0.6,
          0.6,
          0.6,
          0.6,
          0.6,
          0.6,
          0.6,
          0.6,
          0.6,
          0.6,
          0.6,
          0.6,
          0.6,
          0.6,
          0.6,
          0.6,
          0.6,
          0.6,
          0.6,
          0.6,
          0.6,
          0.6,
          0.6,
          0.6,
          0.6,
          0.6,
          0.6,
          0.6,
          0.6,
          0.6,
          0.6,
          0.6,
          0.6,
          0.6,
          0.6,
          0.6,
          0.6,
          0.6,
          0.6,
          0.6,
          0.6,
          0.6,
          0.6,
          0.6,
          0.6,
          0.6,
          0.6,
          0.6,
          0.6,
          0.6,
          0.6,
          0.6,
          0.6,
          0.6,
          0.6,
          0.6,
          0.6,
          0.6,
          0.6,
          0.6,
          0.6,
          0.6,
          0.6,
          0.6,
          0.6,
          0.6,
          0.6,
          0.6,
          0.6,
          0.6,
          0.6,
          0.6,
          0.6,
          0.6,
          0.6,
          0.6,
          0.6,
          0.6,
          0.6,
          0.6,
          0.6,
          0.6,
          0.6,
          0.6,
          0.6,
          0.6,
          0.6,
          0.6,
          0.6,
          0.6,
          0.6,
          0.6,
          0.6,
          0.6,
          0.6,
          0.6,
          0.6,
          0.6,
          0.6,
          0.6,
          0.6,
          0.6,
          0.6,
          0.6,
          0.6,
          0.6,
          0.6,
          0.6,
          0.6,
          0.6,
          0.6,
          0.6,
          0.6,
          0.6,
          0.6,
          0.6,
          0.6,
          0.6,
          0.6,
          0.6,
          0.6,
          0.6,
          0.6,
          0.6,
          0.6,
          0.6,
          0.6,
          0.6,
          0.6,
          0.6,
          0.6,
          0.6,
          0.6,
          0.6,
          0.6,
          0.6,
          0.6,
          0.6,
          0.6,
          0.6,
          0.6,
          0.6,
          0.6,
          0.6,
          0.6,
          0.6,
          0.6,
          0.6,
          0.6,
          0.6,
          0.6,
          0.6,
          0.6,
          0.6,
          0.6,
          0.6,
          0.6,
          0.6,
          0.6,
          0.6,
          0.6,
          0.6,
          0.6,
          0.6,
          0.6,
          0.6,
          0.6,
          0.6,
          0.6
         ]
        },
        {
         "line": {
          "color": [
           "rgb(191.25, 127.50, 127.50)",
           "rgb(191.25, 127.50, 127.50)"
          ],
          "width": 1
         },
         "mode": "lines",
         "showlegend": false,
         "type": "scatter3d",
         "x": [
          30,
          37.5
         ],
         "y": [
          40,
          40
         ],
         "z": [
          0.6,
          0.6
         ]
        },
        {
         "line": {
          "color": [
           "rgb(0.00, 102.00, 255.00)",
           "rgb(191.25, 127.50, 127.50)"
          ],
          "width": 1
         },
         "mode": "lines",
         "showlegend": false,
         "type": "scatter3d",
         "x": [
          37.5,
          37.5
         ],
         "y": [
          40,
          40
         ],
         "z": [
          0.6,
          1.2
         ]
        },
        {
         "line": {
          "color": [
           "rgb(0.00, 255.00, 255.00)"
          ],
          "width": 4
         },
         "mode": "lines",
         "showlegend": false,
         "type": "scatter3d",
         "x": [
          37.5
         ],
         "y": [
          40
         ],
         "z": [
          1.2
         ]
        },
        {
         "marker": {
          "color": "red",
          "size": 2
         },
         "mode": "markers",
         "showlegend": false,
         "type": "scatter3d",
         "x": [],
         "y": [],
         "z": []
        }
       ],
       "layout": {
        "height": 500,
        "margin": {
         "b": 10,
         "l": 10,
         "pad": 4,
         "r": 10,
         "t": 10
        },
        "paper_bgcolor": "black",
        "scene": {
         "aspectmode": "cube",
         "camera": {
          "center": {
           "x": 0,
           "y": 0,
           "z": -0.5
          },
          "eye": {
           "x": -0.5,
           "y": -1,
           "z": 0
          }
         },
         "xaxis": {
          "backgroundcolor": "black",
          "nticks": 10,
          "range": [
           29.99900000000001,
           117.801
          ]
         },
         "yaxis": {
          "backgroundcolor": "black",
          "nticks": 10,
          "range": [
           -3.9009999999999962,
           83.901
          ]
         },
         "zaxis": {
          "backgroundcolor": "black",
          "nticks": 10,
          "range": [
           0,
           87.80199999999999
          ]
         }
        },
        "template": {
         "data": {
          "bar": [
           {
            "error_x": {
             "color": "#f2f5fa"
            },
            "error_y": {
             "color": "#f2f5fa"
            },
            "marker": {
             "line": {
              "color": "rgb(17,17,17)",
              "width": 0.5
             },
             "pattern": {
              "fillmode": "overlay",
              "size": 10,
              "solidity": 0.2
             }
            },
            "type": "bar"
           }
          ],
          "barpolar": [
           {
            "marker": {
             "line": {
              "color": "rgb(17,17,17)",
              "width": 0.5
             },
             "pattern": {
              "fillmode": "overlay",
              "size": 10,
              "solidity": 0.2
             }
            },
            "type": "barpolar"
           }
          ],
          "carpet": [
           {
            "aaxis": {
             "endlinecolor": "#A2B1C6",
             "gridcolor": "#506784",
             "linecolor": "#506784",
             "minorgridcolor": "#506784",
             "startlinecolor": "#A2B1C6"
            },
            "baxis": {
             "endlinecolor": "#A2B1C6",
             "gridcolor": "#506784",
             "linecolor": "#506784",
             "minorgridcolor": "#506784",
             "startlinecolor": "#A2B1C6"
            },
            "type": "carpet"
           }
          ],
          "choropleth": [
           {
            "colorbar": {
             "outlinewidth": 0,
             "ticks": ""
            },
            "type": "choropleth"
           }
          ],
          "contour": [
           {
            "colorbar": {
             "outlinewidth": 0,
             "ticks": ""
            },
            "colorscale": [
             [
              0,
              "#0d0887"
             ],
             [
              0.1111111111111111,
              "#46039f"
             ],
             [
              0.2222222222222222,
              "#7201a8"
             ],
             [
              0.3333333333333333,
              "#9c179e"
             ],
             [
              0.4444444444444444,
              "#bd3786"
             ],
             [
              0.5555555555555556,
              "#d8576b"
             ],
             [
              0.6666666666666666,
              "#ed7953"
             ],
             [
              0.7777777777777778,
              "#fb9f3a"
             ],
             [
              0.8888888888888888,
              "#fdca26"
             ],
             [
              1,
              "#f0f921"
             ]
            ],
            "type": "contour"
           }
          ],
          "contourcarpet": [
           {
            "colorbar": {
             "outlinewidth": 0,
             "ticks": ""
            },
            "type": "contourcarpet"
           }
          ],
          "heatmap": [
           {
            "colorbar": {
             "outlinewidth": 0,
             "ticks": ""
            },
            "colorscale": [
             [
              0,
              "#0d0887"
             ],
             [
              0.1111111111111111,
              "#46039f"
             ],
             [
              0.2222222222222222,
              "#7201a8"
             ],
             [
              0.3333333333333333,
              "#9c179e"
             ],
             [
              0.4444444444444444,
              "#bd3786"
             ],
             [
              0.5555555555555556,
              "#d8576b"
             ],
             [
              0.6666666666666666,
              "#ed7953"
             ],
             [
              0.7777777777777778,
              "#fb9f3a"
             ],
             [
              0.8888888888888888,
              "#fdca26"
             ],
             [
              1,
              "#f0f921"
             ]
            ],
            "type": "heatmap"
           }
          ],
          "heatmapgl": [
           {
            "colorbar": {
             "outlinewidth": 0,
             "ticks": ""
            },
            "colorscale": [
             [
              0,
              "#0d0887"
             ],
             [
              0.1111111111111111,
              "#46039f"
             ],
             [
              0.2222222222222222,
              "#7201a8"
             ],
             [
              0.3333333333333333,
              "#9c179e"
             ],
             [
              0.4444444444444444,
              "#bd3786"
             ],
             [
              0.5555555555555556,
              "#d8576b"
             ],
             [
              0.6666666666666666,
              "#ed7953"
             ],
             [
              0.7777777777777778,
              "#fb9f3a"
             ],
             [
              0.8888888888888888,
              "#fdca26"
             ],
             [
              1,
              "#f0f921"
             ]
            ],
            "type": "heatmapgl"
           }
          ],
          "histogram": [
           {
            "marker": {
             "pattern": {
              "fillmode": "overlay",
              "size": 10,
              "solidity": 0.2
             }
            },
            "type": "histogram"
           }
          ],
          "histogram2d": [
           {
            "colorbar": {
             "outlinewidth": 0,
             "ticks": ""
            },
            "colorscale": [
             [
              0,
              "#0d0887"
             ],
             [
              0.1111111111111111,
              "#46039f"
             ],
             [
              0.2222222222222222,
              "#7201a8"
             ],
             [
              0.3333333333333333,
              "#9c179e"
             ],
             [
              0.4444444444444444,
              "#bd3786"
             ],
             [
              0.5555555555555556,
              "#d8576b"
             ],
             [
              0.6666666666666666,
              "#ed7953"
             ],
             [
              0.7777777777777778,
              "#fb9f3a"
             ],
             [
              0.8888888888888888,
              "#fdca26"
             ],
             [
              1,
              "#f0f921"
             ]
            ],
            "type": "histogram2d"
           }
          ],
          "histogram2dcontour": [
           {
            "colorbar": {
             "outlinewidth": 0,
             "ticks": ""
            },
            "colorscale": [
             [
              0,
              "#0d0887"
             ],
             [
              0.1111111111111111,
              "#46039f"
             ],
             [
              0.2222222222222222,
              "#7201a8"
             ],
             [
              0.3333333333333333,
              "#9c179e"
             ],
             [
              0.4444444444444444,
              "#bd3786"
             ],
             [
              0.5555555555555556,
              "#d8576b"
             ],
             [
              0.6666666666666666,
              "#ed7953"
             ],
             [
              0.7777777777777778,
              "#fb9f3a"
             ],
             [
              0.8888888888888888,
              "#fdca26"
             ],
             [
              1,
              "#f0f921"
             ]
            ],
            "type": "histogram2dcontour"
           }
          ],
          "mesh3d": [
           {
            "colorbar": {
             "outlinewidth": 0,
             "ticks": ""
            },
            "type": "mesh3d"
           }
          ],
          "parcoords": [
           {
            "line": {
             "colorbar": {
              "outlinewidth": 0,
              "ticks": ""
             }
            },
            "type": "parcoords"
           }
          ],
          "pie": [
           {
            "automargin": true,
            "type": "pie"
           }
          ],
          "scatter": [
           {
            "marker": {
             "line": {
              "color": "#283442"
             }
            },
            "type": "scatter"
           }
          ],
          "scatter3d": [
           {
            "line": {
             "colorbar": {
              "outlinewidth": 0,
              "ticks": ""
             }
            },
            "marker": {
             "colorbar": {
              "outlinewidth": 0,
              "ticks": ""
             }
            },
            "type": "scatter3d"
           }
          ],
          "scattercarpet": [
           {
            "marker": {
             "colorbar": {
              "outlinewidth": 0,
              "ticks": ""
             }
            },
            "type": "scattercarpet"
           }
          ],
          "scattergeo": [
           {
            "marker": {
             "colorbar": {
              "outlinewidth": 0,
              "ticks": ""
             }
            },
            "type": "scattergeo"
           }
          ],
          "scattergl": [
           {
            "marker": {
             "line": {
              "color": "#283442"
             }
            },
            "type": "scattergl"
           }
          ],
          "scattermapbox": [
           {
            "marker": {
             "colorbar": {
              "outlinewidth": 0,
              "ticks": ""
             }
            },
            "type": "scattermapbox"
           }
          ],
          "scatterpolar": [
           {
            "marker": {
             "colorbar": {
              "outlinewidth": 0,
              "ticks": ""
             }
            },
            "type": "scatterpolar"
           }
          ],
          "scatterpolargl": [
           {
            "marker": {
             "colorbar": {
              "outlinewidth": 0,
              "ticks": ""
             }
            },
            "type": "scatterpolargl"
           }
          ],
          "scatterternary": [
           {
            "marker": {
             "colorbar": {
              "outlinewidth": 0,
              "ticks": ""
             }
            },
            "type": "scatterternary"
           }
          ],
          "surface": [
           {
            "colorbar": {
             "outlinewidth": 0,
             "ticks": ""
            },
            "colorscale": [
             [
              0,
              "#0d0887"
             ],
             [
              0.1111111111111111,
              "#46039f"
             ],
             [
              0.2222222222222222,
              "#7201a8"
             ],
             [
              0.3333333333333333,
              "#9c179e"
             ],
             [
              0.4444444444444444,
              "#bd3786"
             ],
             [
              0.5555555555555556,
              "#d8576b"
             ],
             [
              0.6666666666666666,
              "#ed7953"
             ],
             [
              0.7777777777777778,
              "#fb9f3a"
             ],
             [
              0.8888888888888888,
              "#fdca26"
             ],
             [
              1,
              "#f0f921"
             ]
            ],
            "type": "surface"
           }
          ],
          "table": [
           {
            "cells": {
             "fill": {
              "color": "#506784"
             },
             "line": {
              "color": "rgb(17,17,17)"
             }
            },
            "header": {
             "fill": {
              "color": "#2a3f5f"
             },
             "line": {
              "color": "rgb(17,17,17)"
             }
            },
            "type": "table"
           }
          ]
         },
         "layout": {
          "annotationdefaults": {
           "arrowcolor": "#f2f5fa",
           "arrowhead": 0,
           "arrowwidth": 1
          },
          "autotypenumbers": "strict",
          "coloraxis": {
           "colorbar": {
            "outlinewidth": 0,
            "ticks": ""
           }
          },
          "colorscale": {
           "diverging": [
            [
             0,
             "#8e0152"
            ],
            [
             0.1,
             "#c51b7d"
            ],
            [
             0.2,
             "#de77ae"
            ],
            [
             0.3,
             "#f1b6da"
            ],
            [
             0.4,
             "#fde0ef"
            ],
            [
             0.5,
             "#f7f7f7"
            ],
            [
             0.6,
             "#e6f5d0"
            ],
            [
             0.7,
             "#b8e186"
            ],
            [
             0.8,
             "#7fbc41"
            ],
            [
             0.9,
             "#4d9221"
            ],
            [
             1,
             "#276419"
            ]
           ],
           "sequential": [
            [
             0,
             "#0d0887"
            ],
            [
             0.1111111111111111,
             "#46039f"
            ],
            [
             0.2222222222222222,
             "#7201a8"
            ],
            [
             0.3333333333333333,
             "#9c179e"
            ],
            [
             0.4444444444444444,
             "#bd3786"
            ],
            [
             0.5555555555555556,
             "#d8576b"
            ],
            [
             0.6666666666666666,
             "#ed7953"
            ],
            [
             0.7777777777777778,
             "#fb9f3a"
            ],
            [
             0.8888888888888888,
             "#fdca26"
            ],
            [
             1,
             "#f0f921"
            ]
           ],
           "sequentialminus": [
            [
             0,
             "#0d0887"
            ],
            [
             0.1111111111111111,
             "#46039f"
            ],
            [
             0.2222222222222222,
             "#7201a8"
            ],
            [
             0.3333333333333333,
             "#9c179e"
            ],
            [
             0.4444444444444444,
             "#bd3786"
            ],
            [
             0.5555555555555556,
             "#d8576b"
            ],
            [
             0.6666666666666666,
             "#ed7953"
            ],
            [
             0.7777777777777778,
             "#fb9f3a"
            ],
            [
             0.8888888888888888,
             "#fdca26"
            ],
            [
             1,
             "#f0f921"
            ]
           ]
          },
          "colorway": [
           "#636efa",
           "#EF553B",
           "#00cc96",
           "#ab63fa",
           "#FFA15A",
           "#19d3f3",
           "#FF6692",
           "#B6E880",
           "#FF97FF",
           "#FECB52"
          ],
          "font": {
           "color": "#f2f5fa"
          },
          "geo": {
           "bgcolor": "rgb(17,17,17)",
           "lakecolor": "rgb(17,17,17)",
           "landcolor": "rgb(17,17,17)",
           "showlakes": true,
           "showland": true,
           "subunitcolor": "#506784"
          },
          "hoverlabel": {
           "align": "left"
          },
          "hovermode": "closest",
          "mapbox": {
           "style": "dark"
          },
          "paper_bgcolor": "rgb(17,17,17)",
          "plot_bgcolor": "rgb(17,17,17)",
          "polar": {
           "angularaxis": {
            "gridcolor": "#506784",
            "linecolor": "#506784",
            "ticks": ""
           },
           "bgcolor": "rgb(17,17,17)",
           "radialaxis": {
            "gridcolor": "#506784",
            "linecolor": "#506784",
            "ticks": ""
           }
          },
          "scene": {
           "xaxis": {
            "backgroundcolor": "rgb(17,17,17)",
            "gridcolor": "#506784",
            "gridwidth": 2,
            "linecolor": "#506784",
            "showbackground": true,
            "ticks": "",
            "zerolinecolor": "#C8D4E3"
           },
           "yaxis": {
            "backgroundcolor": "rgb(17,17,17)",
            "gridcolor": "#506784",
            "gridwidth": 2,
            "linecolor": "#506784",
            "showbackground": true,
            "ticks": "",
            "zerolinecolor": "#C8D4E3"
           },
           "zaxis": {
            "backgroundcolor": "rgb(17,17,17)",
            "gridcolor": "#506784",
            "gridwidth": 2,
            "linecolor": "#506784",
            "showbackground": true,
            "ticks": "",
            "zerolinecolor": "#C8D4E3"
           }
          },
          "shapedefaults": {
           "line": {
            "color": "#f2f5fa"
           }
          },
          "sliderdefaults": {
           "bgcolor": "#C8D4E3",
           "bordercolor": "rgb(17,17,17)",
           "borderwidth": 1,
           "tickwidth": 0
          },
          "ternary": {
           "aaxis": {
            "gridcolor": "#506784",
            "linecolor": "#506784",
            "ticks": ""
           },
           "baxis": {
            "gridcolor": "#506784",
            "linecolor": "#506784",
            "ticks": ""
           },
           "bgcolor": "rgb(17,17,17)",
           "caxis": {
            "gridcolor": "#506784",
            "linecolor": "#506784",
            "ticks": ""
           }
          },
          "title": {
           "x": 0.05
          },
          "updatemenudefaults": {
           "bgcolor": "#506784",
           "borderwidth": 0
          },
          "xaxis": {
           "automargin": true,
           "gridcolor": "#283442",
           "linecolor": "#506784",
           "ticks": "",
           "title": {
            "standoff": 15
           },
           "zerolinecolor": "#283442",
           "zerolinewidth": 2
          },
          "yaxis": {
           "automargin": true,
           "gridcolor": "#283442",
           "linecolor": "#506784",
           "ticks": "",
           "title": {
            "standoff": 15
           },
           "zerolinecolor": "#283442",
           "zerolinewidth": 2
          }
         }
        },
        "width": 800
       }
      }
     },
     "metadata": {},
     "output_type": "display_data"
    }
   ],
   "source": [
    "# preview the design\n",
    "\n",
    "fc.transform(steps, 'plot')\n",
    "# uncomment the next line to create a neat preview (click the top-left button in the plot for a .png file) - post and tag @FullControlXYZ :)\n",
    "# fc.transform(steps, 'plot', fc.PlotControls(neat_for_publishing=True)) "
   ]
  },
  {
   "cell_type": "code",
   "execution_count": 7,
   "id": "b09662cc",
   "metadata": {},
   "outputs": [
    {
     "name": "stdout",
     "output_type": "stream",
     "text": [
      "; Time to print!!!!!\n",
      "; GCode created with FullControl - tell us what you're printing!\n",
      "; info@fullcontrol.xyz or tag FullControlXYZ on Twitter/Instagram/LinkedIn/Reddit/TikTok\n",
      "M83 ; relative extrusion\n",
      "G0 F8000 X45.2 Y40.2 Z0.2\n",
      "G1 F1000 X42.5 Y54.3091 E0.477785\n",
      "G0 F8000 X45.8 Y40.2\n",
      "G1 F1000 X43.1818 Y54.3513 E0.478661\n",
      "G0 F8000 X46.4 Y40.2\n",
      "G1 F1000 X43.8636 Y54.392 E0.479507\n",
      "G0 F8000 X47.0 Y40.2\n",
      "G1 F1000 X44.5455 Y54.4314 E0.480326\n",
      "G0 F8000 X47.6 Y40.2\n",
      "G1 F1000 X45.2273 Y54.4693 E0.481116\n",
      "G0 F8000 X48.2 Y40.2\n",
      "G1 F1000 X45.9091 Y54.5059 E0.481879\n",
      "G0 F8000 X48.8 Y40.2\n",
      "G1 F1000 X46.5909 Y54.5411 E0.482613\n",
      "G0 F8000 X49.4 Y40.2\n",
      "G1 F1000 X47.2727 Y54.575 E0.48332\n",
      "G0 F8000 X50.0 Y40.2\n",
      "G1 F1000 X47.9545 Y54.6075 E0.484\n",
      "G0 F8000 X50.6 Y40.2\n",
      "G1 F1000 X48.6364 Y54.6386 E0.484651\n",
      "G0 F8000 X51.2 Y40.2\n",
      "G1 F1000 X49.3182 Y54.6684 E0.485276\n",
      "G0 F8000 X51.8 Y40.2\n",
      "G1 F1000 X50.0 Y54.6969 E0.485873\n",
      "G0 F8000 X52.4 Y40.2\n",
      "G1 F1000 X50.6818 Y54.7241 E0.486443\n",
      "G0 F8000 X53.0 Y40.2\n",
      "G1 F1000 X51.3636 Y54.75 E0.486985\n",
      "G0 F8000 X53.6 Y40.2\n",
      "G1 F1000 X52.0455 Y54.7745 E0.487501\n",
      "G0 F8000 X54.2 Y40.2\n",
      "G1 F1000 X52.7273 Y54.7978 E0.48799\n",
      "G0 F8000 X54.8 Y40.2\n",
      "G1 F1000 X53.4091 Y54.8198 E0.488452\n",
      "G0 F8000 X55.4 Y40.2\n",
      "G1 F1000 X54.0909 Y54.8405 E0.488887\n",
      "G0 F8000 X56.0 Y40.2\n",
      "G1 F1000 X54.7727 Y54.8599 E0.489295\n",
      "G0 F8000 X56.6 Y40.2\n",
      "G1 F1000 X55.4545 Y54.878 E0.489677\n",
      "G0 F8000 X57.2 Y40.2\n",
      "G1 F1000 X56.1364 Y54.8949 E0.490032\n",
      "G0 F8000 X57.8 Y40.2\n",
      "G1 F1000 X56.8182 Y54.9105 E0.490361\n",
      "G0 F8000 X58.4 Y40.2\n",
      "G1 F1000 X57.5 Y54.9248 E0.490663\n",
      "G0 F8000 X59.0 Y40.2\n",
      "G1 F1000 X58.1818 Y54.9379 E0.490939\n",
      "G0 F8000 X59.6 Y40.2\n",
      "G1 F1000 X58.8636 Y54.9497 E0.491188\n",
      "G0 F8000 X60.2 Y40.2\n",
      "G1 F1000 X59.5455 Y54.9603 E0.491411\n",
      "G0 F8000 X60.8 Y40.2\n",
      "G1 F1000 X60.2273 Y54.9696 E0.491608\n",
      "G0 F8000 X61.4 Y40.2\n",
      "G1 F1000 X60.9091 Y54.9777 E0.491778\n",
      "G0 F8000 X62.0 Y40.2\n",
      "G1 F1000 X61.5909 Y54.9845 E0.491923\n",
      "G0 F8000 X62.6 Y40.2\n",
      "G1 F1000 X62.2727 Y54.9901 E0.49204\n",
      "G0 F8000 X63.2 Y40.2\n",
      "G1 F1000 X62.9545 Y54.9944 E0.492132\n",
      "G0 F8000 X63.8 Y40.2\n",
      "G1 F1000 X63.6364 Y54.9975 E0.492198\n",
      "G0 F8000 X64.4 Y40.2\n",
      "G1 F1000 X64.3182 Y54.9994 E0.492237\n",
      "G0 F8000 X65.0 Y40.2\n",
      "G1 F1000 Y55.0 E0.49225\n",
      "G0 F8000 X65.6024 Y40.2\n",
      "G1 F1000 X65.6361 Y54.999 E0.492218\n",
      "G0 F8000 X66.2048 Y40.1999\n",
      "G1 F1000 X66.2723 Y54.996 E0.492124\n",
      "G0 F8000 X66.8072 Y40.1999\n",
      "G1 F1000 X66.9084 Y54.991 E0.491965\n",
      "G0 F8000 X67.4096 Y40.1998\n",
      "G1 F1000 X67.5446 Y54.9839 E0.491744\n",
      "G0 F8000 X68.012 Y40.1996\n",
      "G1 F1000 X68.1807 Y54.9749 E0.491459\n",
      "G0 F8000 X68.6145 Y40.1995\n",
      "G1 F1000 X68.8169 Y54.9638 E0.491111\n",
      "G0 F8000 X69.2169 Y40.1993\n",
      "G1 F1000 X69.453 Y54.9508 E0.490699\n",
      "G0 F8000 X69.8193 Y40.1991\n",
      "G1 F1000 X70.0892 Y54.9356 E0.490223\n",
      "G0 F8000 X70.4217 Y40.1988\n",
      "G1 F1000 X70.7253 Y54.9185 E0.489683\n",
      "G0 F8000 X71.0241 Y40.1985\n",
      "G1 F1000 X71.3614 Y54.8993 E0.489079\n",
      "G0 F8000 X71.6265 Y40.1982\n",
      "G1 F1000 X71.9976 Y54.8781 E0.48841\n",
      "G0 F8000 X72.2289 Y40.1979\n",
      "G1 F1000 X72.6337 Y54.8548 E0.487677\n",
      "G0 F8000 X72.8313 Y40.1975\n",
      "G1 F1000 X73.2699 Y54.8295 E0.486879\n",
      "G0 F8000 X73.4337 Y40.1971\n",
      "G1 F1000 X73.906 Y54.802 E0.486015\n",
      "G0 F8000 X74.0361 Y40.1967\n",
      "G1 F1000 X74.5422 Y54.7725 E0.485086\n",
      "G0 F8000 X74.6386 Y40.1962\n",
      "G1 F1000 X75.1783 Y54.7409 E0.48409\n",
      "G0 F8000 X75.241 Y40.1958\n",
      "G1 F1000 X75.8145 Y54.7072 E0.483028\n",
      "G0 F8000 X75.8434 Y40.1952\n",
      "G1 F1000 X76.4506 Y54.6713 E0.4819\n",
      "G0 F8000 X76.4458 Y40.1947\n",
      "G1 F1000 X77.0867 Y54.6333 E0.480704\n",
      "G0 F8000 X77.0482 Y40.1941\n",
      "G1 F1000 X77.7229 Y54.5931 E0.479439\n",
      "G0 F8000 X77.6506 Y40.1935\n",
      "G1 F1000 X78.359 Y54.5508 E0.478107\n",
      "G0 F8000 X78.253 Y40.1928\n",
      "G1 F1000 X78.9952 Y54.5063 E0.476706\n",
      "G0 F8000 X78.8554 Y40.1922\n",
      "G1 F1000 X79.6313 Y54.4595 E0.475234\n",
      "G0 F8000 X79.4578 Y40.1915\n",
      "G1 F1000 X80.2675 Y54.4105 E0.473693\n",
      "G0 F8000 X80.0602 Y40.1907\n",
      "G1 F1000 X80.9036 Y54.3592 E0.472081\n",
      "G0 F8000 X80.6627 Y40.1899\n",
      "G1 F1000 X81.5398 Y54.3057 E0.470397\n",
      "G0 F8000 X81.2651 Y40.1891\n",
      "G1 F1000 X82.1759 Y54.2498 E0.46864\n",
      "G0 F8000 X81.8675 Y40.1883\n",
      "G1 F1000 X82.812 Y54.1916 E0.466811\n",
      "G0 F8000 X82.4699 Y40.1874\n",
      "G1 F1000 X83.4482 Y54.131 E0.464907\n",
      "G0 F8000 X83.0723 Y40.1865\n",
      "G1 F1000 X84.0843 Y54.068 E0.462928\n",
      "G0 F8000 X83.6747 Y40.1855\n",
      "G1 F1000 X84.7205 Y54.0026 E0.460873\n",
      "G0 F8000 X84.2771 Y40.1845\n",
      "G1 F1000 X85.3566 Y53.9348 E0.458741\n",
      "G0 F8000 X84.8795 Y40.1835\n",
      "G1 F1000 X85.9928 Y53.8644 E0.456531\n",
      "G0 F8000 X85.4819 Y40.1824\n",
      "G1 F1000 X86.6289 Y53.7915 E0.454242\n",
      "G0 F8000 X86.0843 Y40.1813\n",
      "G1 F1000 X87.2651 Y53.716 E0.451872\n",
      "G0 F8000 X86.6867 Y40.1802\n",
      "G1 F1000 X87.9012 Y53.6378 E0.449421\n",
      "G0 F8000 X87.2892 Y40.179\n",
      "G1 F1000 X88.5373 Y53.557 E0.446886\n",
      "G0 F8000 X87.8916 Y40.1778\n",
      "G1 F1000 X89.1735 Y53.4735 E0.444267\n",
      "G0 F8000 X88.494 Y40.1765\n",
      "G1 F1000 X89.8096 Y53.3872 E0.441562\n",
      "G0 F8000 X89.0964 Y40.1752\n",
      "G1 F1000 X90.4458 Y53.2981 E0.43877\n",
      "G0 F8000 X89.6988 Y40.1739\n",
      "G1 F1000 X91.0819 Y53.2061 E0.435888\n",
      "G0 F8000 X90.3012 Y40.1725\n",
      "G1 F1000 X91.7181 Y53.1112 E0.432915\n",
      "G0 F8000 X90.9036 Y40.1711\n",
      "G1 F1000 X92.3542 Y53.0133 E0.429849\n",
      "G0 F8000 X91.506 Y40.1696\n",
      "G1 F1000 X92.9904 Y52.9122 E0.426688\n",
      "G0 F8000 X92.1084 Y40.1681\n",
      "G1 F1000 X93.6265 Y52.8081 E0.42343\n",
      "G0 F8000 X92.7108 Y40.1665\n",
      "G1 F1000 X94.2627 Y52.7007 E0.420073\n",
      "G0 F8000 X93.3133 Y40.1648\n",
      "G1 F1000 X94.8988 Y52.59 E0.416614\n",
      "G0 F8000 X93.9157 Y40.1632\n",
      "G1 F1000 X95.5349 Y52.4759 E0.413051\n",
      "G0 F8000 X94.5181 Y40.1614\n",
      "G1 F1000 X96.1711 Y52.3584 E0.409381\n",
      "G0 F8000 X95.1205 Y40.1596\n",
      "G1 F1000 X96.8072 Y52.2372 E0.405601\n",
      "G0 F8000 X95.7229 Y40.1578\n",
      "G1 F1000 X97.4434 Y52.1124 E0.401708\n",
      "G0 F8000 X96.3253 Y40.1559\n",
      "G1 F1000 X98.0795 Y51.9837 E0.397698\n",
      "G0 F8000 X96.9277 Y40.1539\n",
      "G1 F1000 X98.7157 Y51.8511 E0.393569\n",
      "G0 F8000 X97.5301 Y40.1519\n",
      "G1 F1000 X99.3518 Y51.7144 E0.389316\n",
      "G0 F8000 X98.1325 Y40.1498\n",
      "G1 F1000 X99.988 Y51.5735 E0.384935\n",
      "G0 F8000 X98.7349 Y40.1476\n",
      "G1 F1000 X100.624 Y51.4283 E0.380422\n",
      "G0 F8000 X99.3373 Y40.1454\n",
      "G1 F1000 X101.26 Y51.2785 E0.375772\n",
      "G0 F8000 X99.9398 Y40.1431\n",
      "G1 F1000 X101.896 Y51.124 E0.37098\n",
      "G0 F8000 X100.542 Y40.1407\n",
      "G1 F1000 X102.533 Y50.9645 E0.36604\n",
      "G0 F8000 X101.145 Y40.1382\n",
      "G1 F1000 X103.169 Y50.8 E0.360946\n",
      "G0 F8000 X101.747 Y40.1356\n",
      "G1 F1000 X103.805 Y50.63 E0.355692\n",
      "G0 F8000 X102.349 Y40.133\n",
      "G1 F1000 X104.441 Y50.4544 E0.350271\n",
      "G0 F8000 X102.952 Y40.1302\n",
      "G1 F1000 X105.077 Y50.2729 E0.344674\n",
      "G0 F8000 X103.554 Y40.1273\n",
      "G1 F1000 X105.713 Y50.0851 E0.338893\n",
      "G0 F8000 X104.157 Y40.1244\n",
      "G1 F1000 X106.349 Y49.8907 E0.332918\n",
      "G0 F8000 X104.759 Y40.1213\n",
      "G1 F1000 X106.986 Y49.6894 E0.326738\n",
      "G0 F8000 X105.361 Y40.118\n",
      "G1 F1000 X107.622 Y49.4805 E0.320343\n",
      "G0 F8000 X105.964 Y40.1147\n",
      "G1 F1000 X108.258 Y49.2637 E0.313718\n",
      "G0 F8000 X106.566 Y40.1112\n",
      "G1 F1000 X108.894 Y49.0384 E0.30685\n",
      "G0 F8000 X107.169 Y40.1075\n",
      "G1 F1000 X109.53 Y48.8039 E0.29972\n",
      "G0 F8000 X107.771 Y40.1036\n",
      "G1 F1000 X110.166 Y48.5595 E0.29231\n",
      "G0 F8000 X108.373 Y40.0995\n",
      "G1 F1000 X110.802 Y48.3043 E0.284598\n",
      "G0 F8000 X108.976 Y40.0952\n",
      "G1 F1000 X111.439 Y48.0372 E0.27656\n",
      "G0 F8000 X109.578 Y40.0906\n",
      "G1 F1000 X112.075 Y47.757 E0.268165\n",
      "G0 F8000 X110.181 Y40.0857\n",
      "G1 F1000 X112.711 Y47.4623 E0.25938\n",
      "G0 F8000 X110.783 Y40.0804\n",
      "G1 F1000 X113.347 Y47.1513 E0.250163\n",
      "G0 F8000 X111.386 Y40.0747\n",
      "G1 F1000 X113.983 Y46.8217 E0.240465\n",
      "G0 F8000 X111.988 Y40.0684\n",
      "G1 F1000 X114.619 Y46.4708 E0.230227\n",
      "G0 F8000 X112.59 Y40.0613\n",
      "G1 F1000 X115.255 Y46.0947 E0.219375\n",
      "G0 F8000 X113.193 Y40.0533\n",
      "G1 F1000 X115.892 Y45.6885 E0.207814\n",
      "G0 F8000 X113.795 Y40.0436\n",
      "G1 F1000 X116.528 Y45.2453 E0.195426\n",
      "G0 F8000 X114.398 Y40.031\n",
      "G1 F1000 X117.164 Y44.7546 E0.182068\n",
      "G0 F8000 X115.0 Y40.0\n",
      "G1 F1000 X117.8 Y44.2 E0.16789\n",
      "G0 F8000 X114.398 Y39.969\n",
      "G1 F1000 X117.164 Y35.2454 E0.182068\n",
      "G0 F8000 X113.795 Y39.9564\n",
      "G1 F1000 X116.528 Y34.7547 E0.195426\n",
      "G0 F8000 X113.193 Y39.9467\n",
      "G1 F1000 X115.892 Y34.3115 E0.207814\n",
      "G0 F8000 X112.59 Y39.9387\n",
      "G1 F1000 X115.255 Y33.9053 E0.219375\n",
      "G0 F8000 X111.988 Y39.9316\n",
      "G1 F1000 X114.619 Y33.5292 E0.230227\n",
      "G0 F8000 X111.386 Y39.9253\n",
      "G1 F1000 X113.983 Y33.1783 E0.240465\n",
      "G0 F8000 X110.783 Y39.9196\n",
      "G1 F1000 X113.347 Y32.8487 E0.250163\n",
      "G0 F8000 X110.181 Y39.9143\n",
      "G1 F1000 X112.711 Y32.5377 E0.25938\n",
      "G0 F8000 X109.578 Y39.9094\n",
      "G1 F1000 X112.075 Y32.243 E0.268165\n",
      "G0 F8000 X108.976 Y39.9048\n",
      "G1 F1000 X111.439 Y31.9628 E0.27656\n",
      "G0 F8000 X108.373 Y39.9005\n",
      "G1 F1000 X110.802 Y31.6957 E0.284598\n",
      "G0 F8000 X107.771 Y39.8964\n",
      "G1 F1000 X110.166 Y31.4405 E0.29231\n",
      "G0 F8000 X107.169 Y39.8925\n",
      "G1 F1000 X109.53 Y31.1961 E0.29972\n",
      "G0 F8000 X106.566 Y39.8888\n",
      "G1 F1000 X108.894 Y30.9616 E0.30685\n",
      "G0 F8000 X105.964 Y39.8853\n",
      "G1 F1000 X108.258 Y30.7363 E0.313718\n",
      "G0 F8000 X105.361 Y39.882\n",
      "G1 F1000 X107.622 Y30.5195 E0.320343\n",
      "G0 F8000 X104.759 Y39.8787\n",
      "G1 F1000 X106.986 Y30.3106 E0.326738\n",
      "G0 F8000 X104.157 Y39.8756\n",
      "G1 F1000 X106.349 Y30.1093 E0.332918\n",
      "G0 F8000 X103.554 Y39.8727\n",
      "G1 F1000 X105.713 Y29.9149 E0.338893\n",
      "G0 F8000 X102.952 Y39.8698\n",
      "G1 F1000 X105.077 Y29.7271 E0.344674\n",
      "G0 F8000 X102.349 Y39.867\n",
      "G1 F1000 X104.441 Y29.5456 E0.350271\n",
      "G0 F8000 X101.747 Y39.8644\n",
      "G1 F1000 X103.805 Y29.37 E0.355692\n",
      "G0 F8000 X101.145 Y39.8618\n",
      "G1 F1000 X103.169 Y29.2 E0.360946\n",
      "G0 F8000 X100.542 Y39.8593\n",
      "G1 F1000 X102.533 Y29.0355 E0.36604\n",
      "G0 F8000 X99.9398 Y39.8569\n",
      "G1 F1000 X101.896 Y28.876 E0.37098\n",
      "G0 F8000 X99.3373 Y39.8546\n",
      "G1 F1000 X101.26 Y28.7215 E0.375772\n",
      "G0 F8000 X98.7349 Y39.8524\n",
      "G1 F1000 X100.624 Y28.5717 E0.380422\n",
      "G0 F8000 X98.1325 Y39.8502\n",
      "G1 F1000 X99.988 Y28.4265 E0.384935\n",
      "G0 F8000 X97.5301 Y39.8481\n",
      "G1 F1000 X99.3518 Y28.2856 E0.389316\n",
      "G0 F8000 X96.9277 Y39.8461\n",
      "G1 F1000 X98.7157 Y28.1489 E0.393569\n",
      "G0 F8000 X96.3253 Y39.8441\n",
      "G1 F1000 X98.0795 Y28.0163 E0.397698\n",
      "G0 F8000 X95.7229 Y39.8422\n",
      "G1 F1000 X97.4434 Y27.8876 E0.401708\n",
      "G0 F8000 X95.1205 Y39.8404\n",
      "G1 F1000 X96.8072 Y27.7628 E0.405601\n",
      "G0 F8000 X94.5181 Y39.8386\n",
      "G1 F1000 X96.1711 Y27.6416 E0.409381\n",
      "G0 F8000 X93.9157 Y39.8368\n",
      "G1 F1000 X95.5349 Y27.5241 E0.413051\n",
      "G0 F8000 X93.3133 Y39.8352\n",
      "G1 F1000 X94.8988 Y27.41 E0.416614\n",
      "G0 F8000 X92.7108 Y39.8335\n",
      "G1 F1000 X94.2627 Y27.2993 E0.420073\n",
      "G0 F8000 X92.1084 Y39.8319\n",
      "G1 F1000 X93.6265 Y27.1919 E0.42343\n",
      "G0 F8000 X91.506 Y39.8304\n",
      "G1 F1000 X92.9904 Y27.0878 E0.426688\n",
      "G0 F8000 X90.9036 Y39.8289\n",
      "G1 F1000 X92.3542 Y26.9867 E0.429849\n",
      "G0 F8000 X90.3012 Y39.8275\n",
      "G1 F1000 X91.7181 Y26.8888 E0.432915\n",
      "G0 F8000 X89.6988 Y39.8261\n",
      "G1 F1000 X91.0819 Y26.7939 E0.435888\n",
      "G0 F8000 X89.0964 Y39.8248\n",
      "G1 F1000 X90.4458 Y26.7019 E0.43877\n",
      "G0 F8000 X88.494 Y39.8235\n",
      "G1 F1000 X89.8096 Y26.6128 E0.441562\n",
      "G0 F8000 X87.8916 Y39.8222\n",
      "G1 F1000 X89.1735 Y26.5265 E0.444267\n",
      "G0 F8000 X87.2892 Y39.821\n",
      "G1 F1000 X88.5373 Y26.443 E0.446886\n",
      "G0 F8000 X86.6867 Y39.8198\n",
      "G1 F1000 X87.9012 Y26.3622 E0.449421\n",
      "G0 F8000 X86.0843 Y39.8187\n",
      "G1 F1000 X87.2651 Y26.284 E0.451872\n",
      "G0 F8000 X85.4819 Y39.8176\n",
      "G1 F1000 X86.6289 Y26.2085 E0.454242\n",
      "G0 F8000 X84.8795 Y39.8165\n",
      "G1 F1000 X85.9928 Y26.1356 E0.456531\n",
      "G0 F8000 X84.2771 Y39.8155\n",
      "G1 F1000 X85.3566 Y26.0652 E0.458741\n",
      "G0 F8000 X83.6747 Y39.8145\n",
      "G1 F1000 X84.7205 Y25.9974 E0.460873\n",
      "G0 F8000 X83.0723 Y39.8135\n",
      "G1 F1000 X84.0843 Y25.932 E0.462928\n",
      "G0 F8000 X82.4699 Y39.8126\n",
      "G1 F1000 X83.4482 Y25.869 E0.464907\n",
      "G0 F8000 X81.8675 Y39.8117\n",
      "G1 F1000 X82.812 Y25.8084 E0.466811\n",
      "G0 F8000 X81.2651 Y39.8109\n",
      "G1 F1000 X82.1759 Y25.7502 E0.46864\n",
      "G0 F8000 X80.6627 Y39.8101\n",
      "G1 F1000 X81.5398 Y25.6943 E0.470397\n",
      "G0 F8000 X80.0602 Y39.8093\n",
      "G1 F1000 X80.9036 Y25.6408 E0.472081\n",
      "G0 F8000 X79.4578 Y39.8085\n",
      "G1 F1000 X80.2675 Y25.5895 E0.473693\n",
      "G0 F8000 X78.8554 Y39.8078\n",
      "G1 F1000 X79.6313 Y25.5405 E0.475234\n",
      "G0 F8000 X78.253 Y39.8072\n",
      "G1 F1000 X78.9952 Y25.4937 E0.476706\n",
      "G0 F8000 X77.6506 Y39.8065\n",
      "G1 F1000 X78.359 Y25.4492 E0.478107\n",
      "G0 F8000 X77.0482 Y39.8059\n",
      "G1 F1000 X77.7229 Y25.4069 E0.479439\n",
      "G0 F8000 X76.4458 Y39.8053\n",
      "G1 F1000 X77.0867 Y25.3667 E0.480704\n",
      "G0 F8000 X75.8434 Y39.8048\n",
      "G1 F1000 X76.4506 Y25.3287 E0.4819\n",
      "G0 F8000 X75.241 Y39.8042\n",
      "G1 F1000 X75.8145 Y25.2928 E0.483028\n",
      "G0 F8000 X74.6386 Y39.8038\n",
      "G1 F1000 X75.1783 Y25.2591 E0.48409\n",
      "G0 F8000 X74.0361 Y39.8033\n",
      "G1 F1000 X74.5422 Y25.2275 E0.485086\n",
      "G0 F8000 X73.4337 Y39.8029\n",
      "G1 F1000 X73.906 Y25.198 E0.486015\n",
      "G0 F8000 X72.8313 Y39.8025\n",
      "G1 F1000 X73.2699 Y25.1705 E0.486879\n",
      "G0 F8000 X72.2289 Y39.8021\n",
      "G1 F1000 X72.6337 Y25.1452 E0.487677\n",
      "G0 F8000 X71.6265 Y39.8018\n",
      "G1 F1000 X71.9976 Y25.1219 E0.48841\n",
      "G0 F8000 X71.0241 Y39.8015\n",
      "G1 F1000 X71.3614 Y25.1007 E0.489079\n",
      "G0 F8000 X70.4217 Y39.8012\n",
      "G1 F1000 X70.7253 Y25.0815 E0.489683\n",
      "G0 F8000 X69.8193 Y39.8009\n",
      "G1 F1000 X70.0892 Y25.0644 E0.490223\n",
      "G0 F8000 X69.2169 Y39.8007\n",
      "G1 F1000 X69.453 Y25.0492 E0.490699\n",
      "G0 F8000 X68.6145 Y39.8005\n",
      "G1 F1000 X68.8169 Y25.0362 E0.491111\n",
      "G0 F8000 X68.012 Y39.8004\n",
      "G1 F1000 X68.1807 Y25.0251 E0.491459\n",
      "G0 F8000 X67.4096 Y39.8002\n",
      "G1 F1000 X67.5446 Y25.0161 E0.491744\n",
      "G0 F8000 X66.8072 Y39.8001\n",
      "G1 F1000 X66.9084 Y25.009 E0.491965\n",
      "G0 F8000 X66.2048 Y39.8001\n",
      "G1 F1000 X66.2723 Y25.004 E0.492124\n",
      "G0 F8000 X65.6024 Y39.8\n",
      "G1 F1000 X65.6361 Y25.001 E0.492218\n",
      "G0 F8000 X65.0 Y39.8\n",
      "G1 F1000 Y25.0 E0.49225\n",
      "G0 F8000 X64.4 Y39.8\n",
      "G1 F1000 X64.3182 Y25.0006 E0.492237\n",
      "G0 F8000 X63.8 Y39.8\n",
      "G1 F1000 X63.6364 Y25.0025 E0.492198\n",
      "G0 F8000 X63.2 Y39.8\n",
      "G1 F1000 X62.9545 Y25.0056 E0.492132\n",
      "G0 F8000 X62.6 Y39.8\n",
      "G1 F1000 X62.2727 Y25.0099 E0.49204\n",
      "G0 F8000 X62.0 Y39.8\n",
      "G1 F1000 X61.5909 Y25.0155 E0.491923\n",
      "G0 F8000 X61.4 Y39.8\n",
      "G1 F1000 X60.9091 Y25.0223 E0.491778\n",
      "G0 F8000 X60.8 Y39.8\n",
      "G1 F1000 X60.2273 Y25.0304 E0.491608\n",
      "G0 F8000 X60.2 Y39.8\n",
      "G1 F1000 X59.5455 Y25.0397 E0.491411\n",
      "G0 F8000 X59.6 Y39.8\n",
      "G1 F1000 X58.8636 Y25.0503 E0.491188\n",
      "G0 F8000 X59.0 Y39.8\n",
      "G1 F1000 X58.1818 Y25.0621 E0.490939\n",
      "G0 F8000 X58.4 Y39.8\n",
      "G1 F1000 X57.5 Y25.0752 E0.490663\n",
      "G0 F8000 X57.8 Y39.8\n",
      "G1 F1000 X56.8182 Y25.0895 E0.490361\n",
      "G0 F8000 X57.2 Y39.8\n",
      "G1 F1000 X56.1364 Y25.1051 E0.490032\n",
      "G0 F8000 X56.6 Y39.8\n",
      "G1 F1000 X55.4545 Y25.122 E0.489677\n",
      "G0 F8000 X56.0 Y39.8\n",
      "G1 F1000 X54.7727 Y25.1401 E0.489295\n",
      "G0 F8000 X55.4 Y39.8\n",
      "G1 F1000 X54.0909 Y25.1595 E0.488887\n",
      "G0 F8000 X54.8 Y39.8\n",
      "G1 F1000 X53.4091 Y25.1802 E0.488452\n",
      "G0 F8000 X54.2 Y39.8\n",
      "G1 F1000 X52.7273 Y25.2022 E0.48799\n",
      "G0 F8000 X53.6 Y39.8\n",
      "G1 F1000 X52.0455 Y25.2255 E0.487501\n",
      "G0 F8000 X53.0 Y39.8\n",
      "G1 F1000 X51.3636 Y25.25 E0.486985\n",
      "G0 F8000 X52.4 Y39.8\n",
      "G1 F1000 X50.6818 Y25.2759 E0.486443\n",
      "G0 F8000 X51.8 Y39.8\n",
      "G1 F1000 X50.0 Y25.3031 E0.485873\n",
      "G0 F8000 X51.2 Y39.8\n",
      "G1 F1000 X49.3182 Y25.3316 E0.485276\n",
      "G0 F8000 X50.6 Y39.8\n",
      "G1 F1000 X48.6364 Y25.3614 E0.484651\n",
      "G0 F8000 X50.0 Y39.8\n",
      "G1 F1000 X47.9545 Y25.3925 E0.484\n",
      "G0 F8000 X49.4 Y39.8\n",
      "G1 F1000 X47.2727 Y25.425 E0.48332\n",
      "G0 F8000 X48.8 Y39.8\n",
      "G1 F1000 X46.5909 Y25.4589 E0.482613\n",
      "G0 F8000 X48.2 Y39.8\n",
      "G1 F1000 X45.9091 Y25.4941 E0.481879\n",
      "G0 F8000 X47.6 Y39.8\n",
      "G1 F1000 X45.2273 Y25.5307 E0.481116\n",
      "G0 F8000 X47.0 Y39.8\n",
      "G1 F1000 X44.5455 Y25.5686 E0.480326\n",
      "G0 F8000 X46.4 Y39.8\n",
      "G1 F1000 X43.8636 Y25.608 E0.479507\n",
      "G0 F8000 X45.8 Y39.8\n",
      "G1 F1000 X43.1818 Y25.6487 E0.478661\n",
      "G0 F8000 X45.2 Y39.8\n",
      "G1 F1000 X42.5 Y25.6909 E0.477785\n",
      "G0 F8000 Z0.8\n",
      "G0 F8000 X115.25 Y40.0\n",
      "G1 F100 Z0.2 E0.0\n",
      "G1 X114.999 E0.00417308\n",
      "G1 X114.748 E0.00589422\n",
      "G1 X114.496 E0.00720985\n",
      "G1 X114.245 E0.00831472\n",
      "G1 X113.994 E0.0092844\n",
      "G1 X113.743 E0.0101577\n",
      "G1 X113.491 E0.0109576\n",
      "G1 X113.24 E0.0116993\n",
      "G1 X112.989 E0.0123931\n",
      "G1 X112.737 E0.0130468\n",
      "G1 X112.486 E0.013666\n",
      "G1 X112.235 E0.0142553\n",
      "G1 X111.984 E0.0148183\n",
      "G1 X111.733 E0.0153578\n",
      "G1 X111.481 E0.0158762\n",
      "G1 X111.23 E0.0163755\n",
      "G1 X110.979 E0.0168575\n",
      "G1 X110.727 E0.0173236\n",
      "G1 X110.476 E0.017775\n",
      "G1 X110.225 E0.0182128\n",
      "G1 X109.974 E0.018638\n",
      "G1 X109.722 E0.0190514\n",
      "G1 X109.471 E0.0194538\n",
      "G1 X109.22 E0.0198458\n",
      "G1 X108.969 E0.0202281\n",
      "G1 X108.718 E0.0206012\n",
      "G1 X108.466 E0.0209656\n",
      "G1 X108.215 E0.0213216\n",
      "G1 X107.964 E0.0216699\n",
      "G1 X107.713 E0.0220106\n",
      "G1 X107.461 E0.0223442\n",
      "G1 X107.21 E0.0226709\n",
      "G1 X106.959 E0.0229911\n",
      "G1 X106.707 E0.0233051\n",
      "G1 X106.456 E0.023613\n",
      "G1 X106.205 E0.0239151\n",
      "G1 X105.954 E0.0242116\n",
      "G1 X105.703 E0.0245028\n",
      "G1 X105.451 E0.0247888\n",
      "G1 X105.2 E0.0250698\n",
      "G1 X104.949 E0.025346\n",
      "G1 X104.697 E0.0256175\n",
      "G1 X104.446 E0.0258844\n",
      "G1 X104.195 E0.026147\n",
      "G1 X103.944 E0.0264053\n",
      "G1 X103.692 E0.0266594\n",
      "G1 X103.441 E0.0269095\n",
      "G1 X103.19 E0.0271558\n",
      "G1 X102.939 E0.0273982\n",
      "G1 X102.688 E0.0276369\n",
      "G1 X102.436 E0.027872\n",
      "G1 X102.185 E0.0281036\n",
      "G1 X101.934 E0.0283317\n",
      "G1 X101.683 E0.0285565\n",
      "G1 X101.431 E0.028778\n",
      "G1 X101.18 E0.0289963\n",
      "G1 X100.929 E0.0292115\n",
      "G1 X100.677 E0.0294237\n",
      "G1 X100.426 E0.0296328\n",
      "G1 X100.175 E0.0298391\n",
      "G1 X99.9237 E0.0300424\n",
      "G1 X99.6725 E0.030243\n",
      "G1 X99.4213 E0.0304407\n",
      "G1 X99.17 E0.0306358\n",
      "G1 X98.9188 E0.0308283\n",
      "G1 X98.6675 E0.0310181\n",
      "G1 X98.4163 E0.0312054\n",
      "G1 X98.165 E0.0313902\n",
      "G1 X97.9137 E0.0315725\n",
      "G1 X97.6625 E0.0317524\n",
      "G1 X97.4112 E0.0319299\n",
      "G1 X97.16 E0.032105\n",
      "G1 X96.9087 E0.0322779\n",
      "G1 X96.6575 E0.0324485\n",
      "G1 X96.4062 E0.0326169\n",
      "G1 X96.155 E0.0327831\n",
      "G1 X95.9038 E0.0329471\n",
      "G1 X95.6525 E0.0331089\n",
      "G1 X95.4013 E0.0332687\n",
      "G1 X95.15 E0.0334264\n",
      "G1 X94.8988 E0.0335821\n",
      "G1 X94.6475 E0.0337358\n",
      "G1 X94.3962 E0.0338874\n",
      "G1 X94.145 E0.0340372\n",
      "G1 X93.8937 E0.0341849\n",
      "G1 X93.6425 E0.0343308\n",
      "G1 X93.3912 E0.0344748\n",
      "G1 X93.14 E0.0346169\n",
      "G1 X92.8888 E0.0347572\n",
      "G1 X92.6375 E0.0348957\n",
      "G1 X92.3863 E0.0350324\n",
      "G1 X92.135 E0.0351673\n",
      "G1 X91.8837 E0.0353005\n",
      "G1 X91.6325 E0.0354319\n",
      "G1 X91.3812 E0.0355616\n",
      "G1 X91.13 E0.0356897\n",
      "G1 X90.8787 E0.035816\n",
      "G1 X90.6275 E0.0359407\n",
      "G1 X90.3762 E0.0360638\n",
      "G1 X90.125 E0.0361852\n",
      "G1 X89.8738 E0.036305\n",
      "G1 X89.6225 E0.0364232\n",
      "G1 X89.3713 E0.0365399\n",
      "G1 X89.12 E0.0366549\n",
      "G1 X88.8688 E0.0367685\n",
      "G1 X88.6175 E0.0368805\n",
      "G1 X88.3663 E0.036991\n",
      "G1 X88.115 E0.0371\n",
      "G1 X87.8637 E0.0372074\n",
      "G1 X87.6125 E0.0373135\n",
      "G1 X87.3612 E0.037418\n",
      "G1 X87.11 E0.0375211\n",
      "G1 X86.8588 E0.0376227\n",
      "G1 X86.6075 E0.0377229\n",
      "G1 X86.3563 E0.0378217\n",
      "G1 X86.105 E0.0379191\n",
      "G1 X85.8538 E0.0380151\n",
      "G1 X85.6025 E0.0381097\n",
      "G1 X85.3512 E0.0382029\n",
      "G1 X85.1 E0.0382948\n",
      "G1 X84.8487 E0.0383853\n",
      "G1 X84.5975 E0.0384744\n",
      "G1 X84.3462 E0.0385623\n",
      "G1 X84.095 E0.0386488\n",
      "G1 X83.8438 E0.0387339\n",
      "G1 X83.5925 E0.0388178\n",
      "G1 X83.3413 E0.0389003\n",
      "G1 X83.09 E0.0389816\n",
      "G1 X82.8388 E0.0390616\n",
      "G1 X82.5875 E0.0391403\n",
      "G1 X82.3363 E0.0392177\n",
      "G1 X82.085 E0.0392938\n",
      "G1 X81.8338 E0.0393687\n",
      "G1 X81.5825 E0.0394424\n",
      "G1 X81.3312 E0.0395148\n",
      "G1 X81.08 E0.039586\n",
      "G1 X80.8287 E0.0396559\n",
      "G1 X80.5775 E0.0397247\n",
      "G1 X80.3263 E0.0397922\n",
      "G1 X80.075 E0.0398585\n",
      "G1 X79.8237 E0.0399236\n",
      "G1 X79.5725 E0.0399875\n",
      "G1 X79.3212 E0.0400502\n",
      "G1 X79.07 E0.0401117\n",
      "G1 X78.8187 E0.0401721\n",
      "G1 X78.5675 E0.0402312\n",
      "G1 X78.3162 E0.0402892\n",
      "G1 X78.065 E0.0403461\n",
      "G1 X77.8137 E0.0404017\n",
      "G1 X77.5625 E0.0404563\n",
      "G1 X77.3113 E0.0405096\n",
      "G1 X77.06 E0.0405618\n",
      "G1 X76.8088 E0.0406129\n",
      "G1 X76.5575 E0.0406629\n",
      "G1 X76.3063 E0.0407117\n",
      "G1 X76.055 E0.0407594\n",
      "G1 X75.8038 E0.0408059\n",
      "G1 X75.5525 E0.0408513\n",
      "G1 X75.3013 E0.0408957\n",
      "G1 X75.05 E0.0409389\n",
      "G1 X74.7987 E0.0409809\n",
      "G1 X74.5475 E0.0410219\n",
      "G1 X74.2963 E0.0410618\n",
      "G1 X74.045 E0.0411006\n",
      "G1 X73.7938 E0.0411383\n",
      "G1 X73.5425 E0.0411749\n",
      "G1 X73.2912 E0.0412103\n",
      "G1 X73.04 E0.0412448\n",
      "G1 X72.7887 E0.0412781\n",
      "G1 X72.5375 E0.0413103\n",
      "G1 X72.2862 E0.0413415\n",
      "G1 X72.035 E0.0413715\n",
      "G1 X71.7837 E0.0414005\n",
      "G1 X71.5325 E0.0414285\n",
      "G1 X71.2812 E0.0414553\n",
      "G1 X71.03 E0.0414811\n",
      "G1 X70.7788 E0.0415058\n",
      "G1 X70.5275 E0.0415295\n",
      "G1 X70.2763 E0.0415521\n",
      "G1 X70.025 E0.0415736\n",
      "G1 X69.7738 E0.0415941\n",
      "G1 X69.5225 E0.0416135\n",
      "G1 X69.2713 E0.0416318\n",
      "G1 X69.02 E0.0416491\n",
      "G1 X68.7687 E0.0416654\n",
      "G1 X68.5175 E0.0416806\n",
      "G1 X68.2662 E0.0416947\n",
      "G1 X68.015 E0.0417078\n",
      "G1 X67.7638 E0.0417198\n",
      "G1 X67.5125 E0.0417308\n",
      "G1 X67.2612 E0.0417407\n",
      "G1 X67.01 E0.0417496\n",
      "G1 X66.7587 E0.0417574\n",
      "G1 X66.5075 E0.0417642\n",
      "G1 X66.2562 E0.04177\n",
      "G1 X66.005 E0.0417747\n",
      "G1 X65.7537 E0.0417783\n",
      "G1 X65.5025 E0.041781\n",
      "G1 X65.2512 E0.0417825\n",
      "G1 X65.0 E0.041783\n",
      "G1 X30.0 E5.82052\n",
      "G0 F8000 X37.5\n",
      "G0 F8000 Z0.8\n",
      "G0 F8000 X102.75 Z1.0\n",
      "G1 F100 Z0.4 E0.0\n",
      "G1 X102.561 E0.0028215\n",
      "G1 X102.373 E0.0039852\n",
      "G1 X102.184 E0.00487472\n",
      "G1 X101.995 E0.00562174\n",
      "G1 X101.806 E0.00627736\n",
      "G1 X101.618 E0.00686779\n",
      "G1 X101.429 E0.00740864\n",
      "G1 X101.24 E0.00791009\n",
      "G1 X101.051 E0.00837921\n",
      "G1 X100.862 E0.00882116\n",
      "G1 X100.674 E0.00923984\n",
      "G1 X100.485 E0.00963829\n",
      "G1 X100.296 E0.0100189\n",
      "G1 X100.108 E0.0103837\n",
      "G1 X99.9188 E0.0107342\n",
      "G1 X99.73 E0.0110718\n",
      "G1 X99.5412 E0.0113977\n",
      "G1 X99.3525 E0.0117128\n",
      "G1 X99.1637 E0.012018\n",
      "G1 X98.975 E0.012314\n",
      "G1 X98.7862 E0.0126015\n",
      "G1 X98.5975 E0.012881\n",
      "G1 X98.4087 E0.0131531\n",
      "G1 X98.22 E0.0134182\n",
      "G1 X98.0312 E0.0136766\n",
      "G1 X97.8425 E0.0139289\n",
      "G1 X97.6538 E0.0141752\n",
      "G1 X97.465 E0.014416\n",
      "G1 X97.2763 E0.0146514\n",
      "G1 X97.0875 E0.0148818\n",
      "G1 X96.8988 E0.0151073\n",
      "G1 X96.71 E0.0153282\n",
      "G1 X96.5213 E0.0155447\n",
      "G1 X96.3325 E0.015757\n",
      "G1 X96.1437 E0.0159652\n",
      "G1 X95.955 E0.0161695\n",
      "G1 X95.7662 E0.01637\n",
      "G1 X95.5775 E0.0165668\n",
      "G1 X95.3888 E0.0167602\n",
      "G1 X95.2 E0.0169502\n",
      "G1 X95.0113 E0.0171369\n",
      "G1 X94.8225 E0.0173205\n",
      "G1 X94.6337 E0.017501\n",
      "G1 X94.445 E0.0176785\n",
      "G1 X94.2562 E0.0178531\n",
      "G1 X94.0675 E0.0180249\n",
      "G1 X93.8787 E0.0181941\n",
      "G1 X93.69 E0.0183605\n",
      "G1 X93.5012 E0.0185244\n",
      "G1 X93.3125 E0.0186858\n",
      "G1 X93.1238 E0.0188448\n",
      "G1 X92.935 E0.0190014\n",
      "G1 X92.7463 E0.0191556\n",
      "G1 X92.5575 E0.0193076\n",
      "G1 X92.3688 E0.0194574\n",
      "G1 X92.18 E0.019605\n",
      "G1 X91.9913 E0.0197505\n",
      "G1 X91.8025 E0.0198939\n",
      "G1 X91.6137 E0.0200353\n",
      "G1 X91.425 E0.0201748\n",
      "G1 X91.2362 E0.0203123\n",
      "G1 X91.0475 E0.0204479\n",
      "G1 X90.8588 E0.0205816\n",
      "G1 X90.67 E0.0207135\n",
      "G1 X90.4813 E0.0208436\n",
      "G1 X90.2925 E0.0209719\n",
      "G1 X90.1037 E0.0210986\n",
      "G1 X89.915 E0.0212235\n",
      "G1 X89.7262 E0.0213468\n",
      "G1 X89.5375 E0.0214684\n",
      "G1 X89.3487 E0.0215884\n",
      "G1 X89.16 E0.0217068\n",
      "G1 X88.9712 E0.0218237\n",
      "G1 X88.7825 E0.0219391\n",
      "G1 X88.5938 E0.0220529\n",
      "G1 X88.405 E0.0221653\n",
      "G1 X88.2163 E0.0222761\n",
      "G1 X88.0275 E0.0223856\n",
      "G1 X87.8388 E0.0224936\n",
      "G1 X87.65 E0.0226003\n",
      "G1 X87.4613 E0.0227055\n",
      "G1 X87.2725 E0.0228094\n",
      "G1 X87.0838 E0.022912\n",
      "G1 X86.895 E0.0230132\n",
      "G1 X86.7062 E0.0231131\n",
      "G1 X86.5175 E0.0232117\n",
      "G1 X86.3287 E0.0233091\n",
      "G1 X86.14 E0.0234052\n",
      "G1 X85.9513 E0.0235\n",
      "G1 X85.7625 E0.0235937\n",
      "G1 X85.5738 E0.0236861\n",
      "G1 X85.385 E0.0237773\n",
      "G1 X85.1962 E0.0238673\n",
      "G1 X85.0075 E0.0239562\n",
      "G1 X84.8187 E0.0240439\n",
      "G1 X84.63 E0.0241305\n",
      "G1 X84.4412 E0.0242159\n",
      "G1 X84.2525 E0.0243002\n",
      "G1 X84.0637 E0.0243834\n",
      "G1 X83.875 E0.0244655\n",
      "G1 X83.6863 E0.0245465\n",
      "G1 X83.4975 E0.0246264\n",
      "G1 X83.3088 E0.0247053\n",
      "G1 X83.12 E0.0247831\n",
      "G1 X82.9313 E0.0248599\n",
      "G1 X82.7425 E0.0249356\n",
      "G1 X82.5538 E0.0250103\n",
      "G1 X82.365 E0.025084\n",
      "G1 X82.1762 E0.0251567\n",
      "G1 X81.9875 E0.0252283\n",
      "G1 X81.7987 E0.025299\n",
      "G1 X81.61 E0.0253687\n",
      "G1 X81.4213 E0.0254375\n",
      "G1 X81.2325 E0.0255052\n",
      "G1 X81.0438 E0.025572\n",
      "G1 X80.855 E0.0256379\n",
      "G1 X80.6663 E0.0257028\n",
      "G1 X80.4775 E0.0257667\n",
      "G1 X80.2887 E0.0258297\n",
      "G1 X80.1 E0.0258919\n",
      "G1 X79.9112 E0.025953\n",
      "G1 X79.7225 E0.0260133\n",
      "G1 X79.5337 E0.0260727\n",
      "G1 X79.345 E0.0261312\n",
      "G1 X79.1562 E0.0261888\n",
      "G1 X78.9675 E0.0262455\n",
      "G1 X78.7788 E0.0263013\n",
      "G1 X78.59 E0.0263562\n",
      "G1 X78.4013 E0.0264103\n",
      "G1 X78.2125 E0.0264635\n",
      "G1 X78.0238 E0.0265158\n",
      "G1 X77.835 E0.0265673\n",
      "G1 X77.6462 E0.026618\n",
      "G1 X77.4575 E0.0266678\n",
      "G1 X77.2687 E0.0267167\n",
      "G1 X77.08 E0.0267649\n",
      "G1 X76.8912 E0.0268122\n",
      "G1 X76.7025 E0.0268586\n",
      "G1 X76.5138 E0.0269043\n",
      "G1 X76.325 E0.0269491\n",
      "G1 X76.1363 E0.0269931\n",
      "G1 X75.9475 E0.0270363\n",
      "G1 X75.7587 E0.0270787\n",
      "G1 X75.57 E0.0271203\n",
      "G1 X75.3812 E0.0271611\n",
      "G1 X75.1925 E0.0272011\n",
      "G1 X75.0037 E0.0272403\n",
      "G1 X74.815 E0.0272788\n",
      "G1 X74.6262 E0.0273164\n",
      "G1 X74.4375 E0.0273533\n",
      "G1 X74.2488 E0.0273893\n",
      "G1 X74.06 E0.0274247\n",
      "G1 X73.8713 E0.0274592\n",
      "G1 X73.6825 E0.027493\n",
      "G1 X73.4938 E0.027526\n",
      "G1 X73.305 E0.0275582\n",
      "G1 X73.1163 E0.0275897\n",
      "G1 X72.9275 E0.0276204\n",
      "G1 X72.7387 E0.0276503\n",
      "G1 X72.55 E0.0276796\n",
      "G1 X72.3612 E0.027708\n",
      "G1 X72.1725 E0.0277357\n",
      "G1 X71.9838 E0.0277627\n",
      "G1 X71.795 E0.0277889\n",
      "G1 X71.6063 E0.0278144\n",
      "G1 X71.4175 E0.0278391\n",
      "G1 X71.2288 E0.0278631\n",
      "G1 X71.04 E0.0278864\n",
      "G1 X70.8512 E0.0279089\n",
      "G1 X70.6625 E0.0279307\n",
      "G1 X70.4737 E0.0279518\n",
      "G1 X70.285 E0.0279721\n",
      "G1 X70.0962 E0.0279917\n",
      "G1 X69.9075 E0.0280106\n",
      "G1 X69.7188 E0.0280288\n",
      "G1 X69.53 E0.0280462\n",
      "G1 X69.3413 E0.0280629\n",
      "G1 X69.1525 E0.0280789\n",
      "G1 X68.9638 E0.0280942\n",
      "G1 X68.775 E0.0281087\n",
      "G1 X68.5863 E0.0281226\n",
      "G1 X68.3975 E0.0281357\n",
      "G1 X68.2088 E0.0281481\n",
      "G1 X68.02 E0.0281598\n",
      "G1 X67.8312 E0.0281708\n",
      "G1 X67.6425 E0.028181\n",
      "G1 X67.4537 E0.0281906\n",
      "G1 X67.265 E0.0281994\n",
      "G1 X67.0763 E0.0282076\n",
      "G1 X66.8875 E0.028215\n",
      "G1 X66.6987 E0.0282217\n",
      "G1 X66.51 E0.0282277\n",
      "G1 X66.3212 E0.028233\n",
      "G1 X66.1325 E0.0282376\n",
      "G1 X65.9437 E0.0282415\n",
      "G1 X65.755 E0.0282447\n",
      "G1 X65.5662 E0.0282471\n",
      "G1 X65.3775 E0.0282489\n",
      "G1 X65.1887 E0.02825\n",
      "G1 X65.0 E0.0282503\n",
      "G1 X30.0 E5.23847\n",
      "G0 F8000 X37.5\n",
      "G0 F8000 Z1.0\n",
      "G0 F8000 X90.25 Z1.2\n",
      "G1 F100 Z0.6 E0.0\n",
      "G1 X90.1238 E0.00167754\n",
      "G1 X89.9975 E0.00236942\n",
      "G1 X89.8713 E0.00289829\n",
      "G1 X89.745 E0.00334244\n",
      "G1 X89.6188 E0.00373223\n",
      "G1 X89.4925 E0.00408328\n",
      "G1 X89.3663 E0.00440485\n",
      "G1 X89.24 E0.00470298\n",
      "G1 X89.1137 E0.0049819\n",
      "G1 X88.9875 E0.00524466\n",
      "G1 X88.8612 E0.00549359\n",
      "G1 X88.735 E0.00573049\n",
      "G1 X88.6088 E0.00595679\n",
      "G1 X88.4825 E0.00617367\n",
      "G1 X88.3563 E0.00638207\n",
      "G1 X88.23 E0.00658281\n",
      "G1 X88.1037 E0.00677656\n",
      "G1 X87.9775 E0.00696391\n",
      "G1 X87.8512 E0.00714537\n",
      "G1 X87.725 E0.00732137\n",
      "G1 X87.5987 E0.00749229\n",
      "G1 X87.4725 E0.00765848\n",
      "G1 X87.3462 E0.00782024\n",
      "G1 X87.22 E0.00797783\n",
      "G1 X87.0938 E0.00813151\n",
      "G1 X86.9675 E0.00828148\n",
      "G1 X86.8413 E0.00842794\n",
      "G1 X86.715 E0.00857109\n",
      "G1 X86.5888 E0.00871107\n",
      "G1 X86.4625 E0.00884804\n",
      "G1 X86.3363 E0.00898213\n",
      "G1 X86.21 E0.00911348\n",
      "G1 X86.0838 E0.0092422\n",
      "G1 X85.9575 E0.0093684\n",
      "G1 X85.8312 E0.00949218\n",
      "G1 X85.705 E0.00961363\n",
      "G1 X85.5787 E0.00973284\n",
      "G1 X85.4525 E0.00984989\n",
      "G1 X85.3263 E0.00996486\n",
      "G1 X85.2 E0.0100778\n",
      "G1 X85.0738 E0.0101888\n",
      "G1 X84.9475 E0.010298\n",
      "G1 X84.8212 E0.0104053\n",
      "G1 X84.695 E0.0105108\n",
      "G1 X84.5687 E0.0106147\n",
      "G1 X84.4425 E0.0107168\n",
      "G1 X84.3162 E0.0108174\n",
      "G1 X84.19 E0.0109163\n",
      "G1 X84.0637 E0.0110138\n",
      "G1 X83.9375 E0.0111098\n",
      "G1 X83.8113 E0.0112043\n",
      "G1 X83.685 E0.0112974\n",
      "G1 X83.5588 E0.0113891\n",
      "G1 X83.4325 E0.0114794\n",
      "G1 X83.3063 E0.0115685\n",
      "G1 X83.18 E0.0116562\n",
      "G1 X83.0538 E0.0117428\n",
      "G1 X82.9275 E0.011828\n",
      "G1 X82.8012 E0.0119121\n",
      "G1 X82.675 E0.011995\n",
      "G1 X82.5487 E0.0120768\n",
      "G1 X82.4225 E0.0121574\n",
      "G1 X82.2963 E0.0122369\n",
      "G1 X82.17 E0.0123153\n",
      "G1 X82.0438 E0.0123927\n",
      "G1 X81.9175 E0.012469\n",
      "G1 X81.7912 E0.0125443\n",
      "G1 X81.665 E0.0126185\n",
      "G1 X81.5387 E0.0126918\n",
      "G1 X81.4125 E0.0127641\n",
      "G1 X81.2862 E0.0128355\n",
      "G1 X81.16 E0.0129059\n",
      "G1 X81.0337 E0.0129754\n",
      "G1 X80.9075 E0.013044\n",
      "G1 X80.7812 E0.0131117\n",
      "G1 X80.655 E0.0131785\n",
      "G1 X80.5288 E0.0132444\n",
      "G1 X80.4025 E0.0133095\n",
      "G1 X80.2763 E0.0133737\n",
      "G1 X80.15 E0.0134371\n",
      "G1 X80.0238 E0.0134997\n",
      "G1 X79.8975 E0.0135614\n",
      "G1 X79.7713 E0.0136224\n",
      "G1 X79.645 E0.0136826\n",
      "G1 X79.5187 E0.013742\n",
      "G1 X79.3925 E0.0138006\n",
      "G1 X79.2662 E0.0138585\n",
      "G1 X79.14 E0.0139157\n",
      "G1 X79.0138 E0.0139721\n",
      "G1 X78.8875 E0.0140277\n",
      "G1 X78.7613 E0.0140827\n",
      "G1 X78.635 E0.0141369\n",
      "G1 X78.5087 E0.0141904\n",
      "G1 X78.3825 E0.0142433\n",
      "G1 X78.2562 E0.0142954\n",
      "G1 X78.13 E0.0143469\n",
      "G1 X78.0037 E0.0143977\n",
      "G1 X77.8775 E0.0144478\n",
      "G1 X77.7512 E0.0144973\n",
      "G1 X77.625 E0.0145461\n",
      "G1 X77.4988 E0.0145942\n",
      "G1 X77.3725 E0.0146418\n",
      "G1 X77.2463 E0.0146887\n",
      "G1 X77.12 E0.0147349\n",
      "G1 X76.9938 E0.0147806\n",
      "G1 X76.8675 E0.0148256\n",
      "G1 X76.7413 E0.01487\n",
      "G1 X76.615 E0.0149138\n",
      "G1 X76.4887 E0.014957\n",
      "G1 X76.3625 E0.0149996\n",
      "G1 X76.2362 E0.0150417\n",
      "G1 X76.11 E0.0150831\n",
      "G1 X75.9838 E0.015124\n",
      "G1 X75.8575 E0.0151642\n",
      "G1 X75.7313 E0.015204\n",
      "G1 X75.605 E0.0152431\n",
      "G1 X75.4787 E0.0152817\n",
      "G1 X75.3525 E0.0153197\n",
      "G1 X75.2262 E0.0153572\n",
      "G1 X75.1 E0.0153941\n",
      "G1 X74.9737 E0.0154305\n",
      "G1 X74.8475 E0.0154663\n",
      "G1 X74.7212 E0.0155016\n",
      "G1 X74.595 E0.0155364\n",
      "G1 X74.4688 E0.0155707\n",
      "G1 X74.3425 E0.0156044\n",
      "G1 X74.2163 E0.0156375\n",
      "G1 X74.09 E0.0156702\n",
      "G1 X73.9638 E0.0157024\n",
      "G1 X73.8375 E0.015734\n",
      "G1 X73.7113 E0.0157651\n",
      "G1 X73.585 E0.0157957\n",
      "G1 X73.4587 E0.0158258\n",
      "G1 X73.3325 E0.0158555\n",
      "G1 X73.2062 E0.0158846\n",
      "G1 X73.08 E0.0159132\n",
      "G1 X72.9537 E0.0159413\n",
      "G1 X72.8275 E0.0159689\n",
      "G1 X72.7013 E0.0159961\n",
      "G1 X72.575 E0.0160227\n",
      "G1 X72.4488 E0.0160489\n",
      "G1 X72.3225 E0.0160746\n",
      "G1 X72.1962 E0.0160998\n",
      "G1 X72.07 E0.0161245\n",
      "G1 X71.9437 E0.0161488\n",
      "G1 X71.8175 E0.0161726\n",
      "G1 X71.6912 E0.0161959\n",
      "G1 X71.565 E0.0162187\n",
      "G1 X71.4387 E0.0162411\n",
      "G1 X71.3125 E0.016263\n",
      "G1 X71.1863 E0.0162845\n",
      "G1 X71.06 E0.0163055\n",
      "G1 X70.9338 E0.016326\n",
      "G1 X70.8075 E0.0163461\n",
      "G1 X70.6813 E0.0163657\n",
      "G1 X70.555 E0.0163849\n",
      "G1 X70.4288 E0.0164036\n",
      "G1 X70.3025 E0.0164218\n",
      "G1 X70.1762 E0.0164396\n",
      "G1 X70.05 E0.016457\n",
      "G1 X69.9237 E0.0164739\n",
      "G1 X69.7975 E0.0164904\n",
      "G1 X69.6713 E0.0165064\n",
      "G1 X69.545 E0.016522\n",
      "G1 X69.4188 E0.0165372\n",
      "G1 X69.2925 E0.0165519\n",
      "G1 X69.1663 E0.0165661\n",
      "G1 X69.04 E0.01658\n",
      "G1 X68.9137 E0.0165934\n",
      "G1 X68.7875 E0.0166063\n",
      "G1 X68.6612 E0.0166189\n",
      "G1 X68.535 E0.0166309\n",
      "G1 X68.4087 E0.0166426\n",
      "G1 X68.2825 E0.0166538\n",
      "G1 X68.1562 E0.0166646\n",
      "G1 X68.03 E0.016675\n",
      "G1 X67.9038 E0.0166849\n",
      "G1 X67.7775 E0.0166944\n",
      "G1 X67.6513 E0.0167035\n",
      "G1 X67.525 E0.0167122\n",
      "G1 X67.3988 E0.0167204\n",
      "G1 X67.2725 E0.0167282\n",
      "G1 X67.1462 E0.0167356\n",
      "G1 X67.02 E0.0167425\n",
      "G1 X66.8937 E0.0167491\n",
      "G1 X66.7675 E0.0167552\n",
      "G1 X66.6412 E0.0167608\n",
      "G1 X66.515 E0.0167661\n",
      "G1 X66.3888 E0.0167709\n",
      "G1 X66.2625 E0.0167754\n",
      "G1 X66.1363 E0.0167794\n",
      "G1 X66.01 E0.0167829\n",
      "G1 X65.8837 E0.0167861\n",
      "G1 X65.7575 E0.0167888\n",
      "G1 X65.6312 E0.0167911\n",
      "G1 X65.505 E0.016793\n",
      "G1 X65.3787 E0.0167945\n",
      "G1 X65.2525 E0.0167955\n",
      "G1 X65.1262 E0.0167962\n",
      "G1 X65.0 E0.0167964\n",
      "G1 X30.0 E4.65642\n",
      "G0 F8000 X37.5\n",
      "G0 F8000 Z1.2\n"
     ]
    }
   ],
   "source": [
    "print(fc.transform(steps, 'gcode'))"
   ]
  },
  {
   "cell_type": "code",
   "execution_count": 8,
   "id": "f4da2c25",
   "metadata": {},
   "outputs": [],
   "source": [
    "# create and download gcode for the design\n",
    "\n",
    "gcode_controls = fc.GcodeControls(\n",
    "    printer_name = printer_name, \n",
    "    save_as = design_name + \"_EW\" + str(EW) + \"_EH\" + str(EH),\n",
    "    initialization_data={\n",
    "    'primer': 'front_lines_then_x', \n",
    "    'print_speed': print_speed,\n",
    "    \"nozzle_temp\": nozzle_temp,\n",
    "    \"bed_temp\": bed_temp,\n",
    "    'fan_percent': fan_percent,\n",
    "    \"extrusion_width\": EW,\n",
    "    \"extrusion_height\": EH,\n",
    "    \"material_flow_percent\": material_flow_percent})\n",
    "gcode = fc.transform(steps, 'gcode', gcode_controls)"
   ]
  }
 ],
 "metadata": {
  "kernelspec": {
   "display_name": "Python 3 (ipykernel)",
   "language": "python",
   "name": "python3"
  },
  "language_info": {
   "codemirror_mode": {
    "name": "ipython",
    "version": 3
   },
   "file_extension": ".py",
   "mimetype": "text/x-python",
   "name": "python",
   "nbconvert_exporter": "python",
   "pygments_lexer": "ipython3",
   "version": "3.10.11"
  }
 },
 "nbformat": 4,
 "nbformat_minor": 5
}
